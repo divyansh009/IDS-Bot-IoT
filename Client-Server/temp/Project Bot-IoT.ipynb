{
 "cells": [
  {
   "cell_type": "markdown",
   "metadata": {},
   "source": [
    "# Analysis and Classification of Attacks using Realistic Botnet Dataset"
   ]
  },
  {
   "cell_type": "code",
   "execution_count": 8,
   "metadata": {},
   "outputs": [
    {
     "name": "stdout",
     "output_type": "stream",
     "text": [
      "Collecting pip\n",
      "\u001b[?25l  Downloading https://files.pythonhosted.org/packages/4d/16/0a14ca596f30316efd412a60bdfac02a7259bf8673d4d917dc60b9a21812/pip-22.0.4-py3-none-any.whl (2.1MB)\n",
      "\u001b[K     |████████████████████████████████| 2.1MB 1.1MB/s eta 0:00:01\n",
      "\u001b[?25hInstalling collected packages: pip\n",
      "  Found existing installation: pip 19.2.3\n",
      "    Uninstalling pip-19.2.3:\n",
      "      Successfully uninstalled pip-19.2.3\n",
      "Successfully installed pip-22.0.4\n"
     ]
    }
   ],
   "source": [
    "!pip install --upgrade pip"
   ]
  },
  {
   "cell_type": "code",
   "execution_count": 10,
   "metadata": {},
   "outputs": [
    {
     "name": "stdout",
     "output_type": "stream",
     "text": [
      "Collecting numpy\n",
      "  Using cached numpy-1.21.6-cp37-cp37m-macosx_10_9_x86_64.whl (16.9 MB)\n",
      "Collecting matplotlib\n",
      "  Using cached matplotlib-3.5.1-cp37-cp37m-macosx_10_9_x86_64.whl (7.3 MB)\n",
      "Collecting sklearn\n",
      "  Using cached sklearn-0.0.tar.gz (1.1 kB)\n",
      "  Preparing metadata (setup.py) ... \u001b[?25ldone\n",
      "\u001b[?25hCollecting xgboost\n",
      "  Using cached xgboost-1.6.0-py3-none-macosx_10_15_x86_64.macosx_11_0_x86_64.macosx_12_0_x86_64.whl (1.7 MB)\n",
      "Collecting seaborn\n",
      "  Using cached seaborn-0.11.2-py3-none-any.whl (292 kB)\n",
      "Collecting pandas\n",
      "  Downloading pandas-1.3.5-cp37-cp37m-macosx_10_9_x86_64.whl (11.0 MB)\n",
      "\u001b[2K     \u001b[38;2;114;156;31m━━━━━━━━━━━━━━━━━━━━━━━━━━━━━━━━━━━━━━━━\u001b[0m \u001b[32m11.0/11.0 MB\u001b[0m \u001b[31m13.8 MB/s\u001b[0m eta \u001b[36m0:00:00\u001b[0mm eta \u001b[36m0:00:01\u001b[0m0:01\u001b[0m01\u001b[0m\n",
      "\u001b[?25hCollecting pillow>=6.2.0\n",
      "  Downloading Pillow-9.1.0-cp37-cp37m-macosx_10_9_x86_64.whl (3.1 MB)\n",
      "\u001b[2K     \u001b[38;2;114;156;31m━━━━━━━━━━━━━━━━━━━━━━━━━━━━━━━━━━━━━━━━\u001b[0m \u001b[32m3.1/3.1 MB\u001b[0m \u001b[31m15.4 MB/s\u001b[0m eta \u001b[36m0:00:00\u001b[0mm eta \u001b[36m0:00:01\u001b[0m[36m0:00:01\u001b[0m\n",
      "\u001b[?25hCollecting kiwisolver>=1.0.1\n",
      "  Downloading kiwisolver-1.4.2-cp37-cp37m-macosx_10_9_x86_64.whl (65 kB)\n",
      "\u001b[2K     \u001b[38;2;114;156;31m━━━━━━━━━━━━━━━━━━━━━━━━━━━━━━━━━━━━━━━━\u001b[0m \u001b[32m65.1/65.1 KB\u001b[0m \u001b[31m1.9 MB/s\u001b[0m eta \u001b[36m0:00:00\u001b[0m\n",
      "\u001b[?25hRequirement already satisfied: packaging>=20.0 in /Users/hrugvedwath/.pyenv/versions/3.7.7/lib/python3.7/site-packages (from matplotlib) (21.3)\n",
      "Collecting fonttools>=4.22.0\n",
      "  Using cached fonttools-4.32.0-py3-none-any.whl (900 kB)\n",
      "Requirement already satisfied: pyparsing>=2.2.1 in /Users/hrugvedwath/.pyenv/versions/3.7.7/lib/python3.7/site-packages (from matplotlib) (3.0.8)\n",
      "Requirement already satisfied: python-dateutil>=2.7 in /Users/hrugvedwath/.pyenv/versions/3.7.7/lib/python3.7/site-packages (from matplotlib) (2.8.2)\n",
      "Collecting cycler>=0.10\n",
      "  Using cached cycler-0.11.0-py3-none-any.whl (6.4 kB)\n",
      "Collecting scikit-learn\n",
      "  Downloading scikit_learn-1.0.2-cp37-cp37m-macosx_10_13_x86_64.whl (7.8 MB)\n",
      "\u001b[2K     \u001b[38;2;114;156;31m━━━━━━━━━━━━━━━━━━━━━━━━━━━━━━━━━━━━━━━━\u001b[0m \u001b[32m7.8/7.8 MB\u001b[0m \u001b[31m12.7 MB/s\u001b[0m eta \u001b[36m0:00:00\u001b[0mm eta \u001b[36m0:00:01\u001b[0m0:01\u001b[0m:01\u001b[0m\n",
      "\u001b[?25hCollecting scipy\n",
      "  Downloading scipy-1.7.3-cp37-cp37m-macosx_10_9_x86_64.whl (33.0 MB)\n",
      "\u001b[2K     \u001b[38;2;114;156;31m━━━━━━━━━━━━━━━━━━━━━━━━━━━━━━━━━━━━━━━━\u001b[0m \u001b[32m33.0/33.0 MB\u001b[0m \u001b[31m9.3 MB/s\u001b[0m eta \u001b[36m0:00:00\u001b[0m0m eta \u001b[36m0:00:01\u001b[0m[36m0:00:01\u001b[0m\n",
      "\u001b[?25hCollecting pytz>=2017.3\n",
      "  Using cached pytz-2022.1-py2.py3-none-any.whl (503 kB)\n",
      "Collecting typing-extensions\n",
      "  Downloading typing_extensions-4.2.0-py3-none-any.whl (24 kB)\n",
      "Requirement already satisfied: six>=1.5 in /Users/hrugvedwath/.pyenv/versions/3.7.7/lib/python3.7/site-packages (from python-dateutil>=2.7->matplotlib) (1.16.0)\n",
      "Collecting joblib>=0.11\n",
      "  Using cached joblib-1.1.0-py2.py3-none-any.whl (306 kB)\n",
      "Collecting threadpoolctl>=2.0.0\n",
      "  Using cached threadpoolctl-3.1.0-py3-none-any.whl (14 kB)\n",
      "Using legacy 'setup.py install' for sklearn, since package 'wheel' is not installed.\n",
      "Installing collected packages: pytz, typing-extensions, threadpoolctl, pillow, numpy, joblib, fonttools, cycler, scipy, pandas, kiwisolver, xgboost, scikit-learn, matplotlib, sklearn, seaborn\n",
      "  Running setup.py install for sklearn ... \u001b[?25ldone\n",
      "\u001b[?25hSuccessfully installed cycler-0.11.0 fonttools-4.32.0 joblib-1.1.0 kiwisolver-1.4.2 matplotlib-3.5.1 numpy-1.21.6 pandas-1.3.5 pillow-9.1.0 pytz-2022.1 scikit-learn-1.0.2 scipy-1.7.3 seaborn-0.11.2 sklearn-0.0 threadpoolctl-3.1.0 typing-extensions-4.2.0 xgboost-1.6.0\n"
     ]
    }
   ],
   "source": [
    "!pip3 install numpy matplotlib sklearn xgboost seaborn pandas"
   ]
  },
  {
   "cell_type": "code",
   "execution_count": 3,
   "metadata": {},
   "outputs": [],
   "source": [
    "# Importing necessary libraries\n",
    "import numpy as np\n",
    "import pandas as pd\n",
    "import matplotlib.pyplot as plt\n",
    "import seaborn as sns\n",
    "\n",
    "from sklearn.preprocessing import LabelEncoder, StandardScaler\n",
    "from sklearn.model_selection import train_test_split\n",
    "from sklearn.ensemble import RandomForestClassifier\n",
    "from sklearn.naive_bayes import GaussianNB \n",
    "from sklearn.neighbors import KNeighborsClassifier \n",
    "from sklearn.tree import DecisionTreeClassifier \n",
    "from xgboost import XGBClassifier\n",
    "from sklearn.metrics import confusion_matrix, classification_report\n",
    "\n",
    "%matplotlib inline"
   ]
  },
  {
   "cell_type": "code",
   "execution_count": 4,
   "metadata": {},
   "outputs": [],
   "source": [
    "import warnings\n",
    "warnings.filterwarnings('ignore')"
   ]
  },
  {
   "cell_type": "code",
   "execution_count": 5,
   "metadata": {},
   "outputs": [
    {
     "data": {
      "text/html": [
       "<div>\n",
       "<style scoped>\n",
       "    .dataframe tbody tr th:only-of-type {\n",
       "        vertical-align: middle;\n",
       "    }\n",
       "\n",
       "    .dataframe tbody tr th {\n",
       "        vertical-align: top;\n",
       "    }\n",
       "\n",
       "    .dataframe thead th {\n",
       "        text-align: right;\n",
       "    }\n",
       "</style>\n",
       "<table border=\"1\" class=\"dataframe\">\n",
       "  <thead>\n",
       "    <tr style=\"text-align: right;\">\n",
       "      <th></th>\n",
       "      <th>pkSeqID</th>\n",
       "      <th>proto</th>\n",
       "      <th>saddr</th>\n",
       "      <th>sport</th>\n",
       "      <th>daddr</th>\n",
       "      <th>dport</th>\n",
       "      <th>seq</th>\n",
       "      <th>stddev</th>\n",
       "      <th>N_IN_Conn_P_SrcIP</th>\n",
       "      <th>min</th>\n",
       "      <th>state_number</th>\n",
       "      <th>mean</th>\n",
       "      <th>N_IN_Conn_P_DstIP</th>\n",
       "      <th>drate</th>\n",
       "      <th>srate</th>\n",
       "      <th>max</th>\n",
       "      <th>attack</th>\n",
       "      <th>category</th>\n",
       "      <th>subcategory</th>\n",
       "    </tr>\n",
       "  </thead>\n",
       "  <tbody>\n",
       "    <tr>\n",
       "      <th>0</th>\n",
       "      <td>3142762</td>\n",
       "      <td>udp</td>\n",
       "      <td>192.168.100.150</td>\n",
       "      <td>6551</td>\n",
       "      <td>192.168.100.3</td>\n",
       "      <td>80</td>\n",
       "      <td>251984</td>\n",
       "      <td>1.900363</td>\n",
       "      <td>100</td>\n",
       "      <td>0.000000</td>\n",
       "      <td>4</td>\n",
       "      <td>2.687519</td>\n",
       "      <td>100</td>\n",
       "      <td>0.0</td>\n",
       "      <td>0.494549</td>\n",
       "      <td>4.031619</td>\n",
       "      <td>1</td>\n",
       "      <td>DDoS</td>\n",
       "      <td>UDP</td>\n",
       "    </tr>\n",
       "    <tr>\n",
       "      <th>1</th>\n",
       "      <td>2432264</td>\n",
       "      <td>tcp</td>\n",
       "      <td>192.168.100.150</td>\n",
       "      <td>5532</td>\n",
       "      <td>192.168.100.3</td>\n",
       "      <td>80</td>\n",
       "      <td>256724</td>\n",
       "      <td>0.078003</td>\n",
       "      <td>38</td>\n",
       "      <td>3.856930</td>\n",
       "      <td>3</td>\n",
       "      <td>3.934927</td>\n",
       "      <td>100</td>\n",
       "      <td>0.0</td>\n",
       "      <td>0.256493</td>\n",
       "      <td>4.012924</td>\n",
       "      <td>1</td>\n",
       "      <td>DDoS</td>\n",
       "      <td>TCP</td>\n",
       "    </tr>\n",
       "    <tr>\n",
       "      <th>2</th>\n",
       "      <td>1976315</td>\n",
       "      <td>tcp</td>\n",
       "      <td>192.168.100.147</td>\n",
       "      <td>27165</td>\n",
       "      <td>192.168.100.3</td>\n",
       "      <td>80</td>\n",
       "      <td>62921</td>\n",
       "      <td>0.268666</td>\n",
       "      <td>100</td>\n",
       "      <td>2.974100</td>\n",
       "      <td>3</td>\n",
       "      <td>3.341429</td>\n",
       "      <td>100</td>\n",
       "      <td>0.0</td>\n",
       "      <td>0.294880</td>\n",
       "      <td>3.609205</td>\n",
       "      <td>1</td>\n",
       "      <td>DDoS</td>\n",
       "      <td>TCP</td>\n",
       "    </tr>\n",
       "    <tr>\n",
       "      <th>3</th>\n",
       "      <td>1240757</td>\n",
       "      <td>udp</td>\n",
       "      <td>192.168.100.150</td>\n",
       "      <td>48719</td>\n",
       "      <td>192.168.100.3</td>\n",
       "      <td>80</td>\n",
       "      <td>99168</td>\n",
       "      <td>1.823185</td>\n",
       "      <td>63</td>\n",
       "      <td>0.000000</td>\n",
       "      <td>4</td>\n",
       "      <td>3.222832</td>\n",
       "      <td>63</td>\n",
       "      <td>0.0</td>\n",
       "      <td>0.461435</td>\n",
       "      <td>4.942302</td>\n",
       "      <td>1</td>\n",
       "      <td>DoS</td>\n",
       "      <td>UDP</td>\n",
       "    </tr>\n",
       "    <tr>\n",
       "      <th>4</th>\n",
       "      <td>3257991</td>\n",
       "      <td>udp</td>\n",
       "      <td>192.168.100.147</td>\n",
       "      <td>22461</td>\n",
       "      <td>192.168.100.3</td>\n",
       "      <td>80</td>\n",
       "      <td>105063</td>\n",
       "      <td>0.822418</td>\n",
       "      <td>100</td>\n",
       "      <td>2.979995</td>\n",
       "      <td>4</td>\n",
       "      <td>3.983222</td>\n",
       "      <td>100</td>\n",
       "      <td>0.0</td>\n",
       "      <td>1.002999</td>\n",
       "      <td>4.994452</td>\n",
       "      <td>1</td>\n",
       "      <td>DDoS</td>\n",
       "      <td>UDP</td>\n",
       "    </tr>\n",
       "  </tbody>\n",
       "</table>\n",
       "</div>"
      ],
      "text/plain": [
       "   pkSeqID proto            saddr  sport          daddr dport     seq  \\\n",
       "0  3142762   udp  192.168.100.150   6551  192.168.100.3    80  251984   \n",
       "1  2432264   tcp  192.168.100.150   5532  192.168.100.3    80  256724   \n",
       "2  1976315   tcp  192.168.100.147  27165  192.168.100.3    80   62921   \n",
       "3  1240757   udp  192.168.100.150  48719  192.168.100.3    80   99168   \n",
       "4  3257991   udp  192.168.100.147  22461  192.168.100.3    80  105063   \n",
       "\n",
       "     stddev  N_IN_Conn_P_SrcIP       min  state_number      mean  \\\n",
       "0  1.900363                100  0.000000             4  2.687519   \n",
       "1  0.078003                 38  3.856930             3  3.934927   \n",
       "2  0.268666                100  2.974100             3  3.341429   \n",
       "3  1.823185                 63  0.000000             4  3.222832   \n",
       "4  0.822418                100  2.979995             4  3.983222   \n",
       "\n",
       "   N_IN_Conn_P_DstIP  drate     srate       max  attack category subcategory  \n",
       "0                100    0.0  0.494549  4.031619       1     DDoS         UDP  \n",
       "1                100    0.0  0.256493  4.012924       1     DDoS         TCP  \n",
       "2                100    0.0  0.294880  3.609205       1     DDoS         TCP  \n",
       "3                 63    0.0  0.461435  4.942302       1      DoS         UDP  \n",
       "4                100    0.0  1.002999  4.994452       1     DDoS         UDP  "
      ]
     },
     "execution_count": 5,
     "metadata": {},
     "output_type": "execute_result"
    }
   ],
   "source": [
    "# Training Dataset\n",
    "data = pd.read_csv(\"./botnet/UNSW_2018_IoT_Botnet_Final_10_best_Training.csv\")\n",
    "data.head()"
   ]
  },
  {
   "cell_type": "code",
   "execution_count": 15,
   "metadata": {},
   "outputs": [
    {
     "name": "stdout",
     "output_type": "stream",
     "text": [
      "<class 'pandas.core.frame.DataFrame'>\n",
      "RangeIndex: 2934817 entries, 0 to 2934816\n",
      "Data columns (total 19 columns):\n",
      " #   Column             Dtype  \n",
      "---  ------             -----  \n",
      " 0   pkSeqID            int64  \n",
      " 1   proto              object \n",
      " 2   saddr              object \n",
      " 3   sport              object \n",
      " 4   daddr              object \n",
      " 5   dport              object \n",
      " 6   seq                int64  \n",
      " 7   stddev             float64\n",
      " 8   N_IN_Conn_P_SrcIP  int64  \n",
      " 9   min                float64\n",
      " 10  state_number       int64  \n",
      " 11  mean               float64\n",
      " 12  N_IN_Conn_P_DstIP  int64  \n",
      " 13  drate              float64\n",
      " 14  srate              float64\n",
      " 15  max                float64\n",
      " 16  attack             int64  \n",
      " 17  category           object \n",
      " 18  subcategory        object \n",
      "dtypes: float64(6), int64(6), object(7)\n",
      "memory usage: 425.4+ MB\n"
     ]
    }
   ],
   "source": [
    "# General Information about the data\n",
    "data.info()"
   ]
  },
  {
   "cell_type": "code",
   "execution_count": 70,
   "metadata": {},
   "outputs": [
    {
     "data": {
      "text/plain": [
       "'{\"seq\":{\"2690380\":259370},\"stddev\":{\"2690380\":0.0},\"N_IN_Conn_P_SrcIP\":{\"2690380\":100},\"min\":{\"2690380\":0.0},\"state_number\":{\"2690380\":3},\"mean\":{\"2690380\":0.0},\"N_IN_Conn_P_DstIP\":{\"2690380\":100},\"drate\":{\"2690380\":0.0},\"srate\":{\"2690380\":0.097145},\"max\":{\"2690380\":0.0}}'"
      ]
     },
     "execution_count": 70,
     "metadata": {},
     "output_type": "execute_result"
    }
   ],
   "source": [
    "X_test[0:1].to_json()"
   ]
  },
  {
   "cell_type": "code",
   "execution_count": 63,
   "metadata": {},
   "outputs": [
    {
     "data": {
      "text/html": [
       "<div>\n",
       "<style scoped>\n",
       "    .dataframe tbody tr th:only-of-type {\n",
       "        vertical-align: middle;\n",
       "    }\n",
       "\n",
       "    .dataframe tbody tr th {\n",
       "        vertical-align: top;\n",
       "    }\n",
       "\n",
       "    .dataframe thead th {\n",
       "        text-align: right;\n",
       "    }\n",
       "</style>\n",
       "<table border=\"1\" class=\"dataframe\">\n",
       "  <thead>\n",
       "    <tr style=\"text-align: right;\">\n",
       "      <th></th>\n",
       "      <th>attack</th>\n",
       "      <th>category</th>\n",
       "      <th>subcategory</th>\n",
       "    </tr>\n",
       "  </thead>\n",
       "  <tbody>\n",
       "    <tr>\n",
       "      <th>0</th>\n",
       "      <td>1</td>\n",
       "      <td>0</td>\n",
       "      <td>6</td>\n",
       "    </tr>\n",
       "  </tbody>\n",
       "</table>\n",
       "</div>"
      ],
      "text/plain": [
       "   attack  category  subcategory\n",
       "0       1         0            6"
      ]
     },
     "execution_count": 63,
     "metadata": {},
     "output_type": "execute_result"
    }
   ],
   "source": [
    "# data_json = '{\"seq\":{\"2690380\":259370},\"stddev\":{\"2690380\":0.0},\"N_IN_Conn_P_SrcIP\":{\"2690380\":100},\"min\":{\"2690380\":0.0},\"state_number\":{\"2690380\":3},\"mean\":{\"2690380\":0.0},\"N_IN_Conn_P_DstIP\":{\"2690380\":100},\"drate\":{\"2690380\":0.0},\"srate\":{\"2690380\":0.097145},\"max\":{\"2690380\":0.0}}'\n",
    "data_json = '{\"pkSeqID\":{\"0\":3142762},\"proto\":{\"0\":\"udp\"},\"saddr\":{\"0\":\"192.168.100.150\"},\"sport\":{\"0\":\"6551\"},\"daddr\":{\"0\":\"192.168.100.3\"},\"dport\":{\"0\":\"80\"},\"seq\":{\"0\":251984},\"stddev\":{\"0\":1.900363},\"N_IN_Conn_P_SrcIP\":{\"0\":100},\"min\":{\"0\":0.0},\"state_number\":{\"0\":4},\"mean\":{\"0\":2.687519},\"N_IN_Conn_P_DstIP\":{\"0\":100},\"drate\":{\"0\":0.0},\"srate\":{\"0\":0.494549},\"max\":{\"0\":4.031619}}'\n",
    "x = pd.read_json(data_json)\n",
    "ten_best_features = data[['seq','stddev','N_IN_Conn_P_SrcIP', 'min', 'state_number', 'mean', 'N_IN_Conn_P_DstIP',\n",
    "       'drate', 'srate', 'max']]\n",
    "x_ten_best = x[ten_best_features.columns]\n",
    "xgb.predict(x_ten_best)"
   ]
  },
  {
   "cell_type": "code",
   "execution_count": 68,
   "metadata": {},
   "outputs": [
    {
     "data": {
      "text/html": [
       "<div>\n",
       "<style scoped>\n",
       "    .dataframe tbody tr th:only-of-type {\n",
       "        vertical-align: middle;\n",
       "    }\n",
       "\n",
       "    .dataframe tbody tr th {\n",
       "        vertical-align: top;\n",
       "    }\n",
       "\n",
       "    .dataframe thead th {\n",
       "        text-align: right;\n",
       "    }\n",
       "</style>\n",
       "<table border=\"1\" class=\"dataframe\">\n",
       "  <thead>\n",
       "    <tr style=\"text-align: right;\">\n",
       "      <th></th>\n",
       "      <th>attack</th>\n",
       "      <th>category</th>\n",
       "      <th>subcategory</th>\n",
       "    </tr>\n",
       "  </thead>\n",
       "  <tbody>\n",
       "    <tr>\n",
       "      <th>0</th>\n",
       "      <td>1</td>\n",
       "      <td>1</td>\n",
       "      <td>7</td>\n",
       "    </tr>\n",
       "    <tr>\n",
       "      <th>1</th>\n",
       "      <td>1</td>\n",
       "      <td>1</td>\n",
       "      <td>6</td>\n",
       "    </tr>\n",
       "    <tr>\n",
       "      <th>2</th>\n",
       "      <td>1</td>\n",
       "      <td>0</td>\n",
       "      <td>7</td>\n",
       "    </tr>\n",
       "    <tr>\n",
       "      <th>3</th>\n",
       "      <td>1</td>\n",
       "      <td>3</td>\n",
       "      <td>4</td>\n",
       "    </tr>\n",
       "    <tr>\n",
       "      <th>4</th>\n",
       "      <td>1</td>\n",
       "      <td>0</td>\n",
       "      <td>7</td>\n",
       "    </tr>\n",
       "    <tr>\n",
       "      <th>...</th>\n",
       "      <td>...</td>\n",
       "      <td>...</td>\n",
       "      <td>...</td>\n",
       "    </tr>\n",
       "    <tr>\n",
       "      <th>733700</th>\n",
       "      <td>1</td>\n",
       "      <td>0</td>\n",
       "      <td>6</td>\n",
       "    </tr>\n",
       "    <tr>\n",
       "      <th>733701</th>\n",
       "      <td>1</td>\n",
       "      <td>0</td>\n",
       "      <td>6</td>\n",
       "    </tr>\n",
       "    <tr>\n",
       "      <th>733702</th>\n",
       "      <td>1</td>\n",
       "      <td>0</td>\n",
       "      <td>7</td>\n",
       "    </tr>\n",
       "    <tr>\n",
       "      <th>733703</th>\n",
       "      <td>1</td>\n",
       "      <td>0</td>\n",
       "      <td>7</td>\n",
       "    </tr>\n",
       "    <tr>\n",
       "      <th>733704</th>\n",
       "      <td>1</td>\n",
       "      <td>0</td>\n",
       "      <td>7</td>\n",
       "    </tr>\n",
       "  </tbody>\n",
       "</table>\n",
       "<p>733705 rows × 3 columns</p>\n",
       "</div>"
      ],
      "text/plain": [
       "        attack  category  subcategory\n",
       "0            1         1            7\n",
       "1            1         1            6\n",
       "2            1         0            7\n",
       "3            1         3            4\n",
       "4            1         0            7\n",
       "...        ...       ...          ...\n",
       "733700       1         0            6\n",
       "733701       1         0            6\n",
       "733702       1         0            7\n",
       "733703       1         0            7\n",
       "733704       1         0            7\n",
       "\n",
       "[733705 rows x 3 columns]"
      ]
     },
     "execution_count": 68,
     "metadata": {},
     "output_type": "execute_result"
    }
   ],
   "source": [
    "predictions_xgb"
   ]
  },
  {
   "cell_type": "code",
   "execution_count": 49,
   "metadata": {},
   "outputs": [
    {
     "ename": "NotFittedError",
     "evalue": "This StandardScaler instance is not fitted yet. Call 'fit' with appropriate arguments before using this estimator.",
     "output_type": "error",
     "traceback": [
      "\u001b[0;31m---------------------------------------------------------------------------\u001b[0m",
      "\u001b[0;31mNotFittedError\u001b[0m                            Traceback (most recent call last)",
      "\u001b[0;32m/var/folders/zn/4_sw7bx56wq4ps7dr4483mw00000gn/T/ipykernel_31250/1700359533.py\u001b[0m in \u001b[0;36m<module>\u001b[0;34m\u001b[0m\n\u001b[1;32m      1\u001b[0m \u001b[0msc\u001b[0m \u001b[0;34m=\u001b[0m \u001b[0mStandardScaler\u001b[0m\u001b[0;34m(\u001b[0m\u001b[0;34m)\u001b[0m\u001b[0;34m\u001b[0m\u001b[0;34m\u001b[0m\u001b[0m\n\u001b[1;32m      2\u001b[0m \u001b[0;34m\u001b[0m\u001b[0m\n\u001b[0;32m----> 3\u001b[0;31m \u001b[0my\u001b[0m \u001b[0;34m=\u001b[0m \u001b[0msc\u001b[0m\u001b[0;34m.\u001b[0m\u001b[0mtransform\u001b[0m\u001b[0;34m(\u001b[0m\u001b[0mx\u001b[0m\u001b[0;34m)\u001b[0m\u001b[0;34m\u001b[0m\u001b[0;34m\u001b[0m\u001b[0m\n\u001b[0m",
      "\u001b[0;32m~/.pyenv/versions/3.7.7/lib/python3.7/site-packages/sklearn/preprocessing/_data.py\u001b[0m in \u001b[0;36mtransform\u001b[0;34m(self, X, copy)\u001b[0m\n\u001b[1;32m    968\u001b[0m             \u001b[0mTransformed\u001b[0m \u001b[0marray\u001b[0m\u001b[0;34m.\u001b[0m\u001b[0;34m\u001b[0m\u001b[0;34m\u001b[0m\u001b[0m\n\u001b[1;32m    969\u001b[0m         \"\"\"\n\u001b[0;32m--> 970\u001b[0;31m         \u001b[0mcheck_is_fitted\u001b[0m\u001b[0;34m(\u001b[0m\u001b[0mself\u001b[0m\u001b[0;34m)\u001b[0m\u001b[0;34m\u001b[0m\u001b[0;34m\u001b[0m\u001b[0m\n\u001b[0m\u001b[1;32m    971\u001b[0m \u001b[0;34m\u001b[0m\u001b[0m\n\u001b[1;32m    972\u001b[0m         \u001b[0mcopy\u001b[0m \u001b[0;34m=\u001b[0m \u001b[0mcopy\u001b[0m \u001b[0;32mif\u001b[0m \u001b[0mcopy\u001b[0m \u001b[0;32mis\u001b[0m \u001b[0;32mnot\u001b[0m \u001b[0;32mNone\u001b[0m \u001b[0;32melse\u001b[0m \u001b[0mself\u001b[0m\u001b[0;34m.\u001b[0m\u001b[0mcopy\u001b[0m\u001b[0;34m\u001b[0m\u001b[0;34m\u001b[0m\u001b[0m\n",
      "\u001b[0;32m~/.pyenv/versions/3.7.7/lib/python3.7/site-packages/sklearn/utils/validation.py\u001b[0m in \u001b[0;36mcheck_is_fitted\u001b[0;34m(estimator, attributes, msg, all_or_any)\u001b[0m\n\u001b[1;32m   1220\u001b[0m \u001b[0;34m\u001b[0m\u001b[0m\n\u001b[1;32m   1221\u001b[0m     \u001b[0;32mif\u001b[0m \u001b[0;32mnot\u001b[0m \u001b[0mfitted\u001b[0m\u001b[0;34m:\u001b[0m\u001b[0;34m\u001b[0m\u001b[0;34m\u001b[0m\u001b[0m\n\u001b[0;32m-> 1222\u001b[0;31m         \u001b[0;32mraise\u001b[0m \u001b[0mNotFittedError\u001b[0m\u001b[0;34m(\u001b[0m\u001b[0mmsg\u001b[0m \u001b[0;34m%\u001b[0m \u001b[0;34m{\u001b[0m\u001b[0;34m\"name\"\u001b[0m\u001b[0;34m:\u001b[0m \u001b[0mtype\u001b[0m\u001b[0;34m(\u001b[0m\u001b[0mestimator\u001b[0m\u001b[0;34m)\u001b[0m\u001b[0;34m.\u001b[0m\u001b[0m__name__\u001b[0m\u001b[0;34m}\u001b[0m\u001b[0;34m)\u001b[0m\u001b[0;34m\u001b[0m\u001b[0;34m\u001b[0m\u001b[0m\n\u001b[0m\u001b[1;32m   1223\u001b[0m \u001b[0;34m\u001b[0m\u001b[0m\n\u001b[1;32m   1224\u001b[0m \u001b[0;34m\u001b[0m\u001b[0m\n",
      "\u001b[0;31mNotFittedError\u001b[0m: This StandardScaler instance is not fitted yet. Call 'fit' with appropriate arguments before using this estimator."
     ]
    }
   ],
   "source": [
    "ten_best_features = data[['seq','stddev','N_IN_Conn_P_SrcIP', 'min', 'state_number', 'mean', 'N_IN_Conn_P_DstIP',\n",
    "       'drate', 'srate', 'max']]\n",
    "target_features = data[['attack','category','subcategory']]\n",
    "# sc = StandardScaler()\n",
    "# y = sc.transform(x)"
   ]
  },
  {
   "cell_type": "markdown",
   "metadata": {},
   "source": [
    "## Exploratory Data Analysis"
   ]
  },
  {
   "cell_type": "code",
   "execution_count": 16,
   "metadata": {},
   "outputs": [
    {
     "data": {
      "text/html": [
       "<div>\n",
       "<style scoped>\n",
       "    .dataframe tbody tr th:only-of-type {\n",
       "        vertical-align: middle;\n",
       "    }\n",
       "\n",
       "    .dataframe tbody tr th {\n",
       "        vertical-align: top;\n",
       "    }\n",
       "\n",
       "    .dataframe thead th {\n",
       "        text-align: right;\n",
       "    }\n",
       "</style>\n",
       "<table border=\"1\" class=\"dataframe\">\n",
       "  <thead>\n",
       "    <tr style=\"text-align: right;\">\n",
       "      <th></th>\n",
       "      <th>pkSeqID</th>\n",
       "      <th>seq</th>\n",
       "      <th>stddev</th>\n",
       "      <th>N_IN_Conn_P_SrcIP</th>\n",
       "      <th>min</th>\n",
       "      <th>state_number</th>\n",
       "      <th>mean</th>\n",
       "      <th>N_IN_Conn_P_DstIP</th>\n",
       "      <th>drate</th>\n",
       "      <th>srate</th>\n",
       "      <th>max</th>\n",
       "      <th>attack</th>\n",
       "    </tr>\n",
       "  </thead>\n",
       "  <tbody>\n",
       "    <tr>\n",
       "      <th>count</th>\n",
       "      <td>2.934817e+06</td>\n",
       "      <td>2.934817e+06</td>\n",
       "      <td>2.934817e+06</td>\n",
       "      <td>2.934817e+06</td>\n",
       "      <td>2.934817e+06</td>\n",
       "      <td>2.934817e+06</td>\n",
       "      <td>2.934817e+06</td>\n",
       "      <td>2.934817e+06</td>\n",
       "      <td>2.934817e+06</td>\n",
       "      <td>2.934817e+06</td>\n",
       "      <td>2.934817e+06</td>\n",
       "      <td>2.934817e+06</td>\n",
       "    </tr>\n",
       "    <tr>\n",
       "      <th>mean</th>\n",
       "      <td>1.834209e+06</td>\n",
       "      <td>1.212973e+05</td>\n",
       "      <td>8.869639e-01</td>\n",
       "      <td>8.254997e+01</td>\n",
       "      <td>1.017208e+00</td>\n",
       "      <td>3.134219e+00</td>\n",
       "      <td>2.230471e+00</td>\n",
       "      <td>9.245766e+01</td>\n",
       "      <td>4.303064e-01</td>\n",
       "      <td>3.128290e+00</td>\n",
       "      <td>3.019269e+00</td>\n",
       "      <td>9.998739e-01</td>\n",
       "    </tr>\n",
       "    <tr>\n",
       "      <th>std</th>\n",
       "      <td>1.059058e+06</td>\n",
       "      <td>7.578700e+04</td>\n",
       "      <td>8.036391e-01</td>\n",
       "      <td>2.439019e+01</td>\n",
       "      <td>1.483551e+00</td>\n",
       "      <td>1.187107e+00</td>\n",
       "      <td>1.517766e+00</td>\n",
       "      <td>1.816651e+01</td>\n",
       "      <td>5.623304e+01</td>\n",
       "      <td>7.845494e+02</td>\n",
       "      <td>1.860915e+00</td>\n",
       "      <td>1.122750e-02</td>\n",
       "    </tr>\n",
       "    <tr>\n",
       "      <th>min</th>\n",
       "      <td>1.000000e+00</td>\n",
       "      <td>1.000000e+00</td>\n",
       "      <td>0.000000e+00</td>\n",
       "      <td>1.000000e+00</td>\n",
       "      <td>0.000000e+00</td>\n",
       "      <td>1.000000e+00</td>\n",
       "      <td>0.000000e+00</td>\n",
       "      <td>1.000000e+00</td>\n",
       "      <td>0.000000e+00</td>\n",
       "      <td>0.000000e+00</td>\n",
       "      <td>0.000000e+00</td>\n",
       "      <td>0.000000e+00</td>\n",
       "    </tr>\n",
       "    <tr>\n",
       "      <th>25%</th>\n",
       "      <td>9.171090e+05</td>\n",
       "      <td>5.484700e+04</td>\n",
       "      <td>2.999700e-02</td>\n",
       "      <td>6.900000e+01</td>\n",
       "      <td>0.000000e+00</td>\n",
       "      <td>3.000000e+00</td>\n",
       "      <td>1.819340e-01</td>\n",
       "      <td>1.000000e+02</td>\n",
       "      <td>0.000000e+00</td>\n",
       "      <td>1.558450e-01</td>\n",
       "      <td>2.804170e-01</td>\n",
       "      <td>1.000000e+00</td>\n",
       "    </tr>\n",
       "    <tr>\n",
       "      <th>50%</th>\n",
       "      <td>1.834316e+06</td>\n",
       "      <td>1.177370e+05</td>\n",
       "      <td>7.925750e-01</td>\n",
       "      <td>1.000000e+02</td>\n",
       "      <td>0.000000e+00</td>\n",
       "      <td>4.000000e+00</td>\n",
       "      <td>2.689973e+00</td>\n",
       "      <td>1.000000e+02</td>\n",
       "      <td>0.000000e+00</td>\n",
       "      <td>2.837800e-01</td>\n",
       "      <td>4.008429e+00</td>\n",
       "      <td>1.000000e+00</td>\n",
       "    </tr>\n",
       "    <tr>\n",
       "      <th>75%</th>\n",
       "      <td>2.751250e+06</td>\n",
       "      <td>1.848700e+05</td>\n",
       "      <td>1.745220e+00</td>\n",
       "      <td>1.000000e+02</td>\n",
       "      <td>2.147949e+00</td>\n",
       "      <td>4.000000e+00</td>\n",
       "      <td>3.565061e+00</td>\n",
       "      <td>1.000000e+02</td>\n",
       "      <td>0.000000e+00</td>\n",
       "      <td>4.880000e-01</td>\n",
       "      <td>4.292426e+00</td>\n",
       "      <td>1.000000e+00</td>\n",
       "    </tr>\n",
       "    <tr>\n",
       "      <th>max</th>\n",
       "      <td>3.668522e+06</td>\n",
       "      <td>2.622110e+05</td>\n",
       "      <td>2.496763e+00</td>\n",
       "      <td>1.000000e+02</td>\n",
       "      <td>4.980471e+00</td>\n",
       "      <td>1.100000e+01</td>\n",
       "      <td>4.981882e+00</td>\n",
       "      <td>1.000000e+02</td>\n",
       "      <td>5.882353e+04</td>\n",
       "      <td>1.000000e+06</td>\n",
       "      <td>4.999999e+00</td>\n",
       "      <td>1.000000e+00</td>\n",
       "    </tr>\n",
       "  </tbody>\n",
       "</table>\n",
       "</div>"
      ],
      "text/plain": [
       "            pkSeqID           seq        stddev  N_IN_Conn_P_SrcIP  \\\n",
       "count  2.934817e+06  2.934817e+06  2.934817e+06       2.934817e+06   \n",
       "mean   1.834209e+06  1.212973e+05  8.869639e-01       8.254997e+01   \n",
       "std    1.059058e+06  7.578700e+04  8.036391e-01       2.439019e+01   \n",
       "min    1.000000e+00  1.000000e+00  0.000000e+00       1.000000e+00   \n",
       "25%    9.171090e+05  5.484700e+04  2.999700e-02       6.900000e+01   \n",
       "50%    1.834316e+06  1.177370e+05  7.925750e-01       1.000000e+02   \n",
       "75%    2.751250e+06  1.848700e+05  1.745220e+00       1.000000e+02   \n",
       "max    3.668522e+06  2.622110e+05  2.496763e+00       1.000000e+02   \n",
       "\n",
       "                min  state_number          mean  N_IN_Conn_P_DstIP  \\\n",
       "count  2.934817e+06  2.934817e+06  2.934817e+06       2.934817e+06   \n",
       "mean   1.017208e+00  3.134219e+00  2.230471e+00       9.245766e+01   \n",
       "std    1.483551e+00  1.187107e+00  1.517766e+00       1.816651e+01   \n",
       "min    0.000000e+00  1.000000e+00  0.000000e+00       1.000000e+00   \n",
       "25%    0.000000e+00  3.000000e+00  1.819340e-01       1.000000e+02   \n",
       "50%    0.000000e+00  4.000000e+00  2.689973e+00       1.000000e+02   \n",
       "75%    2.147949e+00  4.000000e+00  3.565061e+00       1.000000e+02   \n",
       "max    4.980471e+00  1.100000e+01  4.981882e+00       1.000000e+02   \n",
       "\n",
       "              drate         srate           max        attack  \n",
       "count  2.934817e+06  2.934817e+06  2.934817e+06  2.934817e+06  \n",
       "mean   4.303064e-01  3.128290e+00  3.019269e+00  9.998739e-01  \n",
       "std    5.623304e+01  7.845494e+02  1.860915e+00  1.122750e-02  \n",
       "min    0.000000e+00  0.000000e+00  0.000000e+00  0.000000e+00  \n",
       "25%    0.000000e+00  1.558450e-01  2.804170e-01  1.000000e+00  \n",
       "50%    0.000000e+00  2.837800e-01  4.008429e+00  1.000000e+00  \n",
       "75%    0.000000e+00  4.880000e-01  4.292426e+00  1.000000e+00  \n",
       "max    5.882353e+04  1.000000e+06  4.999999e+00  1.000000e+00  "
      ]
     },
     "execution_count": 16,
     "metadata": {},
     "output_type": "execute_result"
    }
   ],
   "source": [
    "data.describe()"
   ]
  },
  {
   "cell_type": "code",
   "execution_count": 17,
   "metadata": {},
   "outputs": [
    {
     "data": {
      "text/plain": [
       "udp          1596819\n",
       "tcp          1330598\n",
       "icmp            7228\n",
       "arp              166\n",
       "ipv6-icmp          6\n",
       "Name: proto, dtype: int64"
      ]
     },
     "execution_count": 17,
     "metadata": {},
     "output_type": "execute_result"
    }
   ],
   "source": [
    "data[\"proto\"].value_counts()"
   ]
  },
  {
   "cell_type": "code",
   "execution_count": 18,
   "metadata": {},
   "outputs": [
    {
     "data": {
      "text/plain": [
       "192.168.100.147              761360\n",
       "192.168.100.148              738642\n",
       "192.168.100.150              712260\n",
       "192.168.100.149              711466\n",
       "192.168.100.3                  6609\n",
       "192.168.100.5                  4107\n",
       "192.168.100.6                   272\n",
       "192.168.100.7                    34\n",
       "192.168.100.4                    17\n",
       "192.168.100.1                    14\n",
       "192.168.100.27                    9\n",
       "192.168.100.46                    8\n",
       "fe80::250:56ff:febe:254           5\n",
       "192.168.100.55                    3\n",
       "fe80::2c6a:ff9b:7e14:166a         2\n",
       "fe80::250:56ff:febe:c038          2\n",
       "fe80::c0c0:aa20:45b9:bdd9         2\n",
       "fe80::250:56ff:febe:89ee          2\n",
       "fe80::250:56ff:febe:26db          2\n",
       "fe80::250:56ff:febe:e9d9          1\n",
       "Name: saddr, dtype: int64"
      ]
     },
     "execution_count": 18,
     "metadata": {},
     "output_type": "execute_result"
    }
   ],
   "source": [
    "data[\"saddr\"].value_counts()"
   ]
  },
  {
   "cell_type": "code",
   "execution_count": 19,
   "metadata": {},
   "outputs": [
    {
     "data": {
      "text/plain": [
       "0x0303    7156\n",
       "80        3220\n",
       "1822       878\n",
       "60541      869\n",
       "1216       868\n",
       "          ... \n",
       "39364       31\n",
       "18992       30\n",
       "39305       30\n",
       "0x000d      10\n",
       "0x0011       8\n",
       "Name: sport, Length: 65541, dtype: int64"
      ]
     },
     "execution_count": 19,
     "metadata": {},
     "output_type": "execute_result"
    }
   ],
   "source": [
    "data[\"sport\"].value_counts()"
   ]
  },
  {
   "cell_type": "code",
   "execution_count": 20,
   "metadata": {},
   "outputs": [
    {
     "data": {
      "text/plain": [
       "192.168.100.3      1900562\n",
       "192.168.100.5       361192\n",
       "192.168.100.7       332161\n",
       "192.168.100.6       329679\n",
       "192.168.100.150       3040\n",
       "                    ...   \n",
       "205.251.199.148          1\n",
       "192.33.14.30             1\n",
       "192.55.83.30             1\n",
       "205.251.194.201          1\n",
       "205.251.198.119          1\n",
       "Name: daddr, Length: 81, dtype: int64"
      ]
     },
     "execution_count": 20,
     "metadata": {},
     "output_type": "execute_result"
    }
   ],
   "source": [
    "data[\"daddr\"].value_counts()"
   ]
  },
  {
   "cell_type": "code",
   "execution_count": 21,
   "metadata": {},
   "outputs": [
    {
     "data": {
      "text/plain": [
       "80       2858794\n",
       "1           5379\n",
       "3306        3757\n",
       "53           275\n",
       "-1           166\n",
       "          ...   \n",
       "40344          1\n",
       "3754           1\n",
       "6459           1\n",
       "26822          1\n",
       "61804          1\n",
       "Name: dport, Length: 6906, dtype: int64"
      ]
     },
     "execution_count": 21,
     "metadata": {},
     "output_type": "execute_result"
    }
   ],
   "source": [
    "data[\"dport\"].value_counts()"
   ]
  },
  {
   "cell_type": "code",
   "execution_count": 22,
   "metadata": {},
   "outputs": [
    {
     "data": {
      "text/plain": [
       "DDoS              1541315\n",
       "DoS               1320148\n",
       "Reconnaissance      72919\n",
       "Normal                370\n",
       "Theft                  65\n",
       "Name: category, dtype: int64"
      ]
     },
     "execution_count": 22,
     "metadata": {},
     "output_type": "execute_result"
    }
   ],
   "source": [
    "data[\"category\"].value_counts()"
   ]
  },
  {
   "cell_type": "code",
   "execution_count": 23,
   "metadata": {},
   "outputs": [
    {
     "data": {
      "text/plain": [
       "1    2934447\n",
       "0        370\n",
       "Name: attack, dtype: int64"
      ]
     },
     "execution_count": 23,
     "metadata": {},
     "output_type": "execute_result"
    }
   ],
   "source": [
    "data[\"attack\"].value_counts()"
   ]
  },
  {
   "cell_type": "code",
   "execution_count": 24,
   "metadata": {},
   "outputs": [
    {
     "data": {
      "text/plain": [
       "UDP                  1584650\n",
       "TCP                  1274843\n",
       "Service_Scan           58626\n",
       "OS_Fingerprint         14293\n",
       "HTTP                    1970\n",
       "Normal                   370\n",
       "Keylogging                59\n",
       "Data_Exfiltration          6\n",
       "Name: subcategory, dtype: int64"
      ]
     },
     "execution_count": 24,
     "metadata": {},
     "output_type": "execute_result"
    }
   ],
   "source": [
    "data[\"subcategory\"].value_counts()"
   ]
  },
  {
   "cell_type": "code",
   "execution_count": 25,
   "metadata": {},
   "outputs": [
    {
     "data": {
      "text/html": [
       "<div>\n",
       "<style scoped>\n",
       "    .dataframe tbody tr th:only-of-type {\n",
       "        vertical-align: middle;\n",
       "    }\n",
       "\n",
       "    .dataframe tbody tr th {\n",
       "        vertical-align: top;\n",
       "    }\n",
       "\n",
       "    .dataframe thead th {\n",
       "        text-align: right;\n",
       "    }\n",
       "</style>\n",
       "<table border=\"1\" class=\"dataframe\">\n",
       "  <thead>\n",
       "    <tr style=\"text-align: right;\">\n",
       "      <th></th>\n",
       "      <th>pkSeqID</th>\n",
       "      <th>proto</th>\n",
       "      <th>saddr</th>\n",
       "      <th>sport</th>\n",
       "      <th>daddr</th>\n",
       "      <th>dport</th>\n",
       "      <th>seq</th>\n",
       "      <th>stddev</th>\n",
       "      <th>N_IN_Conn_P_SrcIP</th>\n",
       "      <th>min</th>\n",
       "      <th>state_number</th>\n",
       "      <th>mean</th>\n",
       "      <th>N_IN_Conn_P_DstIP</th>\n",
       "      <th>drate</th>\n",
       "      <th>srate</th>\n",
       "      <th>max</th>\n",
       "      <th>attack</th>\n",
       "      <th>category</th>\n",
       "      <th>subcategory</th>\n",
       "      <th>target</th>\n",
       "    </tr>\n",
       "  </thead>\n",
       "  <tbody>\n",
       "    <tr>\n",
       "      <th>0</th>\n",
       "      <td>3142762</td>\n",
       "      <td>udp</td>\n",
       "      <td>192.168.100.150</td>\n",
       "      <td>6551</td>\n",
       "      <td>192.168.100.3</td>\n",
       "      <td>80</td>\n",
       "      <td>251984</td>\n",
       "      <td>1.900363</td>\n",
       "      <td>100</td>\n",
       "      <td>0.000000</td>\n",
       "      <td>4</td>\n",
       "      <td>2.687519</td>\n",
       "      <td>100</td>\n",
       "      <td>0.0</td>\n",
       "      <td>0.494549</td>\n",
       "      <td>4.031619</td>\n",
       "      <td>1</td>\n",
       "      <td>DDoS</td>\n",
       "      <td>UDP</td>\n",
       "      <td>DDoS_UDP</td>\n",
       "    </tr>\n",
       "    <tr>\n",
       "      <th>1</th>\n",
       "      <td>2432264</td>\n",
       "      <td>tcp</td>\n",
       "      <td>192.168.100.150</td>\n",
       "      <td>5532</td>\n",
       "      <td>192.168.100.3</td>\n",
       "      <td>80</td>\n",
       "      <td>256724</td>\n",
       "      <td>0.078003</td>\n",
       "      <td>38</td>\n",
       "      <td>3.856930</td>\n",
       "      <td>3</td>\n",
       "      <td>3.934927</td>\n",
       "      <td>100</td>\n",
       "      <td>0.0</td>\n",
       "      <td>0.256493</td>\n",
       "      <td>4.012924</td>\n",
       "      <td>1</td>\n",
       "      <td>DDoS</td>\n",
       "      <td>TCP</td>\n",
       "      <td>DDoS_TCP</td>\n",
       "    </tr>\n",
       "    <tr>\n",
       "      <th>2</th>\n",
       "      <td>1976315</td>\n",
       "      <td>tcp</td>\n",
       "      <td>192.168.100.147</td>\n",
       "      <td>27165</td>\n",
       "      <td>192.168.100.3</td>\n",
       "      <td>80</td>\n",
       "      <td>62921</td>\n",
       "      <td>0.268666</td>\n",
       "      <td>100</td>\n",
       "      <td>2.974100</td>\n",
       "      <td>3</td>\n",
       "      <td>3.341429</td>\n",
       "      <td>100</td>\n",
       "      <td>0.0</td>\n",
       "      <td>0.294880</td>\n",
       "      <td>3.609205</td>\n",
       "      <td>1</td>\n",
       "      <td>DDoS</td>\n",
       "      <td>TCP</td>\n",
       "      <td>DDoS_TCP</td>\n",
       "    </tr>\n",
       "    <tr>\n",
       "      <th>3</th>\n",
       "      <td>1240757</td>\n",
       "      <td>udp</td>\n",
       "      <td>192.168.100.150</td>\n",
       "      <td>48719</td>\n",
       "      <td>192.168.100.3</td>\n",
       "      <td>80</td>\n",
       "      <td>99168</td>\n",
       "      <td>1.823185</td>\n",
       "      <td>63</td>\n",
       "      <td>0.000000</td>\n",
       "      <td>4</td>\n",
       "      <td>3.222832</td>\n",
       "      <td>63</td>\n",
       "      <td>0.0</td>\n",
       "      <td>0.461435</td>\n",
       "      <td>4.942302</td>\n",
       "      <td>1</td>\n",
       "      <td>DoS</td>\n",
       "      <td>UDP</td>\n",
       "      <td>DoS_UDP</td>\n",
       "    </tr>\n",
       "    <tr>\n",
       "      <th>4</th>\n",
       "      <td>3257991</td>\n",
       "      <td>udp</td>\n",
       "      <td>192.168.100.147</td>\n",
       "      <td>22461</td>\n",
       "      <td>192.168.100.3</td>\n",
       "      <td>80</td>\n",
       "      <td>105063</td>\n",
       "      <td>0.822418</td>\n",
       "      <td>100</td>\n",
       "      <td>2.979995</td>\n",
       "      <td>4</td>\n",
       "      <td>3.983222</td>\n",
       "      <td>100</td>\n",
       "      <td>0.0</td>\n",
       "      <td>1.002999</td>\n",
       "      <td>4.994452</td>\n",
       "      <td>1</td>\n",
       "      <td>DDoS</td>\n",
       "      <td>UDP</td>\n",
       "      <td>DDoS_UDP</td>\n",
       "    </tr>\n",
       "  </tbody>\n",
       "</table>\n",
       "</div>"
      ],
      "text/plain": [
       "   pkSeqID proto            saddr  sport          daddr dport     seq  \\\n",
       "0  3142762   udp  192.168.100.150   6551  192.168.100.3    80  251984   \n",
       "1  2432264   tcp  192.168.100.150   5532  192.168.100.3    80  256724   \n",
       "2  1976315   tcp  192.168.100.147  27165  192.168.100.3    80   62921   \n",
       "3  1240757   udp  192.168.100.150  48719  192.168.100.3    80   99168   \n",
       "4  3257991   udp  192.168.100.147  22461  192.168.100.3    80  105063   \n",
       "\n",
       "     stddev  N_IN_Conn_P_SrcIP       min  state_number      mean  \\\n",
       "0  1.900363                100  0.000000             4  2.687519   \n",
       "1  0.078003                 38  3.856930             3  3.934927   \n",
       "2  0.268666                100  2.974100             3  3.341429   \n",
       "3  1.823185                 63  0.000000             4  3.222832   \n",
       "4  0.822418                100  2.979995             4  3.983222   \n",
       "\n",
       "   N_IN_Conn_P_DstIP  drate     srate       max  attack category subcategory  \\\n",
       "0                100    0.0  0.494549  4.031619       1     DDoS         UDP   \n",
       "1                100    0.0  0.256493  4.012924       1     DDoS         TCP   \n",
       "2                100    0.0  0.294880  3.609205       1     DDoS         TCP   \n",
       "3                 63    0.0  0.461435  4.942302       1      DoS         UDP   \n",
       "4                100    0.0  1.002999  4.994452       1     DDoS         UDP   \n",
       "\n",
       "     target  \n",
       "0  DDoS_UDP  \n",
       "1  DDoS_TCP  \n",
       "2  DDoS_TCP  \n",
       "3   DoS_UDP  \n",
       "4  DDoS_UDP  "
      ]
     },
     "execution_count": 25,
     "metadata": {},
     "output_type": "execute_result"
    }
   ],
   "source": [
    "data['target'] = data['category'] + \"_\" + data['subcategory']\n",
    "data.head()"
   ]
  },
  {
   "cell_type": "code",
   "execution_count": 26,
   "metadata": {},
   "outputs": [
    {
     "name": "stderr",
     "output_type": "stream",
     "text": [
      "/Users/hrugvedwath/.pyenv/versions/3.7.7/lib/python3.7/site-packages/seaborn/_decorators.py:43: FutureWarning: Pass the following variable as a keyword arg: x. From version 0.12, the only valid positional argument will be `data`, and passing other arguments without an explicit keyword will result in an error or misinterpretation.\n",
      "  FutureWarning\n"
     ]
    },
    {
     "data": {
      "text/plain": [
       "<AxesSubplot:xlabel='target', ylabel='count'>"
      ]
     },
     "execution_count": 26,
     "metadata": {},
     "output_type": "execute_result"
    },
    {
     "data": {
      "image/png": "[encoded data removed]",
      "text/plain": [
       "<Figure size 720x360 with 1 Axes>"
      ]
     },
     "metadata": {
      "needs_background": "light"
     },
     "output_type": "display_data"
    }
   ],
   "source": [
    "plt.figure(figsize=(10,5))\n",
    "plt.xticks(rotation=90)\n",
    "sns.countplot(data['target'],palette='Accent')"
   ]
  },
  {
   "cell_type": "code",
   "execution_count": 27,
   "metadata": {},
   "outputs": [
    {
     "data": {
      "text/plain": [
       "<AxesSubplot:>"
      ]
     },
     "execution_count": 27,
     "metadata": {},
     "output_type": "execute_result"
    },
    {
     "data": {
      "image/png": "[encoded data removed]",
      "text/plain": [
       "<Figure size 1440x864 with 2 Axes>"
      ]
     },
     "metadata": {},
     "output_type": "display_data"
    }
   ],
   "source": [
    "corr = data.corr()\n",
    "\n",
    "\n",
    "sns.set_theme('notebook')\n",
    "\n",
    "mask = np.triu(np.ones_like(corr, dtype=bool))\n",
    "cmap = sns.diverging_palette(230, 20, as_cmap=True)\n",
    "\n",
    "plt.figure(figsize=(20,12))\n",
    "sns.heatmap(corr, mask=mask, cmap=cmap, center=0, square=True, linewidths=1.)\n"
   ]
  },
  {
   "cell_type": "markdown",
   "metadata": {},
   "source": [
    "### Extracting 10 best features"
   ]
  },
  {
   "cell_type": "code",
   "execution_count": 12,
   "metadata": {},
   "outputs": [],
   "source": [
    "ten_best_features = data[['seq','stddev','N_IN_Conn_P_SrcIP', 'min', 'state_number', 'mean', 'N_IN_Conn_P_DstIP',\n",
    "       'drate', 'srate', 'max']]\n",
    "target_features = data[['attack','category','subcategory']]"
   ]
  },
  {
   "cell_type": "markdown",
   "metadata": {},
   "source": [
    "## Data Preprocessing"
   ]
  },
  {
   "cell_type": "code",
   "execution_count": 13,
   "metadata": {},
   "outputs": [
    {
     "data": {
      "text/plain": [
       "['DDoS', 'DoS', 'Normal', 'Reconnaissance', 'Theft']"
      ]
     },
     "execution_count": 13,
     "metadata": {},
     "output_type": "execute_result"
    }
   ],
   "source": [
    "# Label Encoding the target columns\n",
    "le = LabelEncoder()\n",
    "target_features['category'] = le.fit_transform(target_features['category'])\n",
    "list(le.classes_)\n",
    "# target_features['subcategory'] = le.fit_transform(target_features['subcategory'])\n",
    "# print(list(le.classes_))\n",
    "# target_features.head()"
   ]
  },
  {
   "cell_type": "code",
   "execution_count": 9,
   "metadata": {},
   "outputs": [
    {
     "data": {
      "text/plain": [
       "['Data_Exfiltration',\n",
       " 'HTTP',\n",
       " 'Keylogging',\n",
       " 'Normal',\n",
       " 'OS_Fingerprint',\n",
       " 'Service_Scan',\n",
       " 'TCP',\n",
       " 'UDP']"
      ]
     },
     "execution_count": 9,
     "metadata": {},
     "output_type": "execute_result"
    }
   ],
   "source": [
    "list(le.classes_)"
   ]
  },
  {
   "cell_type": "code",
   "execution_count": 50,
   "metadata": {},
   "outputs": [],
   "source": [
    "# Train-test Split\n",
    "X_train, X_test, y_train, y_test = train_test_split(ten_best_features,target_features)\n"
   ]
  },
  {
   "cell_type": "code",
   "execution_count": 51,
   "metadata": {},
   "outputs": [
    {
     "data": {
      "text/html": [
       "<div>\n",
       "<style scoped>\n",
       "    .dataframe tbody tr th:only-of-type {\n",
       "        vertical-align: middle;\n",
       "    }\n",
       "\n",
       "    .dataframe tbody tr th {\n",
       "        vertical-align: top;\n",
       "    }\n",
       "\n",
       "    .dataframe thead th {\n",
       "        text-align: right;\n",
       "    }\n",
       "</style>\n",
       "<table border=\"1\" class=\"dataframe\">\n",
       "  <thead>\n",
       "    <tr style=\"text-align: right;\">\n",
       "      <th></th>\n",
       "      <th>seq</th>\n",
       "      <th>stddev</th>\n",
       "      <th>N_IN_Conn_P_SrcIP</th>\n",
       "      <th>min</th>\n",
       "      <th>state_number</th>\n",
       "      <th>mean</th>\n",
       "      <th>N_IN_Conn_P_DstIP</th>\n",
       "      <th>drate</th>\n",
       "      <th>srate</th>\n",
       "      <th>max</th>\n",
       "    </tr>\n",
       "  </thead>\n",
       "  <tbody>\n",
       "    <tr>\n",
       "      <th>2690380</th>\n",
       "      <td>259370</td>\n",
       "      <td>0.0</td>\n",
       "      <td>100</td>\n",
       "      <td>0.0</td>\n",
       "      <td>3</td>\n",
       "      <td>0.0</td>\n",
       "      <td>100</td>\n",
       "      <td>0.0</td>\n",
       "      <td>0.097145</td>\n",
       "      <td>0.0</td>\n",
       "    </tr>\n",
       "  </tbody>\n",
       "</table>\n",
       "</div>"
      ],
      "text/plain": [
       "            seq  stddev  N_IN_Conn_P_SrcIP  min  state_number  mean  \\\n",
       "2690380  259370     0.0                100  0.0             3   0.0   \n",
       "\n",
       "         N_IN_Conn_P_DstIP  drate     srate  max  \n",
       "2690380                100    0.0  0.097145  0.0  "
      ]
     },
     "execution_count": 51,
     "metadata": {},
     "output_type": "execute_result"
    }
   ],
   "source": [
    "X_test[0:1]"
   ]
  },
  {
   "cell_type": "code",
   "execution_count": 31,
   "metadata": {},
   "outputs": [],
   "source": [
    "# Scaling the data\n",
    "sc = StandardScaler()\n",
    "X_train = sc.fit_transform(X_train)\n",
    "X_test = sc.transform(X_test)"
   ]
  },
  {
   "cell_type": "markdown",
   "metadata": {},
   "source": [
    "## Defining the ML Model Classes"
   ]
  },
  {
   "cell_type": "code",
   "execution_count": 28,
   "metadata": {},
   "outputs": [],
   "source": [
    "class RandomForest:\n",
    "    def __init__(self,max_depth):\n",
    "        self.rfc_attack = RandomForestClassifier(max_depth=max_depth)\n",
    "        self.rfc_category = RandomForestClassifier(max_depth=max_depth)\n",
    "        self.rfc_subcategory = RandomForestClassifier(max_depth=max_depth)\n",
    "    \n",
    "    def fit(self,X_train,y_train):\n",
    "        self.rfc_attack.fit(X_train,y_train['attack'])\n",
    "        \n",
    "        features_category = np.concatenate((X_train,np.array(y_train['attack']).reshape(-1,1)),axis=1)\n",
    "        self.rfc_category.fit(features_category,y_train['category'])\n",
    "        \n",
    "        features_subcategory = np.concatenate((features_category,np.array(y_train['category']).reshape(-1,1)),axis=1)\n",
    "        self.rfc_subcategory.fit(features_subcategory,y_train['subcategory'])\n",
    "        \n",
    "    def predict(self,X_test):\n",
    "        predict_attack = self.rfc_attack.predict(X_test)\n",
    "        \n",
    "        test_category = np.concatenate((X_test,predict_attack.reshape(-1,1)),axis=1)\n",
    "        predict_category = self.rfc_category.predict(test_category)\n",
    "        \n",
    "        test_subcategory = np.concatenate((test_category,predict_category.reshape(-1,1)),axis=1)\n",
    "        predict_subcategory = self.rfc_subcategory.predict(test_subcategory)\n",
    "        \n",
    "        return pd.DataFrame({'attack':predict_attack,'category':predict_category,'subcategory':predict_subcategory})"
   ]
  },
  {
   "cell_type": "code",
   "execution_count": 29,
   "metadata": {},
   "outputs": [],
   "source": [
    "class NaiveBayes:\n",
    "    def __init__(self):\n",
    "        self.nb_attack = GaussianNB()\n",
    "        self.nb_category = GaussianNB()\n",
    "        self.nb_subcategory = GaussianNB()\n",
    "    \n",
    "    def fit(self,X_train,y_train):\n",
    "        self.nb_attack.fit(X_train,y_train['attack'])\n",
    "        \n",
    "        features_category = np.concatenate((X_train,np.array(y_train['attack']).reshape(-1,1)),axis=1)\n",
    "        self.nb_category.fit(features_category,y_train['category'])\n",
    "        \n",
    "        features_subcategory = np.concatenate((features_category,np.array(y_train['category']).reshape(-1,1)),axis=1)\n",
    "        self.nb_subcategory.fit(features_subcategory,y_train['subcategory'])\n",
    "        \n",
    "    def predict(self,X_test):\n",
    "        predict_attack = self.nb_attack.predict(X_test)\n",
    "        \n",
    "        test_category = np.concatenate((X_test,predict_attack.reshape(-1,1)),axis=1)\n",
    "        predict_category = self.nb_category.predict(test_category)\n",
    "        \n",
    "        test_subcategory = np.concatenate((test_category,predict_category.reshape(-1,1)),axis=1)\n",
    "        predict_subcategory = self.nb_subcategory.predict(test_subcategory)\n",
    "        \n",
    "        return pd.DataFrame({'attack':predict_attack,'category':predict_category,'subcategory':predict_subcategory})"
   ]
  },
  {
   "cell_type": "code",
   "execution_count": 30,
   "metadata": {},
   "outputs": [],
   "source": [
    "class DecisionTree:\n",
    "    def __init__(self,criterion,max_depth=5):\n",
    "        self.dtree_attack = DecisionTreeClassifier(criterion=criterion,max_depth=max_depth)\n",
    "        self.dtree_category = DecisionTreeClassifier(criterion=criterion,max_depth=max_depth)\n",
    "        self.dtree_subcategory = DecisionTreeClassifier(criterion=criterion,max_depth=max_depth)\n",
    "    \n",
    "    def fit(self,X_train,y_train):\n",
    "        self.dtree_attack.fit(X_train,y_train['attack'])\n",
    "        \n",
    "        features_category = np.concatenate((X_train,np.array(y_train['attack']).reshape(-1,1)),axis=1)\n",
    "        self.dtree_category.fit(features_category,y_train['category'])\n",
    "        \n",
    "        features_subcategory = np.concatenate((features_category,np.array(y_train['category']).reshape(-1,1)),axis=1)\n",
    "        self.dtree_subcategory.fit(features_subcategory,y_train['subcategory'])\n",
    "        \n",
    "    def predict(self,X_test):\n",
    "        predict_attack = self.dtree_attack.predict(X_test)\n",
    "        \n",
    "        test_category = np.concatenate((X_test,predict_attack.reshape(-1,1)),axis=1)\n",
    "        predict_category = self.dtree_category.predict(test_category)\n",
    "        \n",
    "        test_subcategory = np.concatenate((test_category,predict_category.reshape(-1,1)),axis=1)\n",
    "        predict_subcategory = self.dtree_subcategory.predict(test_subcategory)\n",
    "        \n",
    "        return pd.DataFrame({'attack':predict_attack,'category':predict_category,'subcategory':predict_subcategory})"
   ]
  },
  {
   "cell_type": "code",
   "execution_count": 32,
   "metadata": {},
   "outputs": [],
   "source": [
    "class GradientBoost:\n",
    "    def __init__(self):\n",
    "        self.xgb_attack = XGBClassifier()\n",
    "        self.xgb_category = XGBClassifier()\n",
    "        self.xgb_subcategory = XGBClassifier()\n",
    "\n",
    "    # def set(self,_xgb_attack,_xgb_category,_xgb_subcategory):\n",
    "    #     self.xgb_attack = _xgb_attack\n",
    "    #     self.xgb_category = _xgb_category\n",
    "    #     self.xgb_subcategory = _xgb_subcategory\n",
    "    \n",
    "    def fit(self,X_train,y_train):\n",
    "        self.xgb_attack.fit(X_train,y_train['attack'])\n",
    "        \n",
    "        features_category = np.concatenate((X_train,np.array(y_train['attack']).reshape(-1,1)),axis=1)\n",
    "        self.xgb_category.fit(features_category,y_train['category'])\n",
    "        \n",
    "        features_subcategory = np.concatenate((features_category,np.array(y_train['category']).reshape(-1,1)),axis=1)\n",
    "        self.xgb_subcategory.fit(features_subcategory,y_train['subcategory'])\n",
    "        \n",
    "    def predict(self,X_test):\n",
    "        predict_attack = self.xgb_attack.predict(X_test)\n",
    "        \n",
    "        test_category = np.concatenate((X_test,predict_attack.reshape(-1,1)),axis=1)\n",
    "        predict_category = self.xgb_category.predict(test_category)\n",
    "        \n",
    "        test_subcategory = np.concatenate((test_category,predict_category.reshape(-1,1)),axis=1)\n",
    "        predict_subcategory = self.xgb_subcategory.predict(test_subcategory)\n",
    "        \n",
    "        return pd.DataFrame({'attack':predict_attack,'category':predict_category,'subcategory':predict_subcategory})"
   ]
  },
  {
   "cell_type": "markdown",
   "metadata": {},
   "source": [
    "### Validation of ML Models on Training Dataset"
   ]
  },
  {
   "cell_type": "markdown",
   "metadata": {},
   "source": [
    "**Random Forest**"
   ]
  },
  {
   "cell_type": "code",
   "execution_count": 33,
   "metadata": {},
   "outputs": [],
   "source": [
    "rf = RandomForest(max_depth=3)\n",
    "rf.fit(X_train,y_train)\n",
    "\n",
    "predictions_rfc = rf.predict(X_test)"
   ]
  },
  {
   "cell_type": "code",
   "execution_count": 2,
   "metadata": {},
   "outputs": [
    {
     "ename": "NameError",
     "evalue": "name 'rf' is not defined",
     "output_type": "error",
     "traceback": [
      "\u001b[0;31m---------------------------------------------------------------------------\u001b[0m",
      "\u001b[0;31mNameError\u001b[0m                                 Traceback (most recent call last)",
      "\u001b[0;32m/var/folders/zn/4_sw7bx56wq4ps7dr4483mw00000gn/T/ipykernel_31250/1656283227.py\u001b[0m in \u001b[0;36m<module>\u001b[0;34m\u001b[0m\n\u001b[1;32m      1\u001b[0m \u001b[0;32mimport\u001b[0m \u001b[0mpickle\u001b[0m\u001b[0;34m\u001b[0m\u001b[0;34m\u001b[0m\u001b[0m\n\u001b[1;32m      2\u001b[0m \u001b[0mfilename\u001b[0m \u001b[0;34m=\u001b[0m \u001b[0;34m'rf_1.sav'\u001b[0m\u001b[0;34m\u001b[0m\u001b[0;34m\u001b[0m\u001b[0m\n\u001b[0;32m----> 3\u001b[0;31m \u001b[0mpickle\u001b[0m\u001b[0;34m.\u001b[0m\u001b[0mdump\u001b[0m\u001b[0;34m(\u001b[0m\u001b[0mrf\u001b[0m\u001b[0;34m.\u001b[0m\u001b[0mrfc_attack\u001b[0m\u001b[0;34m,\u001b[0m \u001b[0mopen\u001b[0m\u001b[0;34m(\u001b[0m\u001b[0mfilename\u001b[0m\u001b[0;34m,\u001b[0m \u001b[0;34m'wb'\u001b[0m\u001b[0;34m)\u001b[0m\u001b[0;34m)\u001b[0m\u001b[0;34m\u001b[0m\u001b[0;34m\u001b[0m\u001b[0m\n\u001b[0m",
      "\u001b[0;31mNameError\u001b[0m: name 'rf' is not defined"
     ]
    }
   ],
   "source": [
    "import pickle\n",
    "filename = 'rf_1.sav'\n",
    "pickle.dump(rf.rfc_attack, open(filename, 'wb'))"
   ]
  },
  {
   "cell_type": "code",
   "execution_count": 3,
   "metadata": {},
   "outputs": [
    {
     "ename": "NameError",
     "evalue": "name 'rf' is not defined",
     "output_type": "error",
     "traceback": [
      "\u001b[0;31m---------------------------------------------------------------------------\u001b[0m",
      "\u001b[0;31mNameError\u001b[0m                                 Traceback (most recent call last)",
      "\u001b[0;32m/var/folders/zn/4_sw7bx56wq4ps7dr4483mw00000gn/T/ipykernel_31250/3020851866.py\u001b[0m in \u001b[0;36m<module>\u001b[0;34m\u001b[0m\n\u001b[0;32m----> 1\u001b[0;31m \u001b[0mpredictions_rfc\u001b[0m \u001b[0;34m=\u001b[0m \u001b[0mrf\u001b[0m\u001b[0;34m.\u001b[0m\u001b[0mpredict\u001b[0m\u001b[0;34m(\u001b[0m\u001b[0mX_test\u001b[0m\u001b[0;34m)\u001b[0m\u001b[0;34m\u001b[0m\u001b[0;34m\u001b[0m\u001b[0m\n\u001b[0m",
      "\u001b[0;31mNameError\u001b[0m: name 'rf' is not defined"
     ]
    }
   ],
   "source": [
    "predictions_rfc = rf.predict(X_test)"
   ]
  },
  {
   "cell_type": "code",
   "execution_count": null,
   "metadata": {},
   "outputs": [],
   "source": []
  },
  {
   "cell_type": "code",
   "execution_count": null,
   "metadata": {},
   "outputs": [],
   "source": []
  },
  {
   "cell_type": "code",
   "execution_count": 34,
   "metadata": {},
   "outputs": [
    {
     "name": "stdout",
     "output_type": "stream",
     "text": [
      "[[     7     90]\n",
      " [     0 733608]]\n",
      "              precision    recall  f1-score   support\n",
      "\n",
      "           0       1.00      0.07      0.13        97\n",
      "           1       1.00      1.00      1.00    733608\n",
      "\n",
      "    accuracy                           1.00    733705\n",
      "   macro avg       1.00      0.54      0.57    733705\n",
      "weighted avg       1.00      1.00      1.00    733705\n",
      "\n"
     ]
    }
   ],
   "source": [
    "print(confusion_matrix(y_test['attack'],predictions_rfc['attack']))\n",
    "print(classification_report(y_test['attack'],predictions_rfc['attack']))"
   ]
  },
  {
   "cell_type": "code",
   "execution_count": 35,
   "metadata": {},
   "outputs": [
    {
     "name": "stdout",
     "output_type": "stream",
     "text": [
      "[[371717  13205      0      0      0]\n",
      " [ 42429 287917      0      3      0]\n",
      " [     0     35      0     62      0]\n",
      " [ 10472    913      0   6935      0]\n",
      " [     0      5      0     12      0]]\n",
      "              precision    recall  f1-score   support\n",
      "\n",
      "           0       0.88      0.97      0.92    384922\n",
      "           1       0.95      0.87      0.91    330349\n",
      "           2       0.00      0.00      0.00        97\n",
      "           3       0.99      0.38      0.55     18320\n",
      "           4       0.00      0.00      0.00        17\n",
      "\n",
      "    accuracy                           0.91    733705\n",
      "   macro avg       0.56      0.44      0.48    733705\n",
      "weighted avg       0.91      0.91      0.91    733705\n",
      "\n"
     ]
    }
   ],
   "source": [
    "print(confusion_matrix(y_test['category'],predictions_rfc['category']))\n",
    "print(classification_report(y_test['category'],predictions_rfc['category']))"
   ]
  },
  {
   "cell_type": "code",
   "execution_count": 36,
   "metadata": {},
   "outputs": [
    {
     "name": "stdout",
     "output_type": "stream",
     "text": [
      "[[     0      0      0      0      0      0      0      2]\n",
      " [     0      0      0      0      0      3    491      0]\n",
      " [     0      0      0      0      0     12      0      3]\n",
      " [     0      0      0      0      0     62     31      4]\n",
      " [     0      0      0      0      0    190   3380      9]\n",
      " [     0      0      0      0      0   6745   7991      5]\n",
      " [     0      0      0      0      0      0 318070    242]\n",
      " [     0      0      0      0      0      0      6 396459]]\n",
      "              precision    recall  f1-score   support\n",
      "\n",
      "           0       0.00      0.00      0.00         2\n",
      "           1       0.00      0.00      0.00       494\n",
      "           2       0.00      0.00      0.00        15\n",
      "           3       0.00      0.00      0.00        97\n",
      "           4       0.00      0.00      0.00      3579\n",
      "           5       0.96      0.46      0.62     14741\n",
      "           6       0.96      1.00      0.98    318312\n",
      "           7       1.00      1.00      1.00    396465\n",
      "\n",
      "    accuracy                           0.98    733705\n",
      "   macro avg       0.37      0.31      0.33    733705\n",
      "weighted avg       0.98      0.98      0.98    733705\n",
      "\n"
     ]
    }
   ],
   "source": [
    "print(confusion_matrix(y_test['subcategory'],predictions_rfc['subcategory']))\n",
    "print(classification_report(y_test['subcategory'],predictions_rfc['subcategory']))"
   ]
  },
  {
   "cell_type": "code",
   "execution_count": 37,
   "metadata": {},
   "outputs": [
    {
     "data": {
      "text/plain": [
       "0.9998773348961776"
      ]
     },
     "execution_count": 37,
     "metadata": {},
     "output_type": "execute_result"
    }
   ],
   "source": [
    "rf.rfc_attack.score(X_test,y_test['attack'])"
   ]
  },
  {
   "cell_type": "code",
   "execution_count": 38,
   "metadata": {},
   "outputs": [
    {
     "data": {
      "text/plain": [
       "0.9084972843308959"
      ]
     },
     "execution_count": 38,
     "metadata": {},
     "output_type": "execute_result"
    }
   ],
   "source": [
    "rf.rfc_category.score(np.concatenate((X_test,np.array(predictions_rfc['attack']).reshape(-1,1)),axis=1),y_test['category'])"
   ]
  },
  {
   "cell_type": "code",
   "execution_count": 39,
   "metadata": {},
   "outputs": [
    {
     "data": {
      "text/plain": [
       "0.9830572232709331"
      ]
     },
     "execution_count": 39,
     "metadata": {},
     "output_type": "execute_result"
    }
   ],
   "source": [
    "rf.rfc_subcategory.score(np.concatenate((X_test,np.array(predictions_rfc['attack']).reshape(-1,1),\n",
    "                                    np.array(predictions_rfc['category']).reshape(-1,1)),axis=1),y_test['subcategory'])"
   ]
  },
  {
   "cell_type": "markdown",
   "metadata": {},
   "source": [
    "**Naive Bayes**"
   ]
  },
  {
   "cell_type": "code",
   "execution_count": 40,
   "metadata": {},
   "outputs": [],
   "source": [
    "nb = NaiveBayes()\n",
    "nb.fit(X_train,y_train)\n",
    "\n",
    "predictions_nb = nb.predict(X_test)"
   ]
  },
  {
   "cell_type": "code",
   "execution_count": 41,
   "metadata": {},
   "outputs": [
    {
     "name": "stdout",
     "output_type": "stream",
     "text": [
      "[[    87     10]\n",
      " [  2790 730818]]\n",
      "              precision    recall  f1-score   support\n",
      "\n",
      "           0       0.03      0.90      0.06        97\n",
      "           1       1.00      1.00      1.00    733608\n",
      "\n",
      "    accuracy                           1.00    733705\n",
      "   macro avg       0.52      0.95      0.53    733705\n",
      "weighted avg       1.00      1.00      1.00    733705\n",
      "\n"
     ]
    }
   ],
   "source": [
    "print(confusion_matrix(y_test['attack'],predictions_nb['attack']))\n",
    "print(classification_report(y_test['attack'],predictions_nb['attack']))"
   ]
  },
  {
   "cell_type": "code",
   "execution_count": 42,
   "metadata": {},
   "outputs": [
    {
     "name": "stdout",
     "output_type": "stream",
     "text": [
      "[[368666  16110     40    106      0]\n",
      " [183173 146108    704    364      0]\n",
      " [     0      7     87      3      0]\n",
      " [ 10957   1560   2039   3764      0]\n",
      " [     0      0      7      0     10]]\n",
      "              precision    recall  f1-score   support\n",
      "\n",
      "           0       0.66      0.96      0.78    384922\n",
      "           1       0.89      0.44      0.59    330349\n",
      "           2       0.03      0.90      0.06        97\n",
      "           3       0.89      0.21      0.33     18320\n",
      "           4       1.00      0.59      0.74        17\n",
      "\n",
      "    accuracy                           0.71    733705\n",
      "   macro avg       0.69      0.62      0.50    733705\n",
      "weighted avg       0.77      0.71      0.68    733705\n",
      "\n"
     ]
    }
   ],
   "source": [
    "print(confusion_matrix(y_test['category'],predictions_nb['category']))\n",
    "print(classification_report(y_test['category'],predictions_nb['category']))"
   ]
  },
  {
   "cell_type": "code",
   "execution_count": 43,
   "metadata": {},
   "outputs": [
    {
     "name": "stdout",
     "output_type": "stream",
     "text": [
      "[[     1      0      0      1      0      0      0      0]\n",
      " [     0    322      0     11      0    151     10      0]\n",
      " [     1      0      8      6      0      0      0      0]\n",
      " [     0      0      0     87      3      0      7      0]\n",
      " [     0    216      0    100      2    145   3116      0]\n",
      " [     0    564      0   1939    479   3138   8621      0]\n",
      " [     0    903      0    727      4    315 316363      0]\n",
      " [     0      0      0      6      0      0     19 396440]]\n",
      "              precision    recall  f1-score   support\n",
      "\n",
      "           0       0.50      0.50      0.50         2\n",
      "           1       0.16      0.65      0.26       494\n",
      "           2       1.00      0.53      0.70        15\n",
      "           3       0.03      0.90      0.06        97\n",
      "           4       0.00      0.00      0.00      3579\n",
      "           5       0.84      0.21      0.34     14741\n",
      "           6       0.96      0.99      0.98    318312\n",
      "           7       1.00      1.00      1.00    396465\n",
      "\n",
      "    accuracy                           0.98    733705\n",
      "   macro avg       0.56      0.60      0.48    733705\n",
      "weighted avg       0.98      0.98      0.97    733705\n",
      "\n"
     ]
    }
   ],
   "source": [
    "print(confusion_matrix(y_test['subcategory'],predictions_nb['subcategory']))\n",
    "print(classification_report(y_test['subcategory'],predictions_nb['subcategory']))"
   ]
  },
  {
   "cell_type": "markdown",
   "metadata": {},
   "source": [
    "**Decision Tree (Information Gain)**"
   ]
  },
  {
   "cell_type": "code",
   "execution_count": 44,
   "metadata": {},
   "outputs": [],
   "source": [
    "dtree_ig = DecisionTree('entropy')\n",
    "dtree_ig.fit(X_train,y_train)\n",
    "predictions_dtree_ig = dtree_ig.predict(X_test)"
   ]
  },
  {
   "cell_type": "code",
   "execution_count": 45,
   "metadata": {},
   "outputs": [
    {
     "name": "stdout",
     "output_type": "stream",
     "text": [
      "[[    36     61]\n",
      " [     0 733608]]\n",
      "              precision    recall  f1-score   support\n",
      "\n",
      "           0       1.00      0.37      0.54        97\n",
      "           1       1.00      1.00      1.00    733608\n",
      "\n",
      "    accuracy                           1.00    733705\n",
      "   macro avg       1.00      0.69      0.77    733705\n",
      "weighted avg       1.00      1.00      1.00    733705\n",
      "\n"
     ]
    }
   ],
   "source": [
    "print(confusion_matrix(y_test['attack'],predictions_dtree_ig['attack']))\n",
    "print(classification_report(y_test['attack'],predictions_dtree_ig['attack']))"
   ]
  },
  {
   "cell_type": "code",
   "execution_count": 46,
   "metadata": {},
   "outputs": [
    {
     "name": "stdout",
     "output_type": "stream",
     "text": [
      "[[338578  45820      0    524      0]\n",
      " [ 11456 318857      0     36      0]\n",
      " [     0     17     30     50      0]\n",
      " [   396   7631      0  10293      0]\n",
      " [     0      0      0     17      0]]\n",
      "              precision    recall  f1-score   support\n",
      "\n",
      "           0       0.97      0.88      0.92    384922\n",
      "           1       0.86      0.97      0.91    330349\n",
      "           2       1.00      0.31      0.47        97\n",
      "           3       0.94      0.56      0.70     18320\n",
      "           4       0.00      0.00      0.00        17\n",
      "\n",
      "    accuracy                           0.91    733705\n",
      "   macro avg       0.75      0.54      0.60    733705\n",
      "weighted avg       0.92      0.91      0.91    733705\n",
      "\n"
     ]
    }
   ],
   "source": [
    "print(confusion_matrix(y_test['category'],predictions_dtree_ig['category']))\n",
    "print(classification_report(y_test['category'],predictions_dtree_ig['category']))"
   ]
  },
  {
   "cell_type": "code",
   "execution_count": 47,
   "metadata": {},
   "outputs": [
    {
     "name": "stdout",
     "output_type": "stream",
     "text": [
      "[[     0      0      2      0      0      0      0      0]\n",
      " [     0    374      0      0      0     86     33      1]\n",
      " [     0      0      3      0      0     12      0      0]\n",
      " [     0      0      0     34      7     39      1     16]\n",
      " [     0      0      0      0    933    549   2073     24]\n",
      " [     0     18      0      0    220   8595   5899      9]\n",
      " [     0     20      0      0      0    462 317829      1]\n",
      " [     0      0      0     12      0      0      5 396448]]\n",
      "              precision    recall  f1-score   support\n",
      "\n",
      "           0       0.00      0.00      0.00         2\n",
      "           1       0.91      0.76      0.83       494\n",
      "           2       0.60      0.20      0.30        15\n",
      "           3       0.74      0.35      0.48        97\n",
      "           4       0.80      0.26      0.39      3579\n",
      "           5       0.88      0.58      0.70     14741\n",
      "           6       0.98      1.00      0.99    318312\n",
      "           7       1.00      1.00      1.00    396465\n",
      "\n",
      "    accuracy                           0.99    733705\n",
      "   macro avg       0.74      0.52      0.59    733705\n",
      "weighted avg       0.99      0.99      0.99    733705\n",
      "\n"
     ]
    }
   ],
   "source": [
    "print(confusion_matrix(y_test['subcategory'],predictions_dtree_ig['subcategory']))\n",
    "print(classification_report(y_test['subcategory'],predictions_dtree_ig['subcategory']))"
   ]
  },
  {
   "cell_type": "code",
   "execution_count": 48,
   "metadata": {},
   "outputs": [
    {
     "data": {
      "text/plain": [
       "0.9999168603185203"
      ]
     },
     "execution_count": 48,
     "metadata": {},
     "output_type": "execute_result"
    }
   ],
   "source": [
    "dtree_ig.dtree_attack.score(X_test,y_test['attack'])"
   ]
  },
  {
   "cell_type": "code",
   "execution_count": 49,
   "metadata": {},
   "outputs": [
    {
     "data": {
      "text/plain": [
       "0.9101178266469494"
      ]
     },
     "execution_count": 49,
     "metadata": {},
     "output_type": "execute_result"
    }
   ],
   "source": [
    "dtree_ig.dtree_category.score(np.concatenate((X_test,np.array(predictions_dtree_ig['attack']).reshape(-1,1)),axis=1),y_test['category'])"
   ]
  },
  {
   "cell_type": "code",
   "execution_count": 50,
   "metadata": {},
   "outputs": [
    {
     "data": {
      "text/plain": [
       "0.987067009220327"
      ]
     },
     "execution_count": 50,
     "metadata": {},
     "output_type": "execute_result"
    }
   ],
   "source": [
    "dtree_ig.dtree_subcategory.score(np.concatenate((X_test,np.array(predictions_dtree_ig['attack']).reshape(-1,1),\n",
    "                                        np.array(predictions_dtree_ig['category']).reshape(-1,1)),axis=1),y_test['subcategory'])"
   ]
  },
  {
   "cell_type": "markdown",
   "metadata": {},
   "source": [
    "**Decision Tree (Gini Index)**"
   ]
  },
  {
   "cell_type": "code",
   "execution_count": 51,
   "metadata": {},
   "outputs": [],
   "source": [
    "dtree_gini = DecisionTree('gini')\n",
    "dtree_gini.fit(X_train,y_train)\n",
    "predictions_dtree_gini = dtree_gini.predict(X_test)"
   ]
  },
  {
   "cell_type": "code",
   "execution_count": 52,
   "metadata": {},
   "outputs": [
    {
     "name": "stdout",
     "output_type": "stream",
     "text": [
      "[[    47     50]\n",
      " [     7 733601]]\n",
      "              precision    recall  f1-score   support\n",
      "\n",
      "           0       0.87      0.48      0.62        97\n",
      "           1       1.00      1.00      1.00    733608\n",
      "\n",
      "    accuracy                           1.00    733705\n",
      "   macro avg       0.94      0.74      0.81    733705\n",
      "weighted avg       1.00      1.00      1.00    733705\n",
      "\n"
     ]
    }
   ],
   "source": [
    "print(confusion_matrix(y_test['attack'],predictions_dtree_gini['attack']))\n",
    "print(classification_report(y_test['attack'],predictions_dtree_gini['attack']))"
   ]
  },
  {
   "cell_type": "code",
   "execution_count": 53,
   "metadata": {},
   "outputs": [
    {
     "name": "stdout",
     "output_type": "stream",
     "text": [
      "[[337480  46980      0    462      0]\n",
      " [  8395 321949      0      5      0]\n",
      " [     0     27     37     33      0]\n",
      " [    81   7553      0  10686      0]\n",
      " [     0      5      0     12      0]]\n",
      "              precision    recall  f1-score   support\n",
      "\n",
      "           0       0.98      0.88      0.92    384922\n",
      "           1       0.86      0.97      0.91    330349\n",
      "           2       1.00      0.38      0.55        97\n",
      "           3       0.95      0.58      0.72     18320\n",
      "           4       0.00      0.00      0.00        17\n",
      "\n",
      "    accuracy                           0.91    733705\n",
      "   macro avg       0.76      0.56      0.62    733705\n",
      "weighted avg       0.92      0.91      0.91    733705\n",
      "\n"
     ]
    }
   ],
   "source": [
    "print(confusion_matrix(y_test['category'],predictions_dtree_gini['category']))\n",
    "print(classification_report(y_test['category'],predictions_dtree_gini['category']))"
   ]
  },
  {
   "cell_type": "code",
   "execution_count": 54,
   "metadata": {},
   "outputs": [
    {
     "name": "stdout",
     "output_type": "stream",
     "text": [
      "[[     0      0      2      0      0      0      0      0]\n",
      " [     0    404      0      0      0      5     85      0]\n",
      " [     0      0      3      0      0     12      0      0]\n",
      " [     0     17      0      8      8     58      5      1]\n",
      " [     0     15      0      1    841    703   2019      0]\n",
      " [     0     15      1      0     61   9084   5580      0]\n",
      " [     0     67      0      0      0    462 317781      2]\n",
      " [     0      0      0      0      0      0      4 396461]]\n",
      "              precision    recall  f1-score   support\n",
      "\n",
      "           0       0.00      0.00      0.00         2\n",
      "           1       0.78      0.82      0.80       494\n",
      "           2       0.50      0.20      0.29        15\n",
      "           3       0.89      0.08      0.15        97\n",
      "           4       0.92      0.23      0.37      3579\n",
      "           5       0.88      0.62      0.72     14741\n",
      "           6       0.98      1.00      0.99    318312\n",
      "           7       1.00      1.00      1.00    396465\n",
      "\n",
      "    accuracy                           0.99    733705\n",
      "   macro avg       0.74      0.49      0.54    733705\n",
      "weighted avg       0.99      0.99      0.99    733705\n",
      "\n"
     ]
    }
   ],
   "source": [
    "print(confusion_matrix(y_test['subcategory'],predictions_dtree_gini['subcategory']))\n",
    "print(classification_report(y_test['subcategory'],predictions_dtree_gini['subcategory']))"
   ]
  },
  {
   "cell_type": "code",
   "execution_count": 44,
   "metadata": {},
   "outputs": [
    {
     "data": {
      "text/plain": [
       "0.9999454821760789"
      ]
     },
     "execution_count": 44,
     "metadata": {},
     "output_type": "execute_result"
    }
   ],
   "source": [
    "dtree_gini.dtree_attack.score(X_test,y_test['attack'])"
   ]
  },
  {
   "cell_type": "code",
   "execution_count": 45,
   "metadata": {},
   "outputs": [
    {
     "data": {
      "text/plain": [
       "0.913705099460955"
      ]
     },
     "execution_count": 45,
     "metadata": {},
     "output_type": "execute_result"
    }
   ],
   "source": [
    "dtree_gini.dtree_category.score(np.concatenate((X_test,np.array(predictions_dtree_gini['attack']).reshape(-1,1)),axis=1),y_test['category'])"
   ]
  },
  {
   "cell_type": "code",
   "execution_count": 46,
   "metadata": {},
   "outputs": [
    {
     "data": {
      "text/plain": [
       "0.987639446371498"
      ]
     },
     "execution_count": 46,
     "metadata": {},
     "output_type": "execute_result"
    }
   ],
   "source": [
    "dtree_gini.dtree_subcategory.score(np.concatenate((X_test,np.array(predictions_dtree_gini['attack']).reshape(-1,1),\n",
    "                                        np.array(predictions_dtree_gini['category']).reshape(-1,1)),axis=1),y_test['subcategory'])"
   ]
  },
  {
   "cell_type": "markdown",
   "metadata": {},
   "source": [
    "**Gradient Boost**"
   ]
  },
  {
   "cell_type": "code",
   "execution_count": 33,
   "metadata": {},
   "outputs": [],
   "source": [
    "# 15-16 min\n",
    "xgb = GradientBoost()\n",
    "xgb.fit(X_train,y_train)\n",
    "predictions_xgb = xgb.predict(X_test)"
   ]
  },
  {
   "cell_type": "code",
   "execution_count": 34,
   "metadata": {},
   "outputs": [
    {
     "data": {
      "text/html": [
       "<div>\n",
       "<style scoped>\n",
       "    .dataframe tbody tr th:only-of-type {\n",
       "        vertical-align: middle;\n",
       "    }\n",
       "\n",
       "    .dataframe tbody tr th {\n",
       "        vertical-align: top;\n",
       "    }\n",
       "\n",
       "    .dataframe thead th {\n",
       "        text-align: right;\n",
       "    }\n",
       "</style>\n",
       "<table border=\"1\" class=\"dataframe\">\n",
       "  <thead>\n",
       "    <tr style=\"text-align: right;\">\n",
       "      <th></th>\n",
       "      <th>attack</th>\n",
       "      <th>category</th>\n",
       "      <th>subcategory</th>\n",
       "    </tr>\n",
       "  </thead>\n",
       "  <tbody>\n",
       "    <tr>\n",
       "      <th>0</th>\n",
       "      <td>1</td>\n",
       "      <td>1</td>\n",
       "      <td>7</td>\n",
       "    </tr>\n",
       "    <tr>\n",
       "      <th>1</th>\n",
       "      <td>1</td>\n",
       "      <td>1</td>\n",
       "      <td>6</td>\n",
       "    </tr>\n",
       "    <tr>\n",
       "      <th>2</th>\n",
       "      <td>1</td>\n",
       "      <td>0</td>\n",
       "      <td>7</td>\n",
       "    </tr>\n",
       "    <tr>\n",
       "      <th>3</th>\n",
       "      <td>1</td>\n",
       "      <td>3</td>\n",
       "      <td>4</td>\n",
       "    </tr>\n",
       "    <tr>\n",
       "      <th>4</th>\n",
       "      <td>1</td>\n",
       "      <td>0</td>\n",
       "      <td>7</td>\n",
       "    </tr>\n",
       "    <tr>\n",
       "      <th>...</th>\n",
       "      <td>...</td>\n",
       "      <td>...</td>\n",
       "      <td>...</td>\n",
       "    </tr>\n",
       "    <tr>\n",
       "      <th>733700</th>\n",
       "      <td>1</td>\n",
       "      <td>0</td>\n",
       "      <td>6</td>\n",
       "    </tr>\n",
       "    <tr>\n",
       "      <th>733701</th>\n",
       "      <td>1</td>\n",
       "      <td>0</td>\n",
       "      <td>6</td>\n",
       "    </tr>\n",
       "    <tr>\n",
       "      <th>733702</th>\n",
       "      <td>1</td>\n",
       "      <td>0</td>\n",
       "      <td>7</td>\n",
       "    </tr>\n",
       "    <tr>\n",
       "      <th>733703</th>\n",
       "      <td>1</td>\n",
       "      <td>0</td>\n",
       "      <td>7</td>\n",
       "    </tr>\n",
       "    <tr>\n",
       "      <th>733704</th>\n",
       "      <td>1</td>\n",
       "      <td>0</td>\n",
       "      <td>7</td>\n",
       "    </tr>\n",
       "  </tbody>\n",
       "</table>\n",
       "<p>733705 rows × 3 columns</p>\n",
       "</div>"
      ],
      "text/plain": [
       "        attack  category  subcategory\n",
       "0            1         1            7\n",
       "1            1         1            6\n",
       "2            1         0            7\n",
       "3            1         3            4\n",
       "4            1         0            7\n",
       "...        ...       ...          ...\n",
       "733700       1         0            6\n",
       "733701       1         0            6\n",
       "733702       1         0            7\n",
       "733703       1         0            7\n",
       "733704       1         0            7\n",
       "\n",
       "[733705 rows x 3 columns]"
      ]
     },
     "execution_count": 34,
     "metadata": {},
     "output_type": "execute_result"
    }
   ],
   "source": [
    "filename = 'finalized_model.sav'\n",
    "pickle.dump(model, open(filename, 'wb'))"
   ]
  },
  {
   "cell_type": "code",
   "execution_count": 35,
   "metadata": {},
   "outputs": [],
   "source": [
    "filename = 'xgb_1.sav'\n",
    "pickle.dump(xgb, open(filename, 'wb'))"
   ]
  },
  {
   "cell_type": "code",
   "execution_count": 37,
   "metadata": {},
   "outputs": [
    {
     "data": {
      "text/html": [
       "<div>\n",
       "<style scoped>\n",
       "    .dataframe tbody tr th:only-of-type {\n",
       "        vertical-align: middle;\n",
       "    }\n",
       "\n",
       "    .dataframe tbody tr th {\n",
       "        vertical-align: top;\n",
       "    }\n",
       "\n",
       "    .dataframe thead th {\n",
       "        text-align: right;\n",
       "    }\n",
       "</style>\n",
       "<table border=\"1\" class=\"dataframe\">\n",
       "  <thead>\n",
       "    <tr style=\"text-align: right;\">\n",
       "      <th></th>\n",
       "      <th>attack</th>\n",
       "      <th>category</th>\n",
       "      <th>subcategory</th>\n",
       "    </tr>\n",
       "  </thead>\n",
       "  <tbody>\n",
       "    <tr>\n",
       "      <th>0</th>\n",
       "      <td>1</td>\n",
       "      <td>1</td>\n",
       "      <td>7</td>\n",
       "    </tr>\n",
       "  </tbody>\n",
       "</table>\n",
       "</div>"
      ],
      "text/plain": [
       "   attack  category  subcategory\n",
       "0       1         1            7"
      ]
     },
     "execution_count": 37,
     "metadata": {},
     "output_type": "execute_result"
    }
   ],
   "source": [
    "# loaded_model = pickle.load(open(filename, 'rb'))\n",
    "result = loaded_model.predict(X_test[0:1])\n",
    "result"
   ]
  },
  {
   "cell_type": "code",
   "execution_count": 38,
   "metadata": {},
   "outputs": [
    {
     "data": {
      "text/plain": [
       "array([[ 1.40406257,  1.48744822,  0.71572062, -0.68579647,  0.72920289,\n",
       "        -0.09897054,  0.41526025, -0.00700134, -0.00493669,  0.67095225]])"
      ]
     },
     "execution_count": 38,
     "metadata": {},
     "output_type": "execute_result"
    }
   ],
   "source": [
    "X_test[0:1]"
   ]
  },
  {
   "cell_type": "code",
   "execution_count": null,
   "metadata": {},
   "outputs": [],
   "source": []
  },
  {
   "cell_type": "code",
   "execution_count": null,
   "metadata": {},
   "outputs": [],
   "source": []
  },
  {
   "cell_type": "code",
   "execution_count": null,
   "metadata": {},
   "outputs": [],
   "source": []
  },
  {
   "cell_type": "code",
   "execution_count": 48,
   "metadata": {},
   "outputs": [
    {
     "name": "stdout",
     "output_type": "stream",
     "text": [
      "[[    66      2]\n",
      " [     2 733635]]\n",
      "              precision    recall  f1-score   support\n",
      "\n",
      "           0       0.97      0.97      0.97        68\n",
      "           1       1.00      1.00      1.00    733637\n",
      "\n",
      "    accuracy                           1.00    733705\n",
      "   macro avg       0.99      0.99      0.99    733705\n",
      "weighted avg       1.00      1.00      1.00    733705\n",
      "\n"
     ]
    }
   ],
   "source": [
    "print(confusion_matrix(y_test['attack'],predictions_xgb['attack']))\n",
    "print(classification_report(y_test['attack'],predictions_xgb['attack']))"
   ]
  },
  {
   "cell_type": "code",
   "execution_count": 49,
   "metadata": {},
   "outputs": [
    {
     "name": "stdout",
     "output_type": "stream",
     "text": [
      "[[384915     11      0      0      0]\n",
      " [    21 330349      0      0      0]\n",
      " [     0      1     66      1      0]\n",
      " [     0      0      1  18320      0]\n",
      " [     0      0      1      0     19]]\n",
      "              precision    recall  f1-score   support\n",
      "\n",
      "           0       1.00      1.00      1.00    384926\n",
      "           1       1.00      1.00      1.00    330370\n",
      "           2       0.97      0.97      0.97        68\n",
      "           3       1.00      1.00      1.00     18321\n",
      "           4       1.00      0.95      0.97        20\n",
      "\n",
      "    accuracy                           1.00    733705\n",
      "   macro avg       0.99      0.98      0.99    733705\n",
      "weighted avg       1.00      1.00      1.00    733705\n",
      "\n"
     ]
    }
   ],
   "source": [
    "print(confusion_matrix(y_test['category'],predictions_xgb['category']))\n",
    "print(classification_report(y_test['category'],predictions_xgb['category']))"
   ]
  },
  {
   "cell_type": "code",
   "execution_count": 50,
   "metadata": {},
   "outputs": [
    {
     "name": "stdout",
     "output_type": "stream",
     "text": [
      "[[     1      0      1      1      0      0      0      0]\n",
      " [     0    481      0      0      0      0      1      0]\n",
      " [     0      0     17      0      0      0      0      0]\n",
      " [     0      0      0     66      0      1      1      0]\n",
      " [     0      0      0      1   3383    275      0      0]\n",
      " [     0      0      0      0    197  14465      0      0]\n",
      " [     0      0      0      0      0      0 318404      3]\n",
      " [     0      0      0      0      0      0      2 396405]]\n",
      "              precision    recall  f1-score   support\n",
      "\n",
      "           0       1.00      0.33      0.50         3\n",
      "           1       1.00      1.00      1.00       482\n",
      "           2       0.94      1.00      0.97        17\n",
      "           3       0.97      0.97      0.97        68\n",
      "           4       0.94      0.92      0.93      3659\n",
      "           5       0.98      0.99      0.98     14662\n",
      "           6       1.00      1.00      1.00    318407\n",
      "           7       1.00      1.00      1.00    396407\n",
      "\n",
      "    accuracy                           1.00    733705\n",
      "   macro avg       0.98      0.90      0.92    733705\n",
      "weighted avg       1.00      1.00      1.00    733705\n",
      "\n"
     ]
    }
   ],
   "source": [
    "print(confusion_matrix(y_test['subcategory'],predictions_xgb['subcategory']))\n",
    "print(classification_report(y_test['subcategory'],predictions_xgb['subcategory']))"
   ]
  },
  {
   "cell_type": "code",
   "execution_count": 51,
   "metadata": {},
   "outputs": [
    {
     "data": {
      "text/plain": [
       "0.9999945482176079"
      ]
     },
     "execution_count": 51,
     "metadata": {},
     "output_type": "execute_result"
    }
   ],
   "source": [
    "xgb.xgb_attack.score(X_test,y_test['attack'])"
   ]
  },
  {
   "cell_type": "code",
   "execution_count": 52,
   "metadata": {},
   "outputs": [
    {
     "data": {
      "text/plain": [
       "0.999950933958471"
      ]
     },
     "execution_count": 52,
     "metadata": {},
     "output_type": "execute_result"
    }
   ],
   "source": [
    "xgb.xgb_category.score(np.concatenate((X_test,np.array(predictions_xgb['attack']).reshape(-1,1)),axis=1),y_test['category'])"
   ]
  },
  {
   "cell_type": "code",
   "execution_count": 53,
   "metadata": {},
   "outputs": [
    {
     "data": {
      "text/plain": [
       "0.9993416972761532"
      ]
     },
     "execution_count": 53,
     "metadata": {},
     "output_type": "execute_result"
    }
   ],
   "source": [
    "xgb.xgb_subcategory.score(np.concatenate((X_test,np.array(predictions_xgb['attack']).reshape(-1,1),\n",
    "                                        np.array(predictions_xgb['category']).reshape(-1,1)),axis=1),y_test['subcategory'])"
   ]
  },
  {
   "cell_type": "markdown",
   "metadata": {},
   "source": [
    "### Test Data"
   ]
  },
  {
   "cell_type": "code",
   "execution_count": 55,
   "metadata": {},
   "outputs": [
    {
     "data": {
      "text/html": [
       "<div>\n",
       "<style scoped>\n",
       "    .dataframe tbody tr th:only-of-type {\n",
       "        vertical-align: middle;\n",
       "    }\n",
       "\n",
       "    .dataframe tbody tr th {\n",
       "        vertical-align: top;\n",
       "    }\n",
       "\n",
       "    .dataframe thead th {\n",
       "        text-align: right;\n",
       "    }\n",
       "</style>\n",
       "<table border=\"1\" class=\"dataframe\">\n",
       "  <thead>\n",
       "    <tr style=\"text-align: right;\">\n",
       "      <th></th>\n",
       "      <th>pkSeqID</th>\n",
       "      <th>proto</th>\n",
       "      <th>saddr</th>\n",
       "      <th>sport</th>\n",
       "      <th>daddr</th>\n",
       "      <th>dport</th>\n",
       "      <th>seq</th>\n",
       "      <th>stddev</th>\n",
       "      <th>N_IN_Conn_P_SrcIP</th>\n",
       "      <th>min</th>\n",
       "      <th>state_number</th>\n",
       "      <th>mean</th>\n",
       "      <th>N_IN_Conn_P_DstIP</th>\n",
       "      <th>drate</th>\n",
       "      <th>srate</th>\n",
       "      <th>max</th>\n",
       "      <th>attack</th>\n",
       "      <th>category</th>\n",
       "      <th>subcategory</th>\n",
       "    </tr>\n",
       "  </thead>\n",
       "  <tbody>\n",
       "    <tr>\n",
       "      <th>0</th>\n",
       "      <td>792371</td>\n",
       "      <td>udp</td>\n",
       "      <td>192.168.100.150</td>\n",
       "      <td>48516</td>\n",
       "      <td>192.168.100.3</td>\n",
       "      <td>80</td>\n",
       "      <td>175094</td>\n",
       "      <td>0.226784</td>\n",
       "      <td>100</td>\n",
       "      <td>4.100436</td>\n",
       "      <td>4</td>\n",
       "      <td>4.457383</td>\n",
       "      <td>100</td>\n",
       "      <td>0.000000</td>\n",
       "      <td>0.404711</td>\n",
       "      <td>4.719438</td>\n",
       "      <td>1</td>\n",
       "      <td>DoS</td>\n",
       "      <td>UDP</td>\n",
       "    </tr>\n",
       "    <tr>\n",
       "      <th>1</th>\n",
       "      <td>2056418</td>\n",
       "      <td>tcp</td>\n",
       "      <td>192.168.100.148</td>\n",
       "      <td>22267</td>\n",
       "      <td>192.168.100.3</td>\n",
       "      <td>80</td>\n",
       "      <td>143024</td>\n",
       "      <td>0.451998</td>\n",
       "      <td>100</td>\n",
       "      <td>3.439257</td>\n",
       "      <td>1</td>\n",
       "      <td>3.806172</td>\n",
       "      <td>100</td>\n",
       "      <td>0.225077</td>\n",
       "      <td>0.401397</td>\n",
       "      <td>4.442930</td>\n",
       "      <td>1</td>\n",
       "      <td>DDoS</td>\n",
       "      <td>TCP</td>\n",
       "    </tr>\n",
       "    <tr>\n",
       "      <th>2</th>\n",
       "      <td>2795650</td>\n",
       "      <td>udp</td>\n",
       "      <td>192.168.100.149</td>\n",
       "      <td>28629</td>\n",
       "      <td>192.168.100.3</td>\n",
       "      <td>80</td>\n",
       "      <td>167033</td>\n",
       "      <td>1.931553</td>\n",
       "      <td>73</td>\n",
       "      <td>0.000000</td>\n",
       "      <td>4</td>\n",
       "      <td>2.731204</td>\n",
       "      <td>100</td>\n",
       "      <td>0.000000</td>\n",
       "      <td>0.407287</td>\n",
       "      <td>4.138455</td>\n",
       "      <td>1</td>\n",
       "      <td>DDoS</td>\n",
       "      <td>UDP</td>\n",
       "    </tr>\n",
       "    <tr>\n",
       "      <th>3</th>\n",
       "      <td>2118009</td>\n",
       "      <td>tcp</td>\n",
       "      <td>192.168.100.148</td>\n",
       "      <td>42142</td>\n",
       "      <td>192.168.100.3</td>\n",
       "      <td>80</td>\n",
       "      <td>204615</td>\n",
       "      <td>0.428798</td>\n",
       "      <td>56</td>\n",
       "      <td>3.271411</td>\n",
       "      <td>1</td>\n",
       "      <td>3.626428</td>\n",
       "      <td>100</td>\n",
       "      <td>0.000000</td>\n",
       "      <td>0.343654</td>\n",
       "      <td>4.229700</td>\n",
       "      <td>1</td>\n",
       "      <td>DDoS</td>\n",
       "      <td>TCP</td>\n",
       "    </tr>\n",
       "    <tr>\n",
       "      <th>4</th>\n",
       "      <td>303688</td>\n",
       "      <td>tcp</td>\n",
       "      <td>192.168.100.149</td>\n",
       "      <td>1645</td>\n",
       "      <td>192.168.100.5</td>\n",
       "      <td>80</td>\n",
       "      <td>40058</td>\n",
       "      <td>2.058381</td>\n",
       "      <td>100</td>\n",
       "      <td>0.000000</td>\n",
       "      <td>3</td>\n",
       "      <td>1.188407</td>\n",
       "      <td>100</td>\n",
       "      <td>0.000000</td>\n",
       "      <td>0.135842</td>\n",
       "      <td>4.753628</td>\n",
       "      <td>1</td>\n",
       "      <td>DoS</td>\n",
       "      <td>TCP</td>\n",
       "    </tr>\n",
       "  </tbody>\n",
       "</table>\n",
       "</div>"
      ],
      "text/plain": [
       "   pkSeqID proto            saddr  sport          daddr dport     seq  \\\n",
       "0   792371   udp  192.168.100.150  48516  192.168.100.3    80  175094   \n",
       "1  2056418   tcp  192.168.100.148  22267  192.168.100.3    80  143024   \n",
       "2  2795650   udp  192.168.100.149  28629  192.168.100.3    80  167033   \n",
       "3  2118009   tcp  192.168.100.148  42142  192.168.100.3    80  204615   \n",
       "4   303688   tcp  192.168.100.149   1645  192.168.100.5    80   40058   \n",
       "\n",
       "     stddev  N_IN_Conn_P_SrcIP       min  state_number      mean  \\\n",
       "0  0.226784                100  4.100436             4  4.457383   \n",
       "1  0.451998                100  3.439257             1  3.806172   \n",
       "2  1.931553                 73  0.000000             4  2.731204   \n",
       "3  0.428798                 56  3.271411             1  3.626428   \n",
       "4  2.058381                100  0.000000             3  1.188407   \n",
       "\n",
       "   N_IN_Conn_P_DstIP     drate     srate       max  attack category  \\\n",
       "0                100  0.000000  0.404711  4.719438       1      DoS   \n",
       "1                100  0.225077  0.401397  4.442930       1     DDoS   \n",
       "2                100  0.000000  0.407287  4.138455       1     DDoS   \n",
       "3                100  0.000000  0.343654  4.229700       1     DDoS   \n",
       "4                100  0.000000  0.135842  4.753628       1      DoS   \n",
       "\n",
       "  subcategory  \n",
       "0         UDP  \n",
       "1         TCP  \n",
       "2         UDP  \n",
       "3         TCP  \n",
       "4         TCP  "
      ]
     },
     "execution_count": 55,
     "metadata": {},
     "output_type": "execute_result"
    }
   ],
   "source": [
    "test_data = pd.read_csv(\"./botnet/UNSW_2018_IoT_Botnet_Final_10_best_Testing.csv\")\n",
    "test_data.head()"
   ]
  },
  {
   "cell_type": "code",
   "execution_count": 56,
   "metadata": {},
   "outputs": [
    {
     "data": {
      "text/html": [
       "<div>\n",
       "<style scoped>\n",
       "    .dataframe tbody tr th:only-of-type {\n",
       "        vertical-align: middle;\n",
       "    }\n",
       "\n",
       "    .dataframe tbody tr th {\n",
       "        vertical-align: top;\n",
       "    }\n",
       "\n",
       "    .dataframe thead th {\n",
       "        text-align: right;\n",
       "    }\n",
       "</style>\n",
       "<table border=\"1\" class=\"dataframe\">\n",
       "  <thead>\n",
       "    <tr style=\"text-align: right;\">\n",
       "      <th></th>\n",
       "      <th>seq</th>\n",
       "      <th>stddev</th>\n",
       "      <th>N_IN_Conn_P_SrcIP</th>\n",
       "      <th>min</th>\n",
       "      <th>state_number</th>\n",
       "      <th>mean</th>\n",
       "      <th>N_IN_Conn_P_DstIP</th>\n",
       "      <th>drate</th>\n",
       "      <th>srate</th>\n",
       "      <th>max</th>\n",
       "    </tr>\n",
       "  </thead>\n",
       "  <tbody>\n",
       "    <tr>\n",
       "      <th>0</th>\n",
       "      <td>175094</td>\n",
       "      <td>0.226784</td>\n",
       "      <td>100</td>\n",
       "      <td>4.100436</td>\n",
       "      <td>4</td>\n",
       "      <td>4.457383</td>\n",
       "      <td>100</td>\n",
       "      <td>0.000000</td>\n",
       "      <td>0.404711</td>\n",
       "      <td>4.719438</td>\n",
       "    </tr>\n",
       "    <tr>\n",
       "      <th>1</th>\n",
       "      <td>143024</td>\n",
       "      <td>0.451998</td>\n",
       "      <td>100</td>\n",
       "      <td>3.439257</td>\n",
       "      <td>1</td>\n",
       "      <td>3.806172</td>\n",
       "      <td>100</td>\n",
       "      <td>0.225077</td>\n",
       "      <td>0.401397</td>\n",
       "      <td>4.442930</td>\n",
       "    </tr>\n",
       "    <tr>\n",
       "      <th>2</th>\n",
       "      <td>167033</td>\n",
       "      <td>1.931553</td>\n",
       "      <td>73</td>\n",
       "      <td>0.000000</td>\n",
       "      <td>4</td>\n",
       "      <td>2.731204</td>\n",
       "      <td>100</td>\n",
       "      <td>0.000000</td>\n",
       "      <td>0.407287</td>\n",
       "      <td>4.138455</td>\n",
       "    </tr>\n",
       "    <tr>\n",
       "      <th>3</th>\n",
       "      <td>204615</td>\n",
       "      <td>0.428798</td>\n",
       "      <td>56</td>\n",
       "      <td>3.271411</td>\n",
       "      <td>1</td>\n",
       "      <td>3.626428</td>\n",
       "      <td>100</td>\n",
       "      <td>0.000000</td>\n",
       "      <td>0.343654</td>\n",
       "      <td>4.229700</td>\n",
       "    </tr>\n",
       "    <tr>\n",
       "      <th>4</th>\n",
       "      <td>40058</td>\n",
       "      <td>2.058381</td>\n",
       "      <td>100</td>\n",
       "      <td>0.000000</td>\n",
       "      <td>3</td>\n",
       "      <td>1.188407</td>\n",
       "      <td>100</td>\n",
       "      <td>0.000000</td>\n",
       "      <td>0.135842</td>\n",
       "      <td>4.753628</td>\n",
       "    </tr>\n",
       "  </tbody>\n",
       "</table>\n",
       "</div>"
      ],
      "text/plain": [
       "      seq    stddev  N_IN_Conn_P_SrcIP       min  state_number      mean  \\\n",
       "0  175094  0.226784                100  4.100436             4  4.457383   \n",
       "1  143024  0.451998                100  3.439257             1  3.806172   \n",
       "2  167033  1.931553                 73  0.000000             4  2.731204   \n",
       "3  204615  0.428798                 56  3.271411             1  3.626428   \n",
       "4   40058  2.058381                100  0.000000             3  1.188407   \n",
       "\n",
       "   N_IN_Conn_P_DstIP     drate     srate       max  \n",
       "0                100  0.000000  0.404711  4.719438  \n",
       "1                100  0.225077  0.401397  4.442930  \n",
       "2                100  0.000000  0.407287  4.138455  \n",
       "3                100  0.000000  0.343654  4.229700  \n",
       "4                100  0.000000  0.135842  4.753628  "
      ]
     },
     "execution_count": 56,
     "metadata": {},
     "output_type": "execute_result"
    }
   ],
   "source": [
    "# Extracting the ten-best features from test set\n",
    "test_ten_best = test_data[ten_best_features.columns]\n",
    "test_labels = test_data[['attack','category','subcategory']]\n",
    "test_ten_best.head()"
   ]
  },
  {
   "cell_type": "markdown",
   "metadata": {},
   "source": [
    "**Using complete training data and test data**"
   ]
  },
  {
   "cell_type": "code",
   "execution_count": 57,
   "metadata": {},
   "outputs": [],
   "source": [
    "# Standard Scaling\n",
    "train_data = sc.fit_transform(ten_best_features)\n",
    "test = sc.transform(test_ten_best)"
   ]
  },
  {
   "cell_type": "code",
   "execution_count": 58,
   "metadata": {},
   "outputs": [],
   "source": [
    "ten_best_features = data[['seq','stddev','N_IN_Conn_P_SrcIP', 'min', 'state_number', 'mean', 'N_IN_Conn_P_DstIP',\n",
    "       'drate', 'srate', 'max']]\n",
    "target_features = data[['attack','category','subcategory']]"
   ]
  },
  {
   "cell_type": "code",
   "execution_count": 59,
   "metadata": {},
   "outputs": [],
   "source": [
    "# Label Encoding\n",
    "\n",
    "target_features['category'] = le.fit_transform(target_features['category'])\n",
    "test_labels['category'] = le.transform(test_labels['category'])\n",
    "\n",
    "target_features['subcategory'] = le.fit_transform(target_features['subcategory'])\n",
    "test_labels['subcategory'] = le.transform(test_labels['subcategory'])"
   ]
  },
  {
   "cell_type": "code",
   "execution_count": 62,
   "metadata": {},
   "outputs": [],
   "source": [
    "x_ten_best = x[ten_best_features.columns]\n",
    "# x1 = sc.transform(x_ten_best)"
   ]
  },
  {
   "cell_type": "code",
   "execution_count": 60,
   "metadata": {},
   "outputs": [
    {
     "data": {
      "text/html": [
       "<div>\n",
       "<style scoped>\n",
       "    .dataframe tbody tr th:only-of-type {\n",
       "        vertical-align: middle;\n",
       "    }\n",
       "\n",
       "    .dataframe tbody tr th {\n",
       "        vertical-align: top;\n",
       "    }\n",
       "\n",
       "    .dataframe thead th {\n",
       "        text-align: right;\n",
       "    }\n",
       "</style>\n",
       "<table border=\"1\" class=\"dataframe\">\n",
       "  <thead>\n",
       "    <tr style=\"text-align: right;\">\n",
       "      <th></th>\n",
       "      <th>seq</th>\n",
       "      <th>stddev</th>\n",
       "      <th>N_IN_Conn_P_SrcIP</th>\n",
       "      <th>min</th>\n",
       "      <th>state_number</th>\n",
       "      <th>mean</th>\n",
       "      <th>N_IN_Conn_P_DstIP</th>\n",
       "      <th>drate</th>\n",
       "      <th>srate</th>\n",
       "      <th>max</th>\n",
       "    </tr>\n",
       "  </thead>\n",
       "  <tbody>\n",
       "    <tr>\n",
       "      <th>0</th>\n",
       "      <td>251984</td>\n",
       "      <td>1.900363</td>\n",
       "      <td>100</td>\n",
       "      <td>0</td>\n",
       "      <td>4</td>\n",
       "      <td>2.687519</td>\n",
       "      <td>100</td>\n",
       "      <td>0</td>\n",
       "      <td>0.494549</td>\n",
       "      <td>4.031619</td>\n",
       "    </tr>\n",
       "  </tbody>\n",
       "</table>\n",
       "</div>"
      ],
      "text/plain": [
       "      seq    stddev  N_IN_Conn_P_SrcIP  min  state_number      mean  \\\n",
       "0  251984  1.900363                100    0             4  2.687519   \n",
       "\n",
       "   N_IN_Conn_P_DstIP  drate     srate       max  \n",
       "0                100      0  0.494549  4.031619  "
      ]
     },
     "execution_count": 60,
     "metadata": {},
     "output_type": "execute_result"
    }
   ],
   "source": [
    "x_ten_best"
   ]
  },
  {
   "cell_type": "code",
   "execution_count": null,
   "metadata": {},
   "outputs": [],
   "source": []
  },
  {
   "cell_type": "markdown",
   "metadata": {},
   "source": [
    "### Training ML Models on Complete Data and Testing on test set"
   ]
  },
  {
   "cell_type": "markdown",
   "metadata": {},
   "source": [
    "**Random Forest**"
   ]
  },
  {
   "cell_type": "code",
   "execution_count": 60,
   "metadata": {},
   "outputs": [],
   "source": [
    "rf_clf = RandomForest(max_depth=5)\n",
    "rf_clf.fit(train_data,target_features)\n",
    "predictions_rf = rf_clf.predict(test)"
   ]
  },
  {
   "cell_type": "code",
   "execution_count": 61,
   "metadata": {},
   "outputs": [
    {
     "name": "stdout",
     "output_type": "stream",
     "text": [
      "Random Forest: Attack\n",
      "\n",
      "[[    38     69]\n",
      " [     0 733598]] \n",
      "\n",
      "              precision    recall  f1-score   support\n",
      "\n",
      "           0       1.00      0.36      0.52       107\n",
      "           1       1.00      1.00      1.00    733598\n",
      "\n",
      "    accuracy                           1.00    733705\n",
      "   macro avg       1.00      0.68      0.76    733705\n",
      "weighted avg       1.00      1.00      1.00    733705\n",
      "\n"
     ]
    }
   ],
   "source": [
    "print(\"Random Forest: Attack\\n\")\n",
    "print(confusion_matrix(test_labels['attack'],predictions_rf['attack']),\"\\n\")\n",
    "print(classification_report(test_labels['attack'],predictions_rf['attack']))"
   ]
  },
  {
   "cell_type": "code",
   "execution_count": 75,
   "metadata": {},
   "outputs": [
    {
     "data": {
      "text/html": [
       "<div>\n",
       "<style scoped>\n",
       "    .dataframe tbody tr th:only-of-type {\n",
       "        vertical-align: middle;\n",
       "    }\n",
       "\n",
       "    .dataframe tbody tr th {\n",
       "        vertical-align: top;\n",
       "    }\n",
       "\n",
       "    .dataframe thead th {\n",
       "        text-align: right;\n",
       "    }\n",
       "</style>\n",
       "<table border=\"1\" class=\"dataframe\">\n",
       "  <thead>\n",
       "    <tr style=\"text-align: right;\">\n",
       "      <th></th>\n",
       "      <th>attack</th>\n",
       "      <th>category</th>\n",
       "      <th>subcategory</th>\n",
       "    </tr>\n",
       "  </thead>\n",
       "  <tbody>\n",
       "    <tr>\n",
       "      <th>0</th>\n",
       "      <td>1</td>\n",
       "      <td>1</td>\n",
       "      <td>7</td>\n",
       "    </tr>\n",
       "    <tr>\n",
       "      <th>1</th>\n",
       "      <td>1</td>\n",
       "      <td>0</td>\n",
       "      <td>6</td>\n",
       "    </tr>\n",
       "    <tr>\n",
       "      <th>2</th>\n",
       "      <td>1</td>\n",
       "      <td>0</td>\n",
       "      <td>7</td>\n",
       "    </tr>\n",
       "    <tr>\n",
       "      <th>3</th>\n",
       "      <td>1</td>\n",
       "      <td>0</td>\n",
       "      <td>6</td>\n",
       "    </tr>\n",
       "    <tr>\n",
       "      <th>4</th>\n",
       "      <td>1</td>\n",
       "      <td>1</td>\n",
       "      <td>6</td>\n",
       "    </tr>\n",
       "    <tr>\n",
       "      <th>...</th>\n",
       "      <td>...</td>\n",
       "      <td>...</td>\n",
       "      <td>...</td>\n",
       "    </tr>\n",
       "    <tr>\n",
       "      <th>733700</th>\n",
       "      <td>1</td>\n",
       "      <td>1</td>\n",
       "      <td>7</td>\n",
       "    </tr>\n",
       "    <tr>\n",
       "      <th>733701</th>\n",
       "      <td>1</td>\n",
       "      <td>0</td>\n",
       "      <td>7</td>\n",
       "    </tr>\n",
       "    <tr>\n",
       "      <th>733702</th>\n",
       "      <td>1</td>\n",
       "      <td>0</td>\n",
       "      <td>6</td>\n",
       "    </tr>\n",
       "    <tr>\n",
       "      <th>733703</th>\n",
       "      <td>1</td>\n",
       "      <td>1</td>\n",
       "      <td>6</td>\n",
       "    </tr>\n",
       "    <tr>\n",
       "      <th>733704</th>\n",
       "      <td>1</td>\n",
       "      <td>0</td>\n",
       "      <td>6</td>\n",
       "    </tr>\n",
       "  </tbody>\n",
       "</table>\n",
       "<p>733705 rows × 3 columns</p>\n",
       "</div>"
      ],
      "text/plain": [
       "        attack  category  subcategory\n",
       "0            1         1            7\n",
       "1            1         0            6\n",
       "2            1         0            7\n",
       "3            1         0            6\n",
       "4            1         1            6\n",
       "...        ...       ...          ...\n",
       "733700       1         1            7\n",
       "733701       1         0            7\n",
       "733702       1         0            6\n",
       "733703       1         1            6\n",
       "733704       1         0            6\n",
       "\n",
       "[733705 rows x 3 columns]"
      ]
     },
     "execution_count": 75,
     "metadata": {},
     "output_type": "execute_result"
    }
   ],
   "source": [
    "predictions_rf"
   ]
  },
  {
   "cell_type": "code",
   "execution_count": 76,
   "metadata": {},
   "outputs": [
    {
     "data": {
      "text/plain": [
       "(1, 10)"
      ]
     },
     "execution_count": 76,
     "metadata": {},
     "output_type": "execute_result"
    }
   ],
   "source": [
    "test[0:1].shape"
   ]
  },
  {
   "cell_type": "code",
   "execution_count": 81,
   "metadata": {},
   "outputs": [
    {
     "data": {
      "text/html": [
       "<div>\n",
       "<style scoped>\n",
       "    .dataframe tbody tr th:only-of-type {\n",
       "        vertical-align: middle;\n",
       "    }\n",
       "\n",
       "    .dataframe tbody tr th {\n",
       "        vertical-align: top;\n",
       "    }\n",
       "\n",
       "    .dataframe thead th {\n",
       "        text-align: right;\n",
       "    }\n",
       "</style>\n",
       "<table border=\"1\" class=\"dataframe\">\n",
       "  <thead>\n",
       "    <tr style=\"text-align: right;\">\n",
       "      <th></th>\n",
       "      <th>attack</th>\n",
       "      <th>category</th>\n",
       "      <th>subcategory</th>\n",
       "    </tr>\n",
       "  </thead>\n",
       "  <tbody>\n",
       "    <tr>\n",
       "      <th>0</th>\n",
       "      <td>1</td>\n",
       "      <td>0</td>\n",
       "      <td>6</td>\n",
       "    </tr>\n",
       "  </tbody>\n",
       "</table>\n",
       "</div>"
      ],
      "text/plain": [
       "   attack  category  subcategory\n",
       "0       1         0            6"
      ]
     },
     "execution_count": 81,
     "metadata": {},
     "output_type": "execute_result"
    }
   ],
   "source": [
    "i=1\n",
    "p = rf_clf.predict(test[i:i+1])\n",
    "p"
   ]
  },
  {
   "cell_type": "code",
   "execution_count": 61,
   "metadata": {},
   "outputs": [
    {
     "name": "stdout",
     "output_type": "stream",
     "text": [
      "Random Forest: Category\n",
      "\n",
      "[[374455  10852      0      2      0]\n",
      " [ 11761 318350      0      1      0]\n",
      " [     0     27     25     55      0]\n",
      " [   520     29      0  17614      0]\n",
      " [     0      5      0      9      0]]\n",
      "              precision    recall  f1-score   support\n",
      "\n",
      "           0       0.97      0.97      0.97    385309\n",
      "           1       0.97      0.96      0.97    330112\n",
      "           2       1.00      0.23      0.38       107\n",
      "           3       1.00      0.97      0.98     18163\n",
      "           4       0.00      0.00      0.00        14\n",
      "\n",
      "    accuracy                           0.97    733705\n",
      "   macro avg       0.79      0.63      0.66    733705\n",
      "weighted avg       0.97      0.97      0.97    733705\n",
      "\n"
     ]
    }
   ],
   "source": [
    "print(\"Random Forest: Category\\n\")\n",
    "print(confusion_matrix(test_labels['category'],predictions_rf['category']))\n",
    "print(classification_report(test_labels['category'],predictions_rf['category']))"
   ]
  },
  {
   "cell_type": "code",
   "execution_count": 62,
   "metadata": {},
   "outputs": [
    {
     "name": "stdout",
     "output_type": "stream",
     "text": [
      "Random Forest: Subcategory\n",
      "\n",
      "[[    57      0      0      0      2    445      0]\n",
      " [     0      0      0      0      9      0      5]\n",
      " [     1      0     14      0     66     24      2]\n",
      " [     0      0      0     23   3460    137      1]\n",
      " [     0      0      0      0  14140    402      0]\n",
      " [     0      0      0      0      1 318265     71]\n",
      " [     0      0      0      0      0     12 396568]]\n",
      "              precision    recall  f1-score   support\n",
      "\n",
      "           1       0.98      0.11      0.20       504\n",
      "           2       0.00      0.00      0.00        14\n",
      "           3       1.00      0.13      0.23       107\n",
      "           4       1.00      0.01      0.01      3621\n",
      "           5       0.80      0.97      0.88     14542\n",
      "           6       1.00      1.00      1.00    318337\n",
      "           7       1.00      1.00      1.00    396580\n",
      "\n",
      "    accuracy                           0.99    733705\n",
      "   macro avg       0.83      0.46      0.47    733705\n",
      "weighted avg       0.99      0.99      0.99    733705\n",
      "\n"
     ]
    }
   ],
   "source": [
    "print(\"Random Forest: Subcategory\\n\")\n",
    "print(confusion_matrix(test_labels['subcategory'],predictions_rf['subcategory']))\n",
    "print(classification_report(test_labels['subcategory'],predictions_rf['subcategory']))"
   ]
  },
  {
   "cell_type": "markdown",
   "metadata": {},
   "source": [
    "**Naive Bayes**"
   ]
  },
  {
   "cell_type": "code",
   "execution_count": 63,
   "metadata": {},
   "outputs": [],
   "source": [
    "nb_clf = NaiveBayes()\n",
    "nb_clf.fit(train_data,target_features)\n",
    "predictions_nb = nb_clf.predict(test)"
   ]
  },
  {
   "cell_type": "code",
   "execution_count": 64,
   "metadata": {},
   "outputs": [
    {
     "name": "stdout",
     "output_type": "stream",
     "text": [
      "Naive Bayes: Attack\n",
      "\n",
      "[[    96     11]\n",
      " [  2775 730823]]\n",
      "              precision    recall  f1-score   support\n",
      "\n",
      "           0       0.03      0.90      0.06       107\n",
      "           1       1.00      1.00      1.00    733598\n",
      "\n",
      "    accuracy                           1.00    733705\n",
      "   macro avg       0.52      0.95      0.53    733705\n",
      "weighted avg       1.00      1.00      1.00    733705\n",
      "\n"
     ]
    }
   ],
   "source": [
    "print(\"Naive Bayes: Attack\\n\")\n",
    "print(confusion_matrix(test_labels['attack'],predictions_nb['attack']))\n",
    "print(classification_report(test_labels['attack'],predictions_nb['attack']))"
   ]
  },
  {
   "cell_type": "code",
   "execution_count": 65,
   "metadata": {},
   "outputs": [
    {
     "name": "stdout",
     "output_type": "stream",
     "text": [
      "Naive Bayes: Category\n",
      "\n",
      "[[368894  16264     31    120      0]\n",
      " [182703 146381    699    329      0]\n",
      " [     0      9     96      2      0]\n",
      " [ 10751   1630   2040   3742      0]\n",
      " [     0      1      5      0      8]] \n",
      "\n",
      "              precision    recall  f1-score   support\n",
      "\n",
      "           0       0.66      0.96      0.78    385309\n",
      "           1       0.89      0.44      0.59    330112\n",
      "           2       0.03      0.90      0.06       107\n",
      "           3       0.89      0.21      0.33     18163\n",
      "           4       1.00      0.57      0.73        14\n",
      "\n",
      "    accuracy                           0.71    733705\n",
      "   macro avg       0.69      0.62      0.50    733705\n",
      "weighted avg       0.77      0.71      0.68    733705\n",
      "\n"
     ]
    }
   ],
   "source": [
    "print(\"Naive Bayes: Category\\n\")\n",
    "print(confusion_matrix(test_labels['category'],predictions_nb['category']),\"\\n\")\n",
    "print(classification_report(test_labels['category'],predictions_nb['category']))"
   ]
  },
  {
   "cell_type": "code",
   "execution_count": 66,
   "metadata": {},
   "outputs": [
    {
     "name": "stdout",
     "output_type": "stream",
     "text": [
      "Naive Bayes: Subcategory\n",
      "\n",
      "[[     0      0      0      0      0      0      0      0]\n",
      " [     0    337      0      7      0    146     14      0]\n",
      " [     1      0      7      5      0      0      1      0]\n",
      " [     0      0      0     96      1      1      9      0]\n",
      " [     0    199      0    128      0    151   3143      0]\n",
      " [     0    578      0   1912    612   2979   8461      0]\n",
      " [     0    815      0    715      5    296 316506      0]\n",
      " [     0      0      0      8      2      0     23 396547]]\n",
      "              precision    recall  f1-score   support\n",
      "\n",
      "           0       0.00      0.00      0.00         0\n",
      "           1       0.17      0.67      0.28       504\n",
      "           2       1.00      0.50      0.67        14\n",
      "           3       0.03      0.90      0.06       107\n",
      "           4       0.00      0.00      0.00      3621\n",
      "           5       0.83      0.20      0.33     14542\n",
      "           6       0.96      0.99      0.98    318337\n",
      "           7       1.00      1.00      1.00    396580\n",
      "\n",
      "    accuracy                           0.98    733705\n",
      "   macro avg       0.50      0.53      0.41    733705\n",
      "weighted avg       0.98      0.98      0.97    733705\n",
      "\n"
     ]
    }
   ],
   "source": [
    "print(\"Naive Bayes: Subcategory\\n\")\n",
    "print(confusion_matrix(test_labels['subcategory'],predictions_nb['subcategory']))\n",
    "print(classification_report(test_labels['subcategory'],predictions_nb['subcategory']))"
   ]
  },
  {
   "cell_type": "markdown",
   "metadata": {},
   "source": [
    "**Decision Tree (Information Gain)**"
   ]
  },
  {
   "cell_type": "code",
   "execution_count": 67,
   "metadata": {},
   "outputs": [],
   "source": [
    "dtree_ig_clf = DecisionTree('entropy')\n",
    "dtree_ig_clf.fit(train_data,target_features)\n",
    "predictions_ig = dtree_ig_clf.predict(test)"
   ]
  },
  {
   "cell_type": "code",
   "execution_count": 68,
   "metadata": {},
   "outputs": [
    {
     "name": "stdout",
     "output_type": "stream",
     "text": [
      "Decision Tree (Information Gain): Attack\n",
      "\n",
      "[[    40     67]\n",
      " [     2 733596]] \n",
      "\n",
      "              precision    recall  f1-score   support\n",
      "\n",
      "           0       0.95      0.37      0.54       107\n",
      "           1       1.00      1.00      1.00    733598\n",
      "\n",
      "    accuracy                           1.00    733705\n",
      "   macro avg       0.98      0.69      0.77    733705\n",
      "weighted avg       1.00      1.00      1.00    733705\n",
      "\n"
     ]
    }
   ],
   "source": [
    "print(\"Decision Tree (Information Gain): Attack\\n\")\n",
    "print(confusion_matrix(test_labels['attack'],predictions_ig['attack']),\"\\n\")\n",
    "print(classification_report(test_labels['attack'],predictions_ig['attack']))"
   ]
  },
  {
   "cell_type": "code",
   "execution_count": 69,
   "metadata": {},
   "outputs": [
    {
     "name": "stdout",
     "output_type": "stream",
     "text": [
      "Decision Tree (Information Gain): Category\n",
      "\n",
      "[[339497  45290      0    522      0]\n",
      " [ 11703 318367      0     42      0]\n",
      " [     9     15     33     50      0]\n",
      " [   351   7450      2  10360      0]\n",
      " [     0      0      0     14      0]]\n",
      "              precision    recall  f1-score   support\n",
      "\n",
      "           0       0.97      0.88      0.92    385309\n",
      "           1       0.86      0.96      0.91    330112\n",
      "           2       0.94      0.31      0.46       107\n",
      "           3       0.94      0.57      0.71     18163\n",
      "           4       0.00      0.00      0.00        14\n",
      "\n",
      "    accuracy                           0.91    733705\n",
      "   macro avg       0.74      0.54      0.60    733705\n",
      "weighted avg       0.92      0.91      0.91    733705\n",
      "\n"
     ]
    }
   ],
   "source": [
    "print(\"Decision Tree (Information Gain): Category\\n\")\n",
    "print(confusion_matrix(test_labels['category'],predictions_ig['category']))\n",
    "print(classification_report(test_labels['category'],predictions_ig['category']))"
   ]
  },
  {
   "cell_type": "code",
   "execution_count": 70,
   "metadata": {},
   "outputs": [
    {
     "name": "stdout",
     "output_type": "stream",
     "text": [
      "Decision Tree (Information Gain): Subcategory\n",
      "\n",
      "[[   384      0      0      0     87     33      0]\n",
      " [     0      5      0      0      9      0      0]\n",
      " [     0      0     36      4     44      9     14]\n",
      " [     0      0      2    942    574   2089     14]\n",
      " [    27      0      0    222   8623   5654     16]\n",
      " [    23      0      0      0    453 317861      0]\n",
      " [     0      0      0      0      0      8 396572]] \n",
      "\n",
      "              precision    recall  f1-score   support\n",
      "\n",
      "           1       0.88      0.76      0.82       504\n",
      "           2       1.00      0.36      0.53        14\n",
      "           3       0.95      0.34      0.50       107\n",
      "           4       0.81      0.26      0.39      3621\n",
      "           5       0.88      0.59      0.71     14542\n",
      "           6       0.98      1.00      0.99    318337\n",
      "           7       1.00      1.00      1.00    396580\n",
      "\n",
      "    accuracy                           0.99    733705\n",
      "   macro avg       0.93      0.62      0.70    733705\n",
      "weighted avg       0.99      0.99      0.99    733705\n",
      "\n"
     ]
    }
   ],
   "source": [
    "print(\"Decision Tree (Information Gain): Subcategory\\n\")\n",
    "print(confusion_matrix(test_labels['subcategory'],predictions_ig['subcategory']),\"\\n\")\n",
    "print(classification_report(test_labels['subcategory'],predictions_ig['subcategory']))"
   ]
  },
  {
   "cell_type": "markdown",
   "metadata": {},
   "source": [
    "**Decision Tree (Gini Index)**"
   ]
  },
  {
   "cell_type": "code",
   "execution_count": 71,
   "metadata": {},
   "outputs": [],
   "source": [
    "dtree_gi_clf = DecisionTree('gini')\n",
    "dtree_gi_clf.fit(train_data,target_features)\n",
    "predictions_gi = dtree_gi_clf.predict(test)"
   ]
  },
  {
   "cell_type": "code",
   "execution_count": 72,
   "metadata": {},
   "outputs": [
    {
     "name": "stdout",
     "output_type": "stream",
     "text": [
      "Decision Tree (Gini Index): Attack\n",
      "\n",
      "[[    39     68]\n",
      " [     3 733595]] \n",
      "\n",
      "              precision    recall  f1-score   support\n",
      "\n",
      "           0       0.93      0.36      0.52       107\n",
      "           1       1.00      1.00      1.00    733598\n",
      "\n",
      "    accuracy                           1.00    733705\n",
      "   macro avg       0.96      0.68      0.76    733705\n",
      "weighted avg       1.00      1.00      1.00    733705\n",
      "\n"
     ]
    }
   ],
   "source": [
    "print(\"Decision Tree (Gini Index): Attack\\n\")\n",
    "print(confusion_matrix(test_labels['attack'],predictions_gi['attack']),\"\\n\")\n",
    "print(classification_report(test_labels['attack'],predictions_gi['attack']))"
   ]
  },
  {
   "cell_type": "code",
   "execution_count": 73,
   "metadata": {},
   "outputs": [
    {
     "name": "stdout",
     "output_type": "stream",
     "text": [
      "Decision Tree (Gini Index): Category\n",
      "\n",
      "[[338396  46453      0    460      0]\n",
      " [  8631 321472      1      8      0]\n",
      " [     0     18     33     56      0]\n",
      " [    68   7383      2  10710      0]\n",
      " [     0      5      0      9      0]]\n",
      "              precision    recall  f1-score   support\n",
      "\n",
      "           0       0.97      0.88      0.92    385309\n",
      "           1       0.86      0.97      0.91    330112\n",
      "           2       0.92      0.31      0.46       107\n",
      "           3       0.95      0.59      0.73     18163\n",
      "           4       0.00      0.00      0.00        14\n",
      "\n",
      "    accuracy                           0.91    733705\n",
      "   macro avg       0.74      0.55      0.61    733705\n",
      "weighted avg       0.92      0.91      0.91    733705\n",
      "\n"
     ]
    }
   ],
   "source": [
    "print(\"Decision Tree (Gini Index): Category\\n\")\n",
    "print(confusion_matrix(test_labels['category'],predictions_gi['category']))\n",
    "print(classification_report(test_labels['category'],predictions_gi['category']))"
   ]
  },
  {
   "cell_type": "code",
   "execution_count": 74,
   "metadata": {},
   "outputs": [
    {
     "name": "stdout",
     "output_type": "stream",
     "text": [
      "Decision Tree (Gini Index): Subcategory\n",
      "\n",
      "[[   416      0      0      0     10     78      0]\n",
      " [     0      5      0      0      9      0      0]\n",
      " [    13      0      2      5     82      5      0]\n",
      " [    11      0      1    860    710   2039      0]\n",
      " [    11      3      0     71   9069   5387      1]\n",
      " [    63      0      0      0    459 317814      1]\n",
      " [     0      0      0      0      0      9 396571]] \n",
      "\n",
      "              precision    recall  f1-score   support\n",
      "\n",
      "           1       0.81      0.83      0.82       504\n",
      "           2       0.62      0.36      0.45        14\n",
      "           3       0.67      0.02      0.04       107\n",
      "           4       0.92      0.24      0.38      3621\n",
      "           5       0.88      0.62      0.73     14542\n",
      "           6       0.98      1.00      0.99    318337\n",
      "           7       1.00      1.00      1.00    396580\n",
      "\n",
      "    accuracy                           0.99    733705\n",
      "   macro avg       0.84      0.58      0.63    733705\n",
      "weighted avg       0.99      0.99      0.99    733705\n",
      "\n"
     ]
    }
   ],
   "source": [
    "print(\"Decision Tree (Gini Index): Subcategory\\n\")\n",
    "print(confusion_matrix(test_labels['subcategory'],predictions_gi['subcategory']),\"\\n\")\n",
    "print(classification_report(test_labels['subcategory'],predictions_gi['subcategory']))"
   ]
  },
  {
   "cell_type": "markdown",
   "metadata": {},
   "source": [
    "**Gradient Boost**"
   ]
  },
  {
   "cell_type": "code",
   "execution_count": 67,
   "metadata": {},
   "outputs": [
    {
     "ename": "NameError",
     "evalue": "name 'train_data' is not defined",
     "output_type": "error",
     "traceback": [
      "\u001b[0;31m---------------------------------------------------------------------------\u001b[0m",
      "\u001b[0;31mNameError\u001b[0m                                 Traceback (most recent call last)",
      "\u001b[0;32m/var/folders/zn/4_sw7bx56wq4ps7dr4483mw00000gn/T/ipykernel_31250/4193616246.py\u001b[0m in \u001b[0;36m<module>\u001b[0;34m\u001b[0m\n\u001b[1;32m      1\u001b[0m \u001b[0mxgb_clf\u001b[0m \u001b[0;34m=\u001b[0m \u001b[0mGradientBoost\u001b[0m\u001b[0;34m(\u001b[0m\u001b[0;34m)\u001b[0m\u001b[0;34m\u001b[0m\u001b[0;34m\u001b[0m\u001b[0m\n\u001b[0;32m----> 2\u001b[0;31m \u001b[0mxgb_clf\u001b[0m\u001b[0;34m.\u001b[0m\u001b[0mfit\u001b[0m\u001b[0;34m(\u001b[0m\u001b[0mtrain_data\u001b[0m\u001b[0;34m[\u001b[0m\u001b[0;36m0\u001b[0m\u001b[0;34m:\u001b[0m\u001b[0;36m10\u001b[0m\u001b[0;34m]\u001b[0m\u001b[0;34m,\u001b[0m\u001b[0mtarget_features\u001b[0m\u001b[0;34m)\u001b[0m\u001b[0;34m\u001b[0m\u001b[0;34m\u001b[0m\u001b[0m\n\u001b[0m\u001b[1;32m      3\u001b[0m \u001b[0mpredictions_gb\u001b[0m \u001b[0;34m=\u001b[0m \u001b[0mxgb_clf\u001b[0m\u001b[0;34m.\u001b[0m\u001b[0mpredict\u001b[0m\u001b[0;34m(\u001b[0m\u001b[0mtest\u001b[0m\u001b[0;34m[\u001b[0m\u001b[0;36m0\u001b[0m\u001b[0;34m:\u001b[0m\u001b[0;36m10\u001b[0m\u001b[0;34m]\u001b[0m\u001b[0;34m)\u001b[0m\u001b[0;34m\u001b[0m\u001b[0;34m\u001b[0m\u001b[0m\n",
      "\u001b[0;31mNameError\u001b[0m: name 'train_data' is not defined"
     ]
    }
   ],
   "source": [
    "xgb_clf = GradientBoost()\n",
    "xgb_clf.fit(train_data[0:10],target_features)\n",
    "predictions_gb = xgb_clf.predict(test[0:10])"
   ]
  },
  {
   "cell_type": "code",
   "execution_count": 66,
   "metadata": {},
   "outputs": [
    {
     "ename": "NameError",
     "evalue": "name 'predictions_gb' is not defined",
     "output_type": "error",
     "traceback": [
      "\u001b[0;31m---------------------------------------------------------------------------\u001b[0m",
      "\u001b[0;31mNameError\u001b[0m                                 Traceback (most recent call last)",
      "\u001b[0;32m/var/folders/zn/4_sw7bx56wq4ps7dr4483mw00000gn/T/ipykernel_31250/3983702628.py\u001b[0m in \u001b[0;36m<module>\u001b[0;34m\u001b[0m\n\u001b[0;32m----> 1\u001b[0;31m \u001b[0mpredictions_gb\u001b[0m\u001b[0;34m\u001b[0m\u001b[0;34m\u001b[0m\u001b[0m\n\u001b[0m",
      "\u001b[0;31mNameError\u001b[0m: name 'predictions_gb' is not defined"
     ]
    }
   ],
   "source": [
    "predictions_gb"
   ]
  },
  {
   "cell_type": "code",
   "execution_count": 65,
   "metadata": {},
   "outputs": [
    {
     "name": "stdout",
     "output_type": "stream",
     "text": [
      "Gradient Boost: Attack\n",
      "\n"
     ]
    },
    {
     "ename": "NameError",
     "evalue": "name 'test_labels' is not defined",
     "output_type": "error",
     "traceback": [
      "\u001b[0;31m---------------------------------------------------------------------------\u001b[0m",
      "\u001b[0;31mNameError\u001b[0m                                 Traceback (most recent call last)",
      "\u001b[0;32m/var/folders/zn/4_sw7bx56wq4ps7dr4483mw00000gn/T/ipykernel_31250/2723463117.py\u001b[0m in \u001b[0;36m<module>\u001b[0;34m\u001b[0m\n\u001b[1;32m      1\u001b[0m \u001b[0mprint\u001b[0m\u001b[0;34m(\u001b[0m\u001b[0;34m\"Gradient Boost: Attack\\n\"\u001b[0m\u001b[0;34m)\u001b[0m\u001b[0;34m\u001b[0m\u001b[0;34m\u001b[0m\u001b[0m\n\u001b[0;32m----> 2\u001b[0;31m \u001b[0mprint\u001b[0m\u001b[0;34m(\u001b[0m\u001b[0mconfusion_matrix\u001b[0m\u001b[0;34m(\u001b[0m\u001b[0mtest_labels\u001b[0m\u001b[0;34m[\u001b[0m\u001b[0;34m'attack'\u001b[0m\u001b[0;34m]\u001b[0m\u001b[0;34m,\u001b[0m\u001b[0mpredictions_gb\u001b[0m\u001b[0;34m[\u001b[0m\u001b[0;34m'attack'\u001b[0m\u001b[0;34m]\u001b[0m\u001b[0;34m)\u001b[0m\u001b[0;34m,\u001b[0m\u001b[0;34m\"\\n\"\u001b[0m\u001b[0;34m)\u001b[0m\u001b[0;34m\u001b[0m\u001b[0;34m\u001b[0m\u001b[0m\n\u001b[0m\u001b[1;32m      3\u001b[0m \u001b[0mprint\u001b[0m\u001b[0;34m(\u001b[0m\u001b[0mclassification_report\u001b[0m\u001b[0;34m(\u001b[0m\u001b[0mtest_labels\u001b[0m\u001b[0;34m[\u001b[0m\u001b[0;34m'attack'\u001b[0m\u001b[0;34m]\u001b[0m\u001b[0;34m,\u001b[0m\u001b[0mpredictions_gb\u001b[0m\u001b[0;34m[\u001b[0m\u001b[0;34m'attack'\u001b[0m\u001b[0;34m]\u001b[0m\u001b[0;34m)\u001b[0m\u001b[0;34m)\u001b[0m\u001b[0;34m\u001b[0m\u001b[0;34m\u001b[0m\u001b[0m\n",
      "\u001b[0;31mNameError\u001b[0m: name 'test_labels' is not defined"
     ]
    }
   ],
   "source": [
    "print(\"Gradient Boost: Attack\\n\")\n",
    "print(confusion_matrix(test_labels['attack'],predictions_gb['attack']),\"\\n\")\n",
    "print(classification_report(test_labels['attack'],predictions_gb['attack']))"
   ]
  },
  {
   "cell_type": "code",
   "execution_count": 77,
   "metadata": {},
   "outputs": [
    {
     "name": "stdout",
     "output_type": "stream",
     "text": [
      "Gradient Boost: Category\n",
      "\n",
      "[[385296     12      0      1      0]\n",
      " [    17 330094      1      0      0]\n",
      " [     0      0    100      7      0]\n",
      " [     0      1      0  18162      0]\n",
      " [     0      0      0      0     14]] \n",
      "\n",
      "              precision    recall  f1-score   support\n",
      "\n",
      "           0       1.00      1.00      1.00    385309\n",
      "           1       1.00      1.00      1.00    330112\n",
      "           2       0.99      0.93      0.96       107\n",
      "           3       1.00      1.00      1.00     18163\n",
      "           4       1.00      1.00      1.00        14\n",
      "\n",
      "    accuracy                           1.00    733705\n",
      "   macro avg       1.00      0.99      0.99    733705\n",
      "weighted avg       1.00      1.00      1.00    733705\n",
      "\n"
     ]
    }
   ],
   "source": [
    "print(\"Gradient Boost: Category\\n\")\n",
    "print(confusion_matrix(test_labels['category'],predictions_gb['category']),\"\\n\")\n",
    "print(classification_report(test_labels['category'],predictions_gb['category']))"
   ]
  },
  {
   "cell_type": "code",
   "execution_count": 78,
   "metadata": {},
   "outputs": [
    {
     "name": "stdout",
     "output_type": "stream",
     "text": [
      "Gradient Boost: Subcategory\n",
      "\n",
      "[[   496      0      1      0      1      6      0]\n",
      " [     0     14      0      0      0      0      0]\n",
      " [     0      0    100      0      7      0      0]\n",
      " [     0      0      0   3350    271      0      0]\n",
      " [     1      0      0    227  14314      0      0]\n",
      " [     0      0      0      0      0 318337      0]\n",
      " [     1      0      0      0      0      5 396574]] \n",
      "\n",
      "              precision    recall  f1-score   support\n",
      "\n",
      "           1       1.00      0.98      0.99       504\n",
      "           2       1.00      1.00      1.00        14\n",
      "           3       0.99      0.93      0.96       107\n",
      "           4       0.94      0.93      0.93      3621\n",
      "           5       0.98      0.98      0.98     14542\n",
      "           6       1.00      1.00      1.00    318337\n",
      "           7       1.00      1.00      1.00    396580\n",
      "\n",
      "    accuracy                           1.00    733705\n",
      "   macro avg       0.99      0.98      0.98    733705\n",
      "weighted avg       1.00      1.00      1.00    733705\n",
      "\n"
     ]
    }
   ],
   "source": [
    "print(\"Gradient Boost: Subcategory\\n\")\n",
    "print(confusion_matrix(test_labels['subcategory'],predictions_gb['subcategory']),\"\\n\")\n",
    "print(classification_report(test_labels['subcategory'],predictions_gb['subcategory']))"
   ]
  },
  {
   "cell_type": "markdown",
   "metadata": {},
   "source": [
    "# END OF NOTEBOOK"
   ]
  },
  {
   "cell_type": "markdown",
   "metadata": {},
   "source": []
  }
 ],
 "metadata": {
  "kernelspec": {
   "display_name": "Python 3",
   "language": "python",
   "name": "python3"
  },
  "language_info": {
   "codemirror_mode": {
    "name": "ipython",
    "version": 3
   },
   "file_extension": ".py",
   "mimetype": "text/x-python",
   "name": "python",
   "nbconvert_exporter": "python",
   "pygments_lexer": "ipython3",
   "version": "3.7.7"
  }
 },
 "nbformat": 4,
 "nbformat_minor": 4
}
