{
 "cells": [
  {
   "cell_type": "markdown",
   "metadata": {},
   "source": [
    "# Analysis and Classification of Attacks using Realistic Botnet Dataset"
   ]
  },
  {
   "cell_type": "code",
   "execution_count": null,
   "metadata": {},
   "outputs": [],
   "source": []
  },
  {
   "cell_type": "code",
   "execution_count": 1,
   "metadata": {},
   "outputs": [],
   "source": [
    "# Importing necessary libraries\n",
    "import numpy as np\n",
    "import pandas as pd\n",
    "import matplotlib.pyplot as plt\n",
    "import seaborn as sns\n",
    "\n",
    "from sklearn.preprocessing import LabelEncoder, StandardScaler\n",
    "from sklearn.model_selection import train_test_split\n",
    "from sklearn.ensemble import RandomForestClassifier\n",
    "from sklearn.neural_network import MLPClassifier\n",
    "from sklearn.svm import LinearSVC\n",
    "from sklearn.linear_model import LogisticRegression\n",
    "from sklearn.naive_bayes import GaussianNB \n",
    "from sklearn.neighbors import KNeighborsClassifier \n",
    "from sklearn.tree import DecisionTreeClassifier \n",
    "from xgboost import XGBClassifier\n",
    "from sklearn.metrics import confusion_matrix, classification_report\n",
    "\n",
    "%matplotlib inline"
   ]
  },
  {
   "cell_type": "code",
   "execution_count": 2,
   "metadata": {},
   "outputs": [],
   "source": [
    "import warnings\n",
    "warnings.filterwarnings('ignore')"
   ]
  },
  {
   "cell_type": "code",
   "execution_count": 3,
   "metadata": {},
   "outputs": [
    {
     "data": {
      "text/html": [
       "<div>\n",
       "<style scoped>\n",
       "    .dataframe tbody tr th:only-of-type {\n",
       "        vertical-align: middle;\n",
       "    }\n",
       "\n",
       "    .dataframe tbody tr th {\n",
       "        vertical-align: top;\n",
       "    }\n",
       "\n",
       "    .dataframe thead th {\n",
       "        text-align: right;\n",
       "    }\n",
       "</style>\n",
       "<table border=\"1\" class=\"dataframe\">\n",
       "  <thead>\n",
       "    <tr style=\"text-align: right;\">\n",
       "      <th></th>\n",
       "      <th>pkSeqID</th>\n",
       "      <th>proto</th>\n",
       "      <th>saddr</th>\n",
       "      <th>sport</th>\n",
       "      <th>daddr</th>\n",
       "      <th>dport</th>\n",
       "      <th>seq</th>\n",
       "      <th>stddev</th>\n",
       "      <th>N_IN_Conn_P_SrcIP</th>\n",
       "      <th>min</th>\n",
       "      <th>state_number</th>\n",
       "      <th>mean</th>\n",
       "      <th>N_IN_Conn_P_DstIP</th>\n",
       "      <th>drate</th>\n",
       "      <th>srate</th>\n",
       "      <th>max</th>\n",
       "      <th>attack</th>\n",
       "      <th>category</th>\n",
       "      <th>subcategory</th>\n",
       "    </tr>\n",
       "  </thead>\n",
       "  <tbody>\n",
       "    <tr>\n",
       "      <th>0</th>\n",
       "      <td>3142762</td>\n",
       "      <td>udp</td>\n",
       "      <td>192.168.100.150</td>\n",
       "      <td>6551</td>\n",
       "      <td>192.168.100.3</td>\n",
       "      <td>80</td>\n",
       "      <td>251984</td>\n",
       "      <td>1.900363</td>\n",
       "      <td>100</td>\n",
       "      <td>0.000000</td>\n",
       "      <td>4</td>\n",
       "      <td>2.687519</td>\n",
       "      <td>100</td>\n",
       "      <td>0.0</td>\n",
       "      <td>0.494549</td>\n",
       "      <td>4.031619</td>\n",
       "      <td>1</td>\n",
       "      <td>DDoS</td>\n",
       "      <td>UDP</td>\n",
       "    </tr>\n",
       "    <tr>\n",
       "      <th>1</th>\n",
       "      <td>2432264</td>\n",
       "      <td>tcp</td>\n",
       "      <td>192.168.100.150</td>\n",
       "      <td>5532</td>\n",
       "      <td>192.168.100.3</td>\n",
       "      <td>80</td>\n",
       "      <td>256724</td>\n",
       "      <td>0.078003</td>\n",
       "      <td>38</td>\n",
       "      <td>3.856930</td>\n",
       "      <td>3</td>\n",
       "      <td>3.934927</td>\n",
       "      <td>100</td>\n",
       "      <td>0.0</td>\n",
       "      <td>0.256493</td>\n",
       "      <td>4.012924</td>\n",
       "      <td>1</td>\n",
       "      <td>DDoS</td>\n",
       "      <td>TCP</td>\n",
       "    </tr>\n",
       "    <tr>\n",
       "      <th>2</th>\n",
       "      <td>1976315</td>\n",
       "      <td>tcp</td>\n",
       "      <td>192.168.100.147</td>\n",
       "      <td>27165</td>\n",
       "      <td>192.168.100.3</td>\n",
       "      <td>80</td>\n",
       "      <td>62921</td>\n",
       "      <td>0.268666</td>\n",
       "      <td>100</td>\n",
       "      <td>2.974100</td>\n",
       "      <td>3</td>\n",
       "      <td>3.341429</td>\n",
       "      <td>100</td>\n",
       "      <td>0.0</td>\n",
       "      <td>0.294880</td>\n",
       "      <td>3.609205</td>\n",
       "      <td>1</td>\n",
       "      <td>DDoS</td>\n",
       "      <td>TCP</td>\n",
       "    </tr>\n",
       "    <tr>\n",
       "      <th>3</th>\n",
       "      <td>1240757</td>\n",
       "      <td>udp</td>\n",
       "      <td>192.168.100.150</td>\n",
       "      <td>48719</td>\n",
       "      <td>192.168.100.3</td>\n",
       "      <td>80</td>\n",
       "      <td>99168</td>\n",
       "      <td>1.823185</td>\n",
       "      <td>63</td>\n",
       "      <td>0.000000</td>\n",
       "      <td>4</td>\n",
       "      <td>3.222832</td>\n",
       "      <td>63</td>\n",
       "      <td>0.0</td>\n",
       "      <td>0.461435</td>\n",
       "      <td>4.942302</td>\n",
       "      <td>1</td>\n",
       "      <td>DoS</td>\n",
       "      <td>UDP</td>\n",
       "    </tr>\n",
       "    <tr>\n",
       "      <th>4</th>\n",
       "      <td>3257991</td>\n",
       "      <td>udp</td>\n",
       "      <td>192.168.100.147</td>\n",
       "      <td>22461</td>\n",
       "      <td>192.168.100.3</td>\n",
       "      <td>80</td>\n",
       "      <td>105063</td>\n",
       "      <td>0.822418</td>\n",
       "      <td>100</td>\n",
       "      <td>2.979995</td>\n",
       "      <td>4</td>\n",
       "      <td>3.983222</td>\n",
       "      <td>100</td>\n",
       "      <td>0.0</td>\n",
       "      <td>1.002999</td>\n",
       "      <td>4.994452</td>\n",
       "      <td>1</td>\n",
       "      <td>DDoS</td>\n",
       "      <td>UDP</td>\n",
       "    </tr>\n",
       "  </tbody>\n",
       "</table>\n",
       "</div>"
      ],
      "text/plain": [
       "   pkSeqID proto            saddr  sport          daddr dport     seq  \\\n",
       "0  3142762   udp  192.168.100.150   6551  192.168.100.3    80  251984   \n",
       "1  2432264   tcp  192.168.100.150   5532  192.168.100.3    80  256724   \n",
       "2  1976315   tcp  192.168.100.147  27165  192.168.100.3    80   62921   \n",
       "3  1240757   udp  192.168.100.150  48719  192.168.100.3    80   99168   \n",
       "4  3257991   udp  192.168.100.147  22461  192.168.100.3    80  105063   \n",
       "\n",
       "     stddev  N_IN_Conn_P_SrcIP       min  state_number      mean  \\\n",
       "0  1.900363                100  0.000000             4  2.687519   \n",
       "1  0.078003                 38  3.856930             3  3.934927   \n",
       "2  0.268666                100  2.974100             3  3.341429   \n",
       "3  1.823185                 63  0.000000             4  3.222832   \n",
       "4  0.822418                100  2.979995             4  3.983222   \n",
       "\n",
       "   N_IN_Conn_P_DstIP  drate     srate       max  attack category subcategory  \n",
       "0                100    0.0  0.494549  4.031619       1     DDoS         UDP  \n",
       "1                100    0.0  0.256493  4.012924       1     DDoS         TCP  \n",
       "2                100    0.0  0.294880  3.609205       1     DDoS         TCP  \n",
       "3                 63    0.0  0.461435  4.942302       1      DoS         UDP  \n",
       "4                100    0.0  1.002999  4.994452       1     DDoS         UDP  "
      ]
     },
     "execution_count": 3,
     "metadata": {},
     "output_type": "execute_result"
    }
   ],
   "source": [
    "# Training Dataset\n",
    "data = pd.read_csv(\"UNSW_2018_IoT_Botnet_Final_10_best_Training.csv\")\n",
    "data.head()"
   ]
  },
  {
   "cell_type": "code",
   "execution_count": 4,
   "metadata": {},
   "outputs": [
    {
     "name": "stdout",
     "output_type": "stream",
     "text": [
      "<class 'pandas.core.frame.DataFrame'>\n",
      "RangeIndex: 2934817 entries, 0 to 2934816\n",
      "Data columns (total 19 columns):\n",
      " #   Column             Dtype  \n",
      "---  ------             -----  \n",
      " 0   pkSeqID            int64  \n",
      " 1   proto              object \n",
      " 2   saddr              object \n",
      " 3   sport              object \n",
      " 4   daddr              object \n",
      " 5   dport              object \n",
      " 6   seq                int64  \n",
      " 7   stddev             float64\n",
      " 8   N_IN_Conn_P_SrcIP  int64  \n",
      " 9   min                float64\n",
      " 10  state_number       int64  \n",
      " 11  mean               float64\n",
      " 12  N_IN_Conn_P_DstIP  int64  \n",
      " 13  drate              float64\n",
      " 14  srate              float64\n",
      " 15  max                float64\n",
      " 16  attack             int64  \n",
      " 17  category           object \n",
      " 18  subcategory        object \n",
      "dtypes: float64(6), int64(6), object(7)\n",
      "memory usage: 425.4+ MB\n"
     ]
    }
   ],
   "source": [
    "# General Information about the data\n",
    "data.info()"
   ]
  },
  {
   "cell_type": "markdown",
   "metadata": {},
   "source": [
    "## Exploratory Data Analysis"
   ]
  },
  {
   "cell_type": "code",
   "execution_count": 5,
   "metadata": {},
   "outputs": [
    {
     "data": {
      "text/html": [
       "<div>\n",
       "<style scoped>\n",
       "    .dataframe tbody tr th:only-of-type {\n",
       "        vertical-align: middle;\n",
       "    }\n",
       "\n",
       "    .dataframe tbody tr th {\n",
       "        vertical-align: top;\n",
       "    }\n",
       "\n",
       "    .dataframe thead th {\n",
       "        text-align: right;\n",
       "    }\n",
       "</style>\n",
       "<table border=\"1\" class=\"dataframe\">\n",
       "  <thead>\n",
       "    <tr style=\"text-align: right;\">\n",
       "      <th></th>\n",
       "      <th>pkSeqID</th>\n",
       "      <th>seq</th>\n",
       "      <th>stddev</th>\n",
       "      <th>N_IN_Conn_P_SrcIP</th>\n",
       "      <th>min</th>\n",
       "      <th>state_number</th>\n",
       "      <th>mean</th>\n",
       "      <th>N_IN_Conn_P_DstIP</th>\n",
       "      <th>drate</th>\n",
       "      <th>srate</th>\n",
       "      <th>max</th>\n",
       "      <th>attack</th>\n",
       "    </tr>\n",
       "  </thead>\n",
       "  <tbody>\n",
       "    <tr>\n",
       "      <th>count</th>\n",
       "      <td>2.934817e+06</td>\n",
       "      <td>2.934817e+06</td>\n",
       "      <td>2.934817e+06</td>\n",
       "      <td>2.934817e+06</td>\n",
       "      <td>2.934817e+06</td>\n",
       "      <td>2.934817e+06</td>\n",
       "      <td>2.934817e+06</td>\n",
       "      <td>2.934817e+06</td>\n",
       "      <td>2.934817e+06</td>\n",
       "      <td>2.934817e+06</td>\n",
       "      <td>2.934817e+06</td>\n",
       "      <td>2.934817e+06</td>\n",
       "    </tr>\n",
       "    <tr>\n",
       "      <th>mean</th>\n",
       "      <td>1.834209e+06</td>\n",
       "      <td>1.212973e+05</td>\n",
       "      <td>8.869639e-01</td>\n",
       "      <td>8.254997e+01</td>\n",
       "      <td>1.017208e+00</td>\n",
       "      <td>3.134219e+00</td>\n",
       "      <td>2.230471e+00</td>\n",
       "      <td>9.245766e+01</td>\n",
       "      <td>4.303064e-01</td>\n",
       "      <td>3.128290e+00</td>\n",
       "      <td>3.019269e+00</td>\n",
       "      <td>9.998739e-01</td>\n",
       "    </tr>\n",
       "    <tr>\n",
       "      <th>std</th>\n",
       "      <td>1.059058e+06</td>\n",
       "      <td>7.578700e+04</td>\n",
       "      <td>8.036391e-01</td>\n",
       "      <td>2.439019e+01</td>\n",
       "      <td>1.483551e+00</td>\n",
       "      <td>1.187107e+00</td>\n",
       "      <td>1.517766e+00</td>\n",
       "      <td>1.816651e+01</td>\n",
       "      <td>5.623304e+01</td>\n",
       "      <td>7.845494e+02</td>\n",
       "      <td>1.860915e+00</td>\n",
       "      <td>1.122750e-02</td>\n",
       "    </tr>\n",
       "    <tr>\n",
       "      <th>min</th>\n",
       "      <td>1.000000e+00</td>\n",
       "      <td>1.000000e+00</td>\n",
       "      <td>0.000000e+00</td>\n",
       "      <td>1.000000e+00</td>\n",
       "      <td>0.000000e+00</td>\n",
       "      <td>1.000000e+00</td>\n",
       "      <td>0.000000e+00</td>\n",
       "      <td>1.000000e+00</td>\n",
       "      <td>0.000000e+00</td>\n",
       "      <td>0.000000e+00</td>\n",
       "      <td>0.000000e+00</td>\n",
       "      <td>0.000000e+00</td>\n",
       "    </tr>\n",
       "    <tr>\n",
       "      <th>25%</th>\n",
       "      <td>9.171090e+05</td>\n",
       "      <td>5.484700e+04</td>\n",
       "      <td>2.999700e-02</td>\n",
       "      <td>6.900000e+01</td>\n",
       "      <td>0.000000e+00</td>\n",
       "      <td>3.000000e+00</td>\n",
       "      <td>1.819340e-01</td>\n",
       "      <td>1.000000e+02</td>\n",
       "      <td>0.000000e+00</td>\n",
       "      <td>1.558450e-01</td>\n",
       "      <td>2.804170e-01</td>\n",
       "      <td>1.000000e+00</td>\n",
       "    </tr>\n",
       "    <tr>\n",
       "      <th>50%</th>\n",
       "      <td>1.834316e+06</td>\n",
       "      <td>1.177370e+05</td>\n",
       "      <td>7.925750e-01</td>\n",
       "      <td>1.000000e+02</td>\n",
       "      <td>0.000000e+00</td>\n",
       "      <td>4.000000e+00</td>\n",
       "      <td>2.689973e+00</td>\n",
       "      <td>1.000000e+02</td>\n",
       "      <td>0.000000e+00</td>\n",
       "      <td>2.837800e-01</td>\n",
       "      <td>4.008429e+00</td>\n",
       "      <td>1.000000e+00</td>\n",
       "    </tr>\n",
       "    <tr>\n",
       "      <th>75%</th>\n",
       "      <td>2.751250e+06</td>\n",
       "      <td>1.848700e+05</td>\n",
       "      <td>1.745220e+00</td>\n",
       "      <td>1.000000e+02</td>\n",
       "      <td>2.147949e+00</td>\n",
       "      <td>4.000000e+00</td>\n",
       "      <td>3.565061e+00</td>\n",
       "      <td>1.000000e+02</td>\n",
       "      <td>0.000000e+00</td>\n",
       "      <td>4.880000e-01</td>\n",
       "      <td>4.292426e+00</td>\n",
       "      <td>1.000000e+00</td>\n",
       "    </tr>\n",
       "    <tr>\n",
       "      <th>max</th>\n",
       "      <td>3.668522e+06</td>\n",
       "      <td>2.622110e+05</td>\n",
       "      <td>2.496763e+00</td>\n",
       "      <td>1.000000e+02</td>\n",
       "      <td>4.980471e+00</td>\n",
       "      <td>1.100000e+01</td>\n",
       "      <td>4.981882e+00</td>\n",
       "      <td>1.000000e+02</td>\n",
       "      <td>5.882353e+04</td>\n",
       "      <td>1.000000e+06</td>\n",
       "      <td>4.999999e+00</td>\n",
       "      <td>1.000000e+00</td>\n",
       "    </tr>\n",
       "  </tbody>\n",
       "</table>\n",
       "</div>"
      ],
      "text/plain": [
       "            pkSeqID           seq        stddev  N_IN_Conn_P_SrcIP  \\\n",
       "count  2.934817e+06  2.934817e+06  2.934817e+06       2.934817e+06   \n",
       "mean   1.834209e+06  1.212973e+05  8.869639e-01       8.254997e+01   \n",
       "std    1.059058e+06  7.578700e+04  8.036391e-01       2.439019e+01   \n",
       "min    1.000000e+00  1.000000e+00  0.000000e+00       1.000000e+00   \n",
       "25%    9.171090e+05  5.484700e+04  2.999700e-02       6.900000e+01   \n",
       "50%    1.834316e+06  1.177370e+05  7.925750e-01       1.000000e+02   \n",
       "75%    2.751250e+06  1.848700e+05  1.745220e+00       1.000000e+02   \n",
       "max    3.668522e+06  2.622110e+05  2.496763e+00       1.000000e+02   \n",
       "\n",
       "                min  state_number          mean  N_IN_Conn_P_DstIP  \\\n",
       "count  2.934817e+06  2.934817e+06  2.934817e+06       2.934817e+06   \n",
       "mean   1.017208e+00  3.134219e+00  2.230471e+00       9.245766e+01   \n",
       "std    1.483551e+00  1.187107e+00  1.517766e+00       1.816651e+01   \n",
       "min    0.000000e+00  1.000000e+00  0.000000e+00       1.000000e+00   \n",
       "25%    0.000000e+00  3.000000e+00  1.819340e-01       1.000000e+02   \n",
       "50%    0.000000e+00  4.000000e+00  2.689973e+00       1.000000e+02   \n",
       "75%    2.147949e+00  4.000000e+00  3.565061e+00       1.000000e+02   \n",
       "max    4.980471e+00  1.100000e+01  4.981882e+00       1.000000e+02   \n",
       "\n",
       "              drate         srate           max        attack  \n",
       "count  2.934817e+06  2.934817e+06  2.934817e+06  2.934817e+06  \n",
       "mean   4.303064e-01  3.128290e+00  3.019269e+00  9.998739e-01  \n",
       "std    5.623304e+01  7.845494e+02  1.860915e+00  1.122750e-02  \n",
       "min    0.000000e+00  0.000000e+00  0.000000e+00  0.000000e+00  \n",
       "25%    0.000000e+00  1.558450e-01  2.804170e-01  1.000000e+00  \n",
       "50%    0.000000e+00  2.837800e-01  4.008429e+00  1.000000e+00  \n",
       "75%    0.000000e+00  4.880000e-01  4.292426e+00  1.000000e+00  \n",
       "max    5.882353e+04  1.000000e+06  4.999999e+00  1.000000e+00  "
      ]
     },
     "execution_count": 5,
     "metadata": {},
     "output_type": "execute_result"
    }
   ],
   "source": [
    "data.describe()"
   ]
  },
  {
   "cell_type": "code",
   "execution_count": 6,
   "metadata": {},
   "outputs": [
    {
     "data": {
      "text/plain": [
       "udp          1596819\n",
       "tcp          1330598\n",
       "icmp            7228\n",
       "arp              166\n",
       "ipv6-icmp          6\n",
       "Name: proto, dtype: int64"
      ]
     },
     "execution_count": 6,
     "metadata": {},
     "output_type": "execute_result"
    }
   ],
   "source": [
    "data[\"proto\"].value_counts()"
   ]
  },
  {
   "cell_type": "code",
   "execution_count": 7,
   "metadata": {},
   "outputs": [
    {
     "data": {
      "text/plain": [
       "192.168.100.147              761360\n",
       "192.168.100.148              738642\n",
       "192.168.100.150              712260\n",
       "192.168.100.149              711466\n",
       "192.168.100.3                  6609\n",
       "192.168.100.5                  4107\n",
       "192.168.100.6                   272\n",
       "192.168.100.7                    34\n",
       "192.168.100.4                    17\n",
       "192.168.100.1                    14\n",
       "192.168.100.27                    9\n",
       "192.168.100.46                    8\n",
       "fe80::250:56ff:febe:254           5\n",
       "192.168.100.55                    3\n",
       "fe80::2c6a:ff9b:7e14:166a         2\n",
       "fe80::250:56ff:febe:c038          2\n",
       "fe80::c0c0:aa20:45b9:bdd9         2\n",
       "fe80::250:56ff:febe:89ee          2\n",
       "fe80::250:56ff:febe:26db          2\n",
       "fe80::250:56ff:febe:e9d9          1\n",
       "Name: saddr, dtype: int64"
      ]
     },
     "execution_count": 7,
     "metadata": {},
     "output_type": "execute_result"
    }
   ],
   "source": [
    "data[\"saddr\"].value_counts()"
   ]
  },
  {
   "cell_type": "code",
   "execution_count": 8,
   "metadata": {},
   "outputs": [
    {
     "data": {
      "text/plain": [
       "0x0303    7156\n",
       "80        3220\n",
       "1822       878\n",
       "60541      869\n",
       "1216       868\n",
       "          ... \n",
       "39364       31\n",
       "18992       30\n",
       "39305       30\n",
       "0x000d      10\n",
       "0x0011       8\n",
       "Name: sport, Length: 65541, dtype: int64"
      ]
     },
     "execution_count": 8,
     "metadata": {},
     "output_type": "execute_result"
    }
   ],
   "source": [
    "data[\"sport\"].value_counts()"
   ]
  },
  {
   "cell_type": "code",
   "execution_count": 9,
   "metadata": {},
   "outputs": [
    {
     "data": {
      "text/plain": [
       "192.168.100.3      1900562\n",
       "192.168.100.5       361192\n",
       "192.168.100.7       332161\n",
       "192.168.100.6       329679\n",
       "192.168.100.150       3040\n",
       "                    ...   \n",
       "205.251.199.148          1\n",
       "192.33.14.30             1\n",
       "192.55.83.30             1\n",
       "205.251.194.201          1\n",
       "205.251.198.119          1\n",
       "Name: daddr, Length: 81, dtype: int64"
      ]
     },
     "execution_count": 9,
     "metadata": {},
     "output_type": "execute_result"
    }
   ],
   "source": [
    "data[\"daddr\"].value_counts()"
   ]
  },
  {
   "cell_type": "code",
   "execution_count": 10,
   "metadata": {},
   "outputs": [
    {
     "data": {
      "text/plain": [
       "80       2858794\n",
       "1           5379\n",
       "3306        3757\n",
       "53           275\n",
       "-1           166\n",
       "          ...   \n",
       "40344          1\n",
       "3754           1\n",
       "6459           1\n",
       "26822          1\n",
       "61804          1\n",
       "Name: dport, Length: 6906, dtype: int64"
      ]
     },
     "execution_count": 10,
     "metadata": {},
     "output_type": "execute_result"
    }
   ],
   "source": [
    "data[\"dport\"].value_counts()"
   ]
  },
  {
   "cell_type": "code",
   "execution_count": 11,
   "metadata": {},
   "outputs": [
    {
     "data": {
      "text/plain": [
       "DDoS              1541315\n",
       "DoS               1320148\n",
       "Reconnaissance      72919\n",
       "Normal                370\n",
       "Theft                  65\n",
       "Name: category, dtype: int64"
      ]
     },
     "execution_count": 11,
     "metadata": {},
     "output_type": "execute_result"
    }
   ],
   "source": [
    "data[\"category\"].value_counts()"
   ]
  },
  {
   "cell_type": "code",
   "execution_count": 12,
   "metadata": {},
   "outputs": [
    {
     "data": {
      "text/plain": [
       "1    2934447\n",
       "0        370\n",
       "Name: attack, dtype: int64"
      ]
     },
     "execution_count": 12,
     "metadata": {},
     "output_type": "execute_result"
    }
   ],
   "source": [
    "data[\"attack\"].value_counts()"
   ]
  },
  {
   "cell_type": "code",
   "execution_count": 13,
   "metadata": {},
   "outputs": [
    {
     "data": {
      "text/plain": [
       "UDP                  1584650\n",
       "TCP                  1274843\n",
       "Service_Scan           58626\n",
       "OS_Fingerprint         14293\n",
       "HTTP                    1970\n",
       "Normal                   370\n",
       "Keylogging                59\n",
       "Data_Exfiltration          6\n",
       "Name: subcategory, dtype: int64"
      ]
     },
     "execution_count": 13,
     "metadata": {},
     "output_type": "execute_result"
    }
   ],
   "source": [
    "data[\"subcategory\"].value_counts()"
   ]
  },
  {
   "cell_type": "code",
   "execution_count": 14,
   "metadata": {},
   "outputs": [
    {
     "data": {
      "text/html": [
       "<div>\n",
       "<style scoped>\n",
       "    .dataframe tbody tr th:only-of-type {\n",
       "        vertical-align: middle;\n",
       "    }\n",
       "\n",
       "    .dataframe tbody tr th {\n",
       "        vertical-align: top;\n",
       "    }\n",
       "\n",
       "    .dataframe thead th {\n",
       "        text-align: right;\n",
       "    }\n",
       "</style>\n",
       "<table border=\"1\" class=\"dataframe\">\n",
       "  <thead>\n",
       "    <tr style=\"text-align: right;\">\n",
       "      <th></th>\n",
       "      <th>pkSeqID</th>\n",
       "      <th>proto</th>\n",
       "      <th>saddr</th>\n",
       "      <th>sport</th>\n",
       "      <th>daddr</th>\n",
       "      <th>dport</th>\n",
       "      <th>seq</th>\n",
       "      <th>stddev</th>\n",
       "      <th>N_IN_Conn_P_SrcIP</th>\n",
       "      <th>min</th>\n",
       "      <th>state_number</th>\n",
       "      <th>mean</th>\n",
       "      <th>N_IN_Conn_P_DstIP</th>\n",
       "      <th>drate</th>\n",
       "      <th>srate</th>\n",
       "      <th>max</th>\n",
       "      <th>attack</th>\n",
       "      <th>category</th>\n",
       "      <th>subcategory</th>\n",
       "      <th>target</th>\n",
       "    </tr>\n",
       "  </thead>\n",
       "  <tbody>\n",
       "    <tr>\n",
       "      <th>0</th>\n",
       "      <td>3142762</td>\n",
       "      <td>udp</td>\n",
       "      <td>192.168.100.150</td>\n",
       "      <td>6551</td>\n",
       "      <td>192.168.100.3</td>\n",
       "      <td>80</td>\n",
       "      <td>251984</td>\n",
       "      <td>1.900363</td>\n",
       "      <td>100</td>\n",
       "      <td>0.000000</td>\n",
       "      <td>4</td>\n",
       "      <td>2.687519</td>\n",
       "      <td>100</td>\n",
       "      <td>0.0</td>\n",
       "      <td>0.494549</td>\n",
       "      <td>4.031619</td>\n",
       "      <td>1</td>\n",
       "      <td>DDoS</td>\n",
       "      <td>UDP</td>\n",
       "      <td>DDoS_UDP</td>\n",
       "    </tr>\n",
       "    <tr>\n",
       "      <th>1</th>\n",
       "      <td>2432264</td>\n",
       "      <td>tcp</td>\n",
       "      <td>192.168.100.150</td>\n",
       "      <td>5532</td>\n",
       "      <td>192.168.100.3</td>\n",
       "      <td>80</td>\n",
       "      <td>256724</td>\n",
       "      <td>0.078003</td>\n",
       "      <td>38</td>\n",
       "      <td>3.856930</td>\n",
       "      <td>3</td>\n",
       "      <td>3.934927</td>\n",
       "      <td>100</td>\n",
       "      <td>0.0</td>\n",
       "      <td>0.256493</td>\n",
       "      <td>4.012924</td>\n",
       "      <td>1</td>\n",
       "      <td>DDoS</td>\n",
       "      <td>TCP</td>\n",
       "      <td>DDoS_TCP</td>\n",
       "    </tr>\n",
       "    <tr>\n",
       "      <th>2</th>\n",
       "      <td>1976315</td>\n",
       "      <td>tcp</td>\n",
       "      <td>192.168.100.147</td>\n",
       "      <td>27165</td>\n",
       "      <td>192.168.100.3</td>\n",
       "      <td>80</td>\n",
       "      <td>62921</td>\n",
       "      <td>0.268666</td>\n",
       "      <td>100</td>\n",
       "      <td>2.974100</td>\n",
       "      <td>3</td>\n",
       "      <td>3.341429</td>\n",
       "      <td>100</td>\n",
       "      <td>0.0</td>\n",
       "      <td>0.294880</td>\n",
       "      <td>3.609205</td>\n",
       "      <td>1</td>\n",
       "      <td>DDoS</td>\n",
       "      <td>TCP</td>\n",
       "      <td>DDoS_TCP</td>\n",
       "    </tr>\n",
       "    <tr>\n",
       "      <th>3</th>\n",
       "      <td>1240757</td>\n",
       "      <td>udp</td>\n",
       "      <td>192.168.100.150</td>\n",
       "      <td>48719</td>\n",
       "      <td>192.168.100.3</td>\n",
       "      <td>80</td>\n",
       "      <td>99168</td>\n",
       "      <td>1.823185</td>\n",
       "      <td>63</td>\n",
       "      <td>0.000000</td>\n",
       "      <td>4</td>\n",
       "      <td>3.222832</td>\n",
       "      <td>63</td>\n",
       "      <td>0.0</td>\n",
       "      <td>0.461435</td>\n",
       "      <td>4.942302</td>\n",
       "      <td>1</td>\n",
       "      <td>DoS</td>\n",
       "      <td>UDP</td>\n",
       "      <td>DoS_UDP</td>\n",
       "    </tr>\n",
       "    <tr>\n",
       "      <th>4</th>\n",
       "      <td>3257991</td>\n",
       "      <td>udp</td>\n",
       "      <td>192.168.100.147</td>\n",
       "      <td>22461</td>\n",
       "      <td>192.168.100.3</td>\n",
       "      <td>80</td>\n",
       "      <td>105063</td>\n",
       "      <td>0.822418</td>\n",
       "      <td>100</td>\n",
       "      <td>2.979995</td>\n",
       "      <td>4</td>\n",
       "      <td>3.983222</td>\n",
       "      <td>100</td>\n",
       "      <td>0.0</td>\n",
       "      <td>1.002999</td>\n",
       "      <td>4.994452</td>\n",
       "      <td>1</td>\n",
       "      <td>DDoS</td>\n",
       "      <td>UDP</td>\n",
       "      <td>DDoS_UDP</td>\n",
       "    </tr>\n",
       "  </tbody>\n",
       "</table>\n",
       "</div>"
      ],
      "text/plain": [
       "   pkSeqID proto            saddr  sport          daddr dport     seq  \\\n",
       "0  3142762   udp  192.168.100.150   6551  192.168.100.3    80  251984   \n",
       "1  2432264   tcp  192.168.100.150   5532  192.168.100.3    80  256724   \n",
       "2  1976315   tcp  192.168.100.147  27165  192.168.100.3    80   62921   \n",
       "3  1240757   udp  192.168.100.150  48719  192.168.100.3    80   99168   \n",
       "4  3257991   udp  192.168.100.147  22461  192.168.100.3    80  105063   \n",
       "\n",
       "     stddev  N_IN_Conn_P_SrcIP       min  state_number      mean  \\\n",
       "0  1.900363                100  0.000000             4  2.687519   \n",
       "1  0.078003                 38  3.856930             3  3.934927   \n",
       "2  0.268666                100  2.974100             3  3.341429   \n",
       "3  1.823185                 63  0.000000             4  3.222832   \n",
       "4  0.822418                100  2.979995             4  3.983222   \n",
       "\n",
       "   N_IN_Conn_P_DstIP  drate     srate       max  attack category subcategory  \\\n",
       "0                100    0.0  0.494549  4.031619       1     DDoS         UDP   \n",
       "1                100    0.0  0.256493  4.012924       1     DDoS         TCP   \n",
       "2                100    0.0  0.294880  3.609205       1     DDoS         TCP   \n",
       "3                 63    0.0  0.461435  4.942302       1      DoS         UDP   \n",
       "4                100    0.0  1.002999  4.994452       1     DDoS         UDP   \n",
       "\n",
       "     target  \n",
       "0  DDoS_UDP  \n",
       "1  DDoS_TCP  \n",
       "2  DDoS_TCP  \n",
       "3   DoS_UDP  \n",
       "4  DDoS_UDP  "
      ]
     },
     "execution_count": 14,
     "metadata": {},
     "output_type": "execute_result"
    }
   ],
   "source": [
    "data['target'] = data['category'] + \"_\" + data['subcategory']\n",
    "data.head()"
   ]
  },
  {
   "cell_type": "code",
   "execution_count": 15,
   "metadata": {},
   "outputs": [
    {
     "data": {
      "text/plain": [
       "<AxesSubplot:xlabel='target', ylabel='count'>"
      ]
     },
     "execution_count": 15,
     "metadata": {},
     "output_type": "execute_result"
    },
    {
     "data": {
      "image/png": "[encoded data removed]",
      "text/plain": [
       "<Figure size 720x360 with 1 Axes>"
      ]
     },
     "metadata": {
      "needs_background": "light"
     },
     "output_type": "display_data"
    }
   ],
   "source": [
    "plt.figure(figsize=(10,5))\n",
    "plt.xticks(rotation=90)\n",
    "sns.countplot(data['target'],palette='Accent')"
   ]
  },
  {
   "cell_type": "markdown",
   "metadata": {},
   "source": [
    "### Extracting 10 best features"
   ]
  },
  {
   "cell_type": "code",
   "execution_count": 17,
   "metadata": {},
   "outputs": [],
   "source": [
    "ten_best_features = data[['seq','stddev','N_IN_Conn_P_SrcIP', 'min', 'state_number', 'mean', 'N_IN_Conn_P_DstIP',\n",
    "       'drate', 'srate', 'max']]\n",
    "target_features = data[['attack','category','subcategory']]"
   ]
  },
  {
   "cell_type": "markdown",
   "metadata": {},
   "source": [
    "## Data Preprocessing"
   ]
  },
  {
   "cell_type": "code",
   "execution_count": 18,
   "metadata": {},
   "outputs": [
    {
     "data": {
      "text/html": [
       "<div>\n",
       "<style scoped>\n",
       "    .dataframe tbody tr th:only-of-type {\n",
       "        vertical-align: middle;\n",
       "    }\n",
       "\n",
       "    .dataframe tbody tr th {\n",
       "        vertical-align: top;\n",
       "    }\n",
       "\n",
       "    .dataframe thead th {\n",
       "        text-align: right;\n",
       "    }\n",
       "</style>\n",
       "<table border=\"1\" class=\"dataframe\">\n",
       "  <thead>\n",
       "    <tr style=\"text-align: right;\">\n",
       "      <th></th>\n",
       "      <th>attack</th>\n",
       "      <th>category</th>\n",
       "      <th>subcategory</th>\n",
       "    </tr>\n",
       "  </thead>\n",
       "  <tbody>\n",
       "    <tr>\n",
       "      <th>0</th>\n",
       "      <td>1</td>\n",
       "      <td>0</td>\n",
       "      <td>7</td>\n",
       "    </tr>\n",
       "    <tr>\n",
       "      <th>1</th>\n",
       "      <td>1</td>\n",
       "      <td>0</td>\n",
       "      <td>6</td>\n",
       "    </tr>\n",
       "    <tr>\n",
       "      <th>2</th>\n",
       "      <td>1</td>\n",
       "      <td>0</td>\n",
       "      <td>6</td>\n",
       "    </tr>\n",
       "    <tr>\n",
       "      <th>3</th>\n",
       "      <td>1</td>\n",
       "      <td>1</td>\n",
       "      <td>7</td>\n",
       "    </tr>\n",
       "    <tr>\n",
       "      <th>4</th>\n",
       "      <td>1</td>\n",
       "      <td>0</td>\n",
       "      <td>7</td>\n",
       "    </tr>\n",
       "  </tbody>\n",
       "</table>\n",
       "</div>"
      ],
      "text/plain": [
       "   attack  category  subcategory\n",
       "0       1         0            7\n",
       "1       1         0            6\n",
       "2       1         0            6\n",
       "3       1         1            7\n",
       "4       1         0            7"
      ]
     },
     "execution_count": 18,
     "metadata": {},
     "output_type": "execute_result"
    }
   ],
   "source": [
    "# Label Encoding the target columns\n",
    "le = LabelEncoder()\n",
    "target_features['category'] = le.fit_transform(target_features['category'])\n",
    "target_features['subcategory'] = le.fit_transform(target_features['subcategory'])\n",
    "\n",
    "target_features.head()"
   ]
  },
  {
   "cell_type": "code",
   "execution_count": 19,
   "metadata": {},
   "outputs": [],
   "source": [
    "# Train-test Split\n",
    "X_train, X_test, y_train, y_test = train_test_split(ten_best_features,target_features)"
   ]
  },
  {
   "cell_type": "code",
   "execution_count": 20,
   "metadata": {},
   "outputs": [],
   "source": [
    "# Scaling the data\n",
    "sc = StandardScaler()\n",
    "X_train = sc.fit_transform(X_train)\n",
    "X_test = sc.transform(X_test)"
   ]
  },
  {
   "cell_type": "markdown",
   "metadata": {},
   "source": [
    "## Defining the ML Model Classes"
   ]
  },
  {
   "cell_type": "code",
   "execution_count": 21,
   "metadata": {},
   "outputs": [],
   "source": [
    "class RandomForest:\n",
    "    def __init__(self,max_depth):\n",
    "        self.rfc_attack = RandomForestClassifier(max_depth=max_depth)\n",
    "        self.rfc_category = RandomForestClassifier(max_depth=max_depth)\n",
    "        self.rfc_subcategory = RandomForestClassifier(max_depth=max_depth)\n",
    "    \n",
    "    def fit(self,X_train,y_train):\n",
    "        self.rfc_attack.fit(X_train,y_train['attack'])\n",
    "        \n",
    "        features_category = np.concatenate((X_train,np.array(y_train['attack']).reshape(-1,1)),axis=1)\n",
    "        self.rfc_category.fit(features_category,y_train['category'])\n",
    "        \n",
    "        features_subcategory = np.concatenate((features_category,np.array(y_train['category']).reshape(-1,1)),axis=1)\n",
    "        self.rfc_subcategory.fit(features_subcategory,y_train['subcategory'])\n",
    "        \n",
    "    def predict(self,X_test):\n",
    "        predict_attack = self.rfc_attack.predict(X_test)\n",
    "        \n",
    "        test_category = np.concatenate((X_test,predict_attack.reshape(-1,1)),axis=1)\n",
    "        predict_category = self.rfc_category.predict(test_category)\n",
    "        \n",
    "        test_subcategory = np.concatenate((test_category,predict_category.reshape(-1,1)),axis=1)\n",
    "        predict_subcategory = self.rfc_subcategory.predict(test_subcategory)\n",
    "        \n",
    "        return pd.DataFrame({'attack':predict_attack,'category':predict_category,'subcategory':predict_subcategory})"
   ]
  },
  {
   "cell_type": "code",
   "execution_count": 22,
   "metadata": {},
   "outputs": [],
   "source": [
    "class NaiveBayes:\n",
    "    def __init__(self):\n",
    "        self.nb_attack = GaussianNB()\n",
    "        self.nb_category = GaussianNB()\n",
    "        self.nb_subcategory = GaussianNB()\n",
    "    \n",
    "    def fit(self,X_train,y_train):\n",
    "        self.nb_attack.fit(X_train,y_train['attack'])\n",
    "        \n",
    "        features_category = np.concatenate((X_train,np.array(y_train['attack']).reshape(-1,1)),axis=1)\n",
    "        self.nb_category.fit(features_category,y_train['category'])\n",
    "        \n",
    "        features_subcategory = np.concatenate((features_category,np.array(y_train['category']).reshape(-1,1)),axis=1)\n",
    "        self.nb_subcategory.fit(features_subcategory,y_train['subcategory'])\n",
    "        \n",
    "    def predict(self,X_test):\n",
    "        predict_attack = self.nb_attack.predict(X_test)\n",
    "        \n",
    "        test_category = np.concatenate((X_test,predict_attack.reshape(-1,1)),axis=1)\n",
    "        predict_category = self.nb_category.predict(test_category)\n",
    "        \n",
    "        test_subcategory = np.concatenate((test_category,predict_category.reshape(-1,1)),axis=1)\n",
    "        predict_subcategory = self.nb_subcategory.predict(test_subcategory)\n",
    "        \n",
    "        return pd.DataFrame({'attack':predict_attack,'category':predict_category,'subcategory':predict_subcategory})"
   ]
  },
  {
   "cell_type": "code",
   "execution_count": 23,
   "metadata": {},
   "outputs": [],
   "source": [
    "class DecisionTree:\n",
    "    def __init__(self,criterion,max_depth=5):\n",
    "        self.dtree_attack = DecisionTreeClassifier(criterion=criterion,max_depth=max_depth)\n",
    "        self.dtree_category = DecisionTreeClassifier(criterion=criterion,max_depth=max_depth)\n",
    "        self.dtree_subcategory = DecisionTreeClassifier(criterion=criterion,max_depth=max_depth)\n",
    "    \n",
    "    def fit(self,X_train,y_train):\n",
    "        self.dtree_attack.fit(X_train,y_train['attack'])\n",
    "        \n",
    "        features_category = np.concatenate((X_train,np.array(y_train['attack']).reshape(-1,1)),axis=1)\n",
    "        self.dtree_category.fit(features_category,y_train['category'])\n",
    "        \n",
    "        features_subcategory = np.concatenate((features_category,np.array(y_train['category']).reshape(-1,1)),axis=1)\n",
    "        self.dtree_subcategory.fit(features_subcategory,y_train['subcategory'])\n",
    "        \n",
    "    def predict(self,X_test):\n",
    "        predict_attack = self.dtree_attack.predict(X_test)\n",
    "        \n",
    "        test_category = np.concatenate((X_test,predict_attack.reshape(-1,1)),axis=1)\n",
    "        predict_category = self.dtree_category.predict(test_category)\n",
    "        \n",
    "        test_subcategory = np.concatenate((test_category,predict_category.reshape(-1,1)),axis=1)\n",
    "        predict_subcategory = self.dtree_subcategory.predict(test_subcategory)\n",
    "        \n",
    "        return pd.DataFrame({'attack':predict_attack,'category':predict_category,'subcategory':predict_subcategory})"
   ]
  },
  {
   "cell_type": "code",
   "execution_count": 24,
   "metadata": {},
   "outputs": [],
   "source": [
    "class GradientBoost:\n",
    "    def __init__(self):\n",
    "        self.xgb_attack = XGBClassifier()\n",
    "        self.xgb_category = XGBClassifier()\n",
    "        self.xgb_subcategory = XGBClassifier()\n",
    "    \n",
    "    def fit(self,X_train,y_train):\n",
    "        self.xgb_attack.fit(X_train,y_train['attack'])\n",
    "        \n",
    "        features_category = np.concatenate((X_train,np.array(y_train['attack']).reshape(-1,1)),axis=1)\n",
    "        self.xgb_category.fit(features_category,y_train['category'])\n",
    "        \n",
    "        features_subcategory = np.concatenate((features_category,np.array(y_train['category']).reshape(-1,1)),axis=1)\n",
    "        self.xgb_subcategory.fit(features_subcategory,y_train['subcategory'])\n",
    "        \n",
    "    def predict(self,X_test):\n",
    "        predict_attack = self.xgb_attack.predict(X_test)\n",
    "        \n",
    "        test_category = np.concatenate((X_test,predict_attack.reshape(-1,1)),axis=1)\n",
    "        predict_category = self.xgb_category.predict(test_category)\n",
    "        \n",
    "        test_subcategory = np.concatenate((test_category,predict_category.reshape(-1,1)),axis=1)\n",
    "        predict_subcategory = self.xgb_subcategory.predict(test_subcategory)\n",
    "        \n",
    "        return pd.DataFrame({'attack':predict_attack,'category':predict_category,'subcategory':predict_subcategory})"
   ]
  },
  {
   "cell_type": "code",
   "execution_count": 25,
   "metadata": {},
   "outputs": [],
   "source": [
    "class MLP:\n",
    "    def __init__(self,hidden_layer_sizes,activation,solver,max_iter):\n",
    "        self.mlp_attack  = MLPClassifier(hidden_layer_sizes=hidden_layer_sizes, activation=activation, solver=solver, max_iter=max_iter)\n",
    "        self.mlp_category = MLPClassifier(hidden_layer_sizes=hidden_layer_sizes, activation=activation, solver=solver, max_iter=max_iter)\n",
    "        self.mlp_subcategory = MLPClassifier(hidden_layer_sizes=hidden_layer_sizes, activation=activation, solver=solver, max_iter=max_iter)\n",
    "    \n",
    "    def fit(self,X_train,y_train):\n",
    "        self.mlp_attack.fit(X_train,y_train['attack'])\n",
    "        \n",
    "        features_category = np.concatenate((X_train,np.array(y_train['attack']).reshape(-1,1)),axis=1)\n",
    "        self.mlp_category.fit(features_category,y_train['category'])\n",
    "        \n",
    "        features_subcategory = np.concatenate((features_category,np.array(y_train['category']).reshape(-1,1)),axis=1)\n",
    "        self.mlp_subcategory.fit(features_subcategory,y_train['subcategory'])\n",
    "        \n",
    "    def predict(self,X_test):\n",
    "        predict_attack = self.mlp_attack.predict(X_test)\n",
    "        \n",
    "        test_category = np.concatenate((X_test,predict_attack.reshape(-1,1)),axis=1)\n",
    "        predict_category = self.mlp_category.predict(test_category)\n",
    "        \n",
    "        test_subcategory = np.concatenate((test_category,predict_category.reshape(-1,1)),axis=1)\n",
    "        predict_subcategory = self.mlp_subcategory.predict(test_subcategory)\n",
    "        \n",
    "        return pd.DataFrame({'attack':predict_attack,'category':predict_category,'subcategory':predict_subcategory})"
   ]
  },
  {
   "cell_type": "code",
   "execution_count": 26,
   "metadata": {},
   "outputs": [],
   "source": [
    "class SupportVectorMachine:\n",
    "    def __init__(self):\n",
    "        self.svc_attack  = LinearSVC()\n",
    "        self.svc_category = LinearSVC()\n",
    "        self.svc_subcategory = LinearSVC()\n",
    "    \n",
    "    def fit(self,X_train,y_train):\n",
    "        self.svc_attack.fit(X_train,y_train['attack'])\n",
    "        \n",
    "        features_category = np.concatenate((X_train,np.array(y_train['attack']).reshape(-1,1)),axis=1)\n",
    "        self.svc_category.fit(features_category,y_train['category'])\n",
    "        \n",
    "        features_subcategory = np.concatenate((features_category,np.array(y_train['category']).reshape(-1,1)),axis=1)\n",
    "        self.svc_subcategory.fit(features_subcategory,y_train['subcategory'])\n",
    "        \n",
    "    def predict(self,X_test):\n",
    "        predict_attack = self.svc_attack.predict(X_test)\n",
    "        \n",
    "        test_category = np.concatenate((X_test,predict_attack.reshape(-1,1)),axis=1)\n",
    "        predict_category = self.svc_category.predict(test_category)\n",
    "        \n",
    "        test_subcategory = np.concatenate((test_category,predict_category.reshape(-1,1)),axis=1)\n",
    "        predict_subcategory = self.svc_subcategory.predict(test_subcategory)\n",
    "        \n",
    "        return pd.DataFrame({'attack':predict_attack,'category':predict_category,'subcategory':predict_subcategory})"
   ]
  },
  {
   "cell_type": "code",
   "execution_count": 27,
   "metadata": {},
   "outputs": [],
   "source": [
    "class Logistic_Regression:\n",
    "    def __init__(self):\n",
    "        self.lr_attack  = LogisticRegression()\n",
    "        self.lr_category = LogisticRegression()\n",
    "        self.lr_subcategory = LogisticRegression()\n",
    "    \n",
    "    def fit(self,X_train,y_train):\n",
    "        self.lr_attack.fit(X_train,y_train['attack'])\n",
    "        \n",
    "        features_category = np.concatenate((X_train,np.array(y_train['attack']).reshape(-1,1)),axis=1)\n",
    "        self.lr_category.fit(features_category,y_train['category'])\n",
    "        \n",
    "        features_subcategory = np.concatenate((features_category,np.array(y_train['category']).reshape(-1,1)),axis=1)\n",
    "        self.lr_subcategory.fit(features_subcategory,y_train['subcategory'])\n",
    "        \n",
    "    def predict(self,X_test):\n",
    "        predict_attack = self.lr_attack.predict(X_test)\n",
    "        \n",
    "        test_category = np.concatenate((X_test,predict_attack.reshape(-1,1)),axis=1)\n",
    "        predict_category = self.lr_category.predict(test_category)\n",
    "        \n",
    "        test_subcategory = np.concatenate((test_category,predict_category.reshape(-1,1)),axis=1)\n",
    "        predict_subcategory = self.lr_subcategory.predict(test_subcategory)\n",
    "        \n",
    "        return pd.DataFrame({'attack':predict_attack,'category':predict_category,'subcategory':predict_subcategory})"
   ]
  },
  {
   "cell_type": "markdown",
   "metadata": {},
   "source": [
    "### Validation of ML Models on Training Dataset"
   ]
  },
  {
   "cell_type": "markdown",
   "metadata": {},
   "source": [
    "**Random Forest**"
   ]
  },
  {
   "cell_type": "code",
   "execution_count": 28,
   "metadata": {},
   "outputs": [],
   "source": [
    "rf = RandomForest(max_depth=3)\n",
    "rf.fit(X_train,y_train)\n",
    "\n",
    "predictions_rfc = rf.predict(X_test)"
   ]
  },
  {
   "cell_type": "code",
   "execution_count": 29,
   "metadata": {},
   "outputs": [
    {
     "name": "stdout",
     "output_type": "stream",
     "text": [
      "[[     2     81]\n",
      " [     0 733622]]\n",
      "              precision    recall  f1-score   support\n",
      "\n",
      "           0       1.00      0.02      0.05        83\n",
      "           1       1.00      1.00      1.00    733622\n",
      "\n",
      "    accuracy                           1.00    733705\n",
      "   macro avg       1.00      0.51      0.52    733705\n",
      "weighted avg       1.00      1.00      1.00    733705\n",
      "\n"
     ]
    }
   ],
   "source": [
    "print(confusion_matrix(y_test['attack'],predictions_rfc['attack']))\n",
    "print(classification_report(y_test['attack'],predictions_rfc['attack']))"
   ]
  },
  {
   "cell_type": "code",
   "execution_count": 30,
   "metadata": {},
   "outputs": [
    {
     "name": "stdout",
     "output_type": "stream",
     "text": [
      "[[364823  20695      0      0      0]\n",
      " [ 26729 303448      0      1      0]\n",
      " [     0     58      0     25      0]\n",
      " [  9916   1457      0   6538      0]\n",
      " [     0      3      0     12      0]]\n",
      "              precision    recall  f1-score   support\n",
      "\n",
      "           0       0.91      0.95      0.93    385518\n",
      "           1       0.93      0.92      0.93    330178\n",
      "           2       0.00      0.00      0.00        83\n",
      "           3       0.99      0.37      0.53     17911\n",
      "           4       0.00      0.00      0.00        15\n",
      "\n",
      "    accuracy                           0.92    733705\n",
      "   macro avg       0.57      0.45      0.48    733705\n",
      "weighted avg       0.92      0.92      0.92    733705\n",
      "\n"
     ]
    }
   ],
   "source": [
    "print(confusion_matrix(y_test['category'],predictions_rfc['category']))\n",
    "print(classification_report(y_test['category'],predictions_rfc['category']))"
   ]
  },
  {
   "cell_type": "code",
   "execution_count": 31,
   "metadata": {},
   "outputs": [
    {
     "name": "stdout",
     "output_type": "stream",
     "text": [
      "[[     0      0      0      0      0    463      0]\n",
      " [     0      0      0      0     12      2      1]\n",
      " [     0      0      0      0     25     57      1]\n",
      " [     0      0      0      0    161   3273      5]\n",
      " [     0      0      0      0   6383   8082      7]\n",
      " [     0      0      0      0      0 319129    221]\n",
      " [     0      0      0      0      1      6 395876]]\n",
      "              precision    recall  f1-score   support\n",
      "\n",
      "           1       0.00      0.00      0.00       463\n",
      "           2       0.00      0.00      0.00        15\n",
      "           3       0.00      0.00      0.00        83\n",
      "           4       0.00      0.00      0.00      3439\n",
      "           5       0.97      0.44      0.61     14472\n",
      "           6       0.96      1.00      0.98    319350\n",
      "           7       1.00      1.00      1.00    395883\n",
      "\n",
      "    accuracy                           0.98    733705\n",
      "   macro avg       0.42      0.35      0.37    733705\n",
      "weighted avg       0.98      0.98      0.98    733705\n",
      "\n"
     ]
    }
   ],
   "source": [
    "print(confusion_matrix(y_test['subcategory'],predictions_rfc['subcategory']))\n",
    "print(classification_report(y_test['subcategory'],predictions_rfc['subcategory']))"
   ]
  },
  {
   "cell_type": "code",
   "execution_count": 32,
   "metadata": {},
   "outputs": [
    {
     "data": {
      "text/plain": [
       "0.9998896014065598"
      ]
     },
     "execution_count": 32,
     "metadata": {},
     "output_type": "execute_result"
    }
   ],
   "source": [
    "rf.rfc_attack.score(X_test,y_test['attack'])"
   ]
  },
  {
   "cell_type": "code",
   "execution_count": 33,
   "metadata": {},
   "outputs": [
    {
     "data": {
      "text/plain": [
       "0.9197279560586339"
      ]
     },
     "execution_count": 33,
     "metadata": {},
     "output_type": "execute_result"
    }
   ],
   "source": [
    "rf.rfc_category.score(np.concatenate((X_test,np.array(predictions_rfc['attack']).reshape(-1,1)),axis=1),y_test['category'])"
   ]
  },
  {
   "cell_type": "code",
   "execution_count": 34,
   "metadata": {},
   "outputs": [
    {
     "data": {
      "text/plain": [
       "0.9832125990691082"
      ]
     },
     "execution_count": 34,
     "metadata": {},
     "output_type": "execute_result"
    }
   ],
   "source": [
    "rf.rfc_subcategory.score(np.concatenate((X_test,np.array(predictions_rfc['attack']).reshape(-1,1),\n",
    "                                    np.array(predictions_rfc['category']).reshape(-1,1)),axis=1),y_test['subcategory'])"
   ]
  },
  {
   "cell_type": "markdown",
   "metadata": {},
   "source": [
    "**Naive Bayes**"
   ]
  },
  {
   "cell_type": "code",
   "execution_count": 35,
   "metadata": {},
   "outputs": [],
   "source": [
    "nb = NaiveBayes()\n",
    "nb.fit(X_train,y_train)\n",
    "\n",
    "predictions_nb = nb.predict(X_test)"
   ]
  },
  {
   "cell_type": "code",
   "execution_count": 36,
   "metadata": {},
   "outputs": [
    {
     "name": "stdout",
     "output_type": "stream",
     "text": [
      "[[    79      4]\n",
      " [  2539 731083]]\n",
      "              precision    recall  f1-score   support\n",
      "\n",
      "           0       0.03      0.95      0.06        83\n",
      "           1       1.00      1.00      1.00    733622\n",
      "\n",
      "    accuracy                           1.00    733705\n",
      "   macro avg       0.52      0.97      0.53    733705\n",
      "weighted avg       1.00      1.00      1.00    733705\n",
      "\n"
     ]
    }
   ],
   "source": [
    "print(confusion_matrix(y_test['attack'],predictions_nb['attack']))\n",
    "print(classification_report(y_test['attack'],predictions_nb['attack']))"
   ]
  },
  {
   "cell_type": "code",
   "execution_count": 37,
   "metadata": {},
   "outputs": [
    {
     "name": "stdout",
     "output_type": "stream",
     "text": [
      "[[368747  16630     25    116      0]\n",
      " [184021 145189    556    412      0]\n",
      " [     0      3     79      1      0]\n",
      " [ 10421   1899   1954   3637      0]\n",
      " [     0      0      4      0     11]]\n",
      "              precision    recall  f1-score   support\n",
      "\n",
      "           0       0.65      0.96      0.78    385518\n",
      "           1       0.89      0.44      0.59    330178\n",
      "           2       0.03      0.95      0.06        83\n",
      "           3       0.87      0.20      0.33     17911\n",
      "           4       1.00      0.73      0.85        15\n",
      "\n",
      "    accuracy                           0.71    733705\n",
      "   macro avg       0.69      0.66      0.52    733705\n",
      "weighted avg       0.76      0.71      0.68    733705\n",
      "\n"
     ]
    }
   ],
   "source": [
    "print(confusion_matrix(y_test['category'],predictions_nb['category']))\n",
    "print(classification_report(y_test['category'],predictions_nb['category']))"
   ]
  },
  {
   "cell_type": "code",
   "execution_count": 38,
   "metadata": {},
   "outputs": [
    {
     "name": "stdout",
     "output_type": "stream",
     "text": [
      "[[   290      0      9      3    148     13      0]\n",
      " [     0     11      4      0      0      0      0]\n",
      " [     0      0     79      0      1      3      0]\n",
      " [   222      0    103      1    131   2982      0]\n",
      " [   505      0   1851    472   3033   8611      0]\n",
      " [   827      0    558      5    372 317588      0]\n",
      " [     0      0     14      0      0     17 395852]]\n",
      "              precision    recall  f1-score   support\n",
      "\n",
      "           1       0.16      0.63      0.25       463\n",
      "           2       1.00      0.73      0.85        15\n",
      "           3       0.03      0.95      0.06        83\n",
      "           4       0.00      0.00      0.00      3439\n",
      "           5       0.82      0.21      0.33     14472\n",
      "           6       0.96      0.99      0.98    319350\n",
      "           7       1.00      1.00      1.00    395883\n",
      "\n",
      "    accuracy                           0.98    733705\n",
      "   macro avg       0.57      0.65      0.50    733705\n",
      "weighted avg       0.98      0.98      0.97    733705\n",
      "\n"
     ]
    }
   ],
   "source": [
    "print(confusion_matrix(y_test['subcategory'],predictions_nb['subcategory']))\n",
    "print(classification_report(y_test['subcategory'],predictions_nb['subcategory']))"
   ]
  },
  {
   "cell_type": "markdown",
   "metadata": {},
   "source": [
    "**Decision Tree (Information Gain)**"
   ]
  },
  {
   "cell_type": "code",
   "execution_count": 39,
   "metadata": {},
   "outputs": [],
   "source": [
    "dtree_ig = DecisionTree('entropy')\n",
    "dtree_ig.fit(X_train,y_train)\n",
    "predictions_dtree_ig = dtree_ig.predict(X_test)"
   ]
  },
  {
   "cell_type": "code",
   "execution_count": 40,
   "metadata": {},
   "outputs": [
    {
     "name": "stdout",
     "output_type": "stream",
     "text": [
      "[[    23     60]\n",
      " [     0 733622]]\n",
      "              precision    recall  f1-score   support\n",
      "\n",
      "           0       1.00      0.28      0.43        83\n",
      "           1       1.00      1.00      1.00    733622\n",
      "\n",
      "    accuracy                           1.00    733705\n",
      "   macro avg       1.00      0.64      0.72    733705\n",
      "weighted avg       1.00      1.00      1.00    733705\n",
      "\n"
     ]
    }
   ],
   "source": [
    "print(confusion_matrix(y_test['attack'],predictions_dtree_ig['attack']))\n",
    "print(classification_report(y_test['attack'],predictions_dtree_ig['attack']))"
   ]
  },
  {
   "cell_type": "code",
   "execution_count": 41,
   "metadata": {},
   "outputs": [
    {
     "name": "stdout",
     "output_type": "stream",
     "text": [
      "[[339331  45661      0    526      0]\n",
      " [ 11506 318635      0     37      0]\n",
      " [     0     12     22     49      0]\n",
      " [   354   7263      0  10294      0]\n",
      " [     0      2      0     13      0]]\n",
      "              precision    recall  f1-score   support\n",
      "\n",
      "           0       0.97      0.88      0.92    385518\n",
      "           1       0.86      0.97      0.91    330178\n",
      "           2       1.00      0.27      0.42        83\n",
      "           3       0.94      0.57      0.71     17911\n",
      "           4       0.00      0.00      0.00        15\n",
      "\n",
      "    accuracy                           0.91    733705\n",
      "   macro avg       0.75      0.54      0.59    733705\n",
      "weighted avg       0.92      0.91      0.91    733705\n",
      "\n"
     ]
    }
   ],
   "source": [
    "print(confusion_matrix(y_test['category'],predictions_dtree_ig['category']))\n",
    "print(classification_report(y_test['category'],predictions_dtree_ig['category']))"
   ]
  },
  {
   "cell_type": "code",
   "execution_count": 42,
   "metadata": {},
   "outputs": [
    {
     "name": "stdout",
     "output_type": "stream",
     "text": [
      "[[   338      0      0      0     95     30      0]\n",
      " [     2      1      0      0     12      0      0]\n",
      " [     0      0     34     13     35      1      0]\n",
      " [     0      0      1    933    498   1989     18]\n",
      " [    15      0      3    300   8563   5578     13]\n",
      " [    17      0      0      0    455 318876      2]\n",
      " [     0      0     12      1      0      3 395867]]\n",
      "              precision    recall  f1-score   support\n",
      "\n",
      "           1       0.91      0.73      0.81       463\n",
      "           2       1.00      0.07      0.12        15\n",
      "           3       0.68      0.41      0.51        83\n",
      "           4       0.75      0.27      0.40      3439\n",
      "           5       0.89      0.59      0.71     14472\n",
      "           6       0.98      1.00      0.99    319350\n",
      "           7       1.00      1.00      1.00    395883\n",
      "\n",
      "    accuracy                           0.99    733705\n",
      "   macro avg       0.89      0.58      0.65    733705\n",
      "weighted avg       0.99      0.99      0.99    733705\n",
      "\n"
     ]
    }
   ],
   "source": [
    "print(confusion_matrix(y_test['subcategory'],predictions_dtree_ig['subcategory']))\n",
    "print(classification_report(y_test['subcategory'],predictions_dtree_ig['subcategory']))"
   ]
  },
  {
   "cell_type": "code",
   "execution_count": 43,
   "metadata": {},
   "outputs": [
    {
     "data": {
      "text/plain": [
       "0.9999182232641184"
      ]
     },
     "execution_count": 43,
     "metadata": {},
     "output_type": "execute_result"
    }
   ],
   "source": [
    "dtree_ig.dtree_attack.score(X_test,y_test['attack'])"
   ]
  },
  {
   "cell_type": "code",
   "execution_count": 44,
   "metadata": {},
   "outputs": [
    {
     "data": {
      "text/plain": [
       "0.9108320101403152"
      ]
     },
     "execution_count": 44,
     "metadata": {},
     "output_type": "execute_result"
    }
   ],
   "source": [
    "dtree_ig.dtree_category.score(np.concatenate((X_test,np.array(predictions_dtree_ig['attack']).reshape(-1,1)),axis=1),y_test['category'])"
   ]
  },
  {
   "cell_type": "code",
   "execution_count": 45,
   "metadata": {},
   "outputs": [
    {
     "data": {
      "text/plain": [
       "0.9876067356771454"
      ]
     },
     "execution_count": 45,
     "metadata": {},
     "output_type": "execute_result"
    }
   ],
   "source": [
    "dtree_ig.dtree_subcategory.score(np.concatenate((X_test,np.array(predictions_dtree_ig['attack']).reshape(-1,1),\n",
    "                                        np.array(predictions_dtree_ig['category']).reshape(-1,1)),axis=1),y_test['subcategory'])"
   ]
  },
  {
   "cell_type": "markdown",
   "metadata": {},
   "source": [
    "**Decision Tree (Gini Index)**"
   ]
  },
  {
   "cell_type": "code",
   "execution_count": 46,
   "metadata": {},
   "outputs": [],
   "source": [
    "dtree_gini = DecisionTree('gini')\n",
    "dtree_gini.fit(X_train,y_train)\n",
    "predictions_dtree_gini = dtree_gini.predict(X_test)"
   ]
  },
  {
   "cell_type": "code",
   "execution_count": 47,
   "metadata": {},
   "outputs": [
    {
     "name": "stdout",
     "output_type": "stream",
     "text": [
      "[[    27     56]\n",
      " [     3 733619]]\n",
      "              precision    recall  f1-score   support\n",
      "\n",
      "           0       0.90      0.33      0.48        83\n",
      "           1       1.00      1.00      1.00    733622\n",
      "\n",
      "    accuracy                           1.00    733705\n",
      "   macro avg       0.95      0.66      0.74    733705\n",
      "weighted avg       1.00      1.00      1.00    733705\n",
      "\n"
     ]
    }
   ],
   "source": [
    "print(confusion_matrix(y_test['attack'],predictions_dtree_gini['attack']))\n",
    "print(classification_report(y_test['attack'],predictions_dtree_gini['attack']))"
   ]
  },
  {
   "cell_type": "code",
   "execution_count": 48,
   "metadata": {},
   "outputs": [
    {
     "name": "stdout",
     "output_type": "stream",
     "text": [
      "[[338225  46831      0    462      0]\n",
      " [  8425 321747      0      6      0]\n",
      " [     0     13     26     44      0]\n",
      " [    88   7183      3  10637      0]\n",
      " [     0      1      0     14      0]]\n",
      "              precision    recall  f1-score   support\n",
      "\n",
      "           0       0.98      0.88      0.92    385518\n",
      "           1       0.86      0.97      0.91    330178\n",
      "           2       0.90      0.31      0.46        83\n",
      "           3       0.95      0.59      0.73     17911\n",
      "           4       0.00      0.00      0.00        15\n",
      "\n",
      "    accuracy                           0.91    733705\n",
      "   macro avg       0.74      0.55      0.61    733705\n",
      "weighted avg       0.92      0.91      0.91    733705\n",
      "\n"
     ]
    }
   ],
   "source": [
    "print(confusion_matrix(y_test['category'],predictions_dtree_gini['category']))\n",
    "print(classification_report(y_test['category'],predictions_dtree_gini['category']))"
   ]
  },
  {
   "cell_type": "code",
   "execution_count": 49,
   "metadata": {},
   "outputs": [
    {
     "name": "stdout",
     "output_type": "stream",
     "text": [
      "[[   385      0      0      0      5     73      0]\n",
      " [     0      1      0      0     14      0      0]\n",
      " [    11      0      4     17     49      2      0]\n",
      " [    11      0      0    820    666   1932     10]\n",
      " [    15      1      1     91   9062   5301      1]\n",
      " [    63      0      0      0    462 318825      0]\n",
      " [     0      0      0      1      0      6 395876]]\n",
      "              precision    recall  f1-score   support\n",
      "\n",
      "           1       0.79      0.83      0.81       463\n",
      "           2       0.50      0.07      0.12        15\n",
      "           3       0.80      0.05      0.09        83\n",
      "           4       0.88      0.24      0.38      3439\n",
      "           5       0.88      0.63      0.73     14472\n",
      "           6       0.98      1.00      0.99    319350\n",
      "           7       1.00      1.00      1.00    395883\n",
      "\n",
      "    accuracy                           0.99    733705\n",
      "   macro avg       0.83      0.54      0.59    733705\n",
      "weighted avg       0.99      0.99      0.99    733705\n",
      "\n"
     ]
    }
   ],
   "source": [
    "print(confusion_matrix(y_test['subcategory'],predictions_dtree_gini['subcategory']))\n",
    "print(classification_report(y_test['subcategory'],predictions_dtree_gini['subcategory']))"
   ]
  },
  {
   "cell_type": "code",
   "execution_count": 50,
   "metadata": {},
   "outputs": [
    {
     "data": {
      "text/plain": [
       "0.9999195862097164"
      ]
     },
     "execution_count": 50,
     "metadata": {},
     "output_type": "execute_result"
    }
   ],
   "source": [
    "dtree_gini.dtree_attack.score(X_test,y_test['attack'])"
   ]
  },
  {
   "cell_type": "code",
   "execution_count": 51,
   "metadata": {},
   "outputs": [
    {
     "data": {
      "text/plain": [
       "0.9140390211324715"
      ]
     },
     "execution_count": 51,
     "metadata": {},
     "output_type": "execute_result"
    }
   ],
   "source": [
    "dtree_gini.dtree_category.score(np.concatenate((X_test,np.array(predictions_dtree_gini['attack']).reshape(-1,1)),axis=1),y_test['category'])"
   ]
  },
  {
   "cell_type": "code",
   "execution_count": 52,
   "metadata": {},
   "outputs": [
    {
     "data": {
      "text/plain": [
       "0.988098759038033"
      ]
     },
     "execution_count": 52,
     "metadata": {},
     "output_type": "execute_result"
    }
   ],
   "source": [
    "dtree_gini.dtree_subcategory.score(np.concatenate((X_test,np.array(predictions_dtree_gini['attack']).reshape(-1,1),\n",
    "                                        np.array(predictions_dtree_gini['category']).reshape(-1,1)),axis=1),y_test['subcategory'])"
   ]
  },
  {
   "cell_type": "markdown",
   "metadata": {},
   "source": [
    "**Gradient Boost**"
   ]
  },
  {
   "cell_type": "code",
   "execution_count": 53,
   "metadata": {},
   "outputs": [],
   "source": [
    "xgb = GradientBoost()\n",
    "xgb.fit(X_train,y_train)\n",
    "predictions_xgb = xgb.predict(X_test)"
   ]
  },
  {
   "cell_type": "code",
   "execution_count": 54,
   "metadata": {},
   "outputs": [
    {
     "name": "stdout",
     "output_type": "stream",
     "text": [
      "[[    78      5]\n",
      " [     3 733619]]\n",
      "              precision    recall  f1-score   support\n",
      "\n",
      "           0       0.96      0.94      0.95        83\n",
      "           1       1.00      1.00      1.00    733622\n",
      "\n",
      "    accuracy                           1.00    733705\n",
      "   macro avg       0.98      0.97      0.98    733705\n",
      "weighted avg       1.00      1.00      1.00    733705\n",
      "\n"
     ]
    }
   ],
   "source": [
    "print(confusion_matrix(y_test['attack'],predictions_xgb['attack']))\n",
    "print(classification_report(y_test['attack'],predictions_xgb['attack']))"
   ]
  },
  {
   "cell_type": "code",
   "execution_count": 55,
   "metadata": {},
   "outputs": [
    {
     "name": "stdout",
     "output_type": "stream",
     "text": [
      "[[385503     15      0      0      0]\n",
      " [    27 330151      0      0      0]\n",
      " [     0      1     78      4      0]\n",
      " [     5      1      3  17902      0]\n",
      " [     0      1      0      1     13]]\n",
      "              precision    recall  f1-score   support\n",
      "\n",
      "           0       1.00      1.00      1.00    385518\n",
      "           1       1.00      1.00      1.00    330178\n",
      "           2       0.96      0.94      0.95        83\n",
      "           3       1.00      1.00      1.00     17911\n",
      "           4       1.00      0.87      0.93        15\n",
      "\n",
      "    accuracy                           1.00    733705\n",
      "   macro avg       0.99      0.96      0.98    733705\n",
      "weighted avg       1.00      1.00      1.00    733705\n",
      "\n"
     ]
    }
   ],
   "source": [
    "print(confusion_matrix(y_test['category'],predictions_xgb['category']))\n",
    "print(classification_report(y_test['category'],predictions_xgb['category']))"
   ]
  },
  {
   "cell_type": "code",
   "execution_count": 56,
   "metadata": {},
   "outputs": [
    {
     "name": "stdout",
     "output_type": "stream",
     "text": [
      "[[   461      0      0      0      0      2      0]\n",
      " [     1     13      0      0      1      0      0]\n",
      " [     1      0     78      0      4      0      0]\n",
      " [     0      0      1   3191    244      3      0]\n",
      " [     0      0      2    184  14283      3      0]\n",
      " [     0      0      0      0      0 319349      1]\n",
      " [     0      0      0      0      0      4 395879]]\n",
      "              precision    recall  f1-score   support\n",
      "\n",
      "           1       1.00      1.00      1.00       463\n",
      "           2       1.00      0.87      0.93        15\n",
      "           3       0.96      0.94      0.95        83\n",
      "           4       0.95      0.93      0.94      3439\n",
      "           5       0.98      0.99      0.98     14472\n",
      "           6       1.00      1.00      1.00    319350\n",
      "           7       1.00      1.00      1.00    395883\n",
      "\n",
      "    accuracy                           1.00    733705\n",
      "   macro avg       0.98      0.96      0.97    733705\n",
      "weighted avg       1.00      1.00      1.00    733705\n",
      "\n"
     ]
    }
   ],
   "source": [
    "print(confusion_matrix(y_test['subcategory'],predictions_xgb['subcategory']))\n",
    "print(classification_report(y_test['subcategory'],predictions_xgb['subcategory']))"
   ]
  },
  {
   "cell_type": "code",
   "execution_count": 57,
   "metadata": {},
   "outputs": [
    {
     "data": {
      "text/plain": [
       "0.9999890964352158"
      ]
     },
     "execution_count": 57,
     "metadata": {},
     "output_type": "execute_result"
    }
   ],
   "source": [
    "xgb.xgb_attack.score(X_test,y_test['attack'])"
   ]
  },
  {
   "cell_type": "code",
   "execution_count": 58,
   "metadata": {},
   "outputs": [
    {
     "data": {
      "text/plain": [
       "0.9999209491553145"
      ]
     },
     "execution_count": 58,
     "metadata": {},
     "output_type": "execute_result"
    }
   ],
   "source": [
    "xgb.xgb_category.score(np.concatenate((X_test,np.array(predictions_xgb['attack']).reshape(-1,1)),axis=1),y_test['category'])"
   ]
  },
  {
   "cell_type": "code",
   "execution_count": 59,
   "metadata": {},
   "outputs": [
    {
     "data": {
      "text/plain": [
       "0.9993853115352901"
      ]
     },
     "execution_count": 59,
     "metadata": {},
     "output_type": "execute_result"
    }
   ],
   "source": [
    "xgb.xgb_subcategory.score(np.concatenate((X_test,np.array(predictions_xgb['attack']).reshape(-1,1),\n",
    "                                        np.array(predictions_xgb['category']).reshape(-1,1)),axis=1),y_test['subcategory'])"
   ]
  },
  {
   "cell_type": "markdown",
   "metadata": {},
   "source": [
    "**Multi Layer Perceptron**"
   ]
  },
  {
   "cell_type": "code",
   "execution_count": 60,
   "metadata": {},
   "outputs": [],
   "source": [
    "mlp = MLP(hidden_layer_sizes=(8,8,8), activation='relu', solver='adam', max_iter=500)\n",
    "mlp.fit(X_train,y_train)\n",
    "\n",
    "predictions_mlp = mlp.predict(X_test)"
   ]
  },
  {
   "cell_type": "code",
   "execution_count": 61,
   "metadata": {},
   "outputs": [
    {
     "name": "stdout",
     "output_type": "stream",
     "text": [
      "[[    79      4]\n",
      " [    29 733593]]\n",
      "              precision    recall  f1-score   support\n",
      "\n",
      "           0       0.73      0.95      0.83        83\n",
      "           1       1.00      1.00      1.00    733622\n",
      "\n",
      "    accuracy                           1.00    733705\n",
      "   macro avg       0.87      0.98      0.91    733705\n",
      "weighted avg       1.00      1.00      1.00    733705\n",
      "\n"
     ]
    }
   ],
   "source": [
    "print(confusion_matrix(y_test['attack'],predictions_mlp['attack']))\n",
    "print(classification_report(y_test['attack'],predictions_mlp['attack']))"
   ]
  },
  {
   "cell_type": "code",
   "execution_count": 62,
   "metadata": {},
   "outputs": [
    {
     "name": "stdout",
     "output_type": "stream",
     "text": [
      "[[374055  10644      3    816      0]\n",
      " [ 17280 312790      1    107      0]\n",
      " [    14      7      6     56      0]\n",
      " [   150    283      1  17477      0]\n",
      " [     1     10      0      4      0]]\n",
      "              precision    recall  f1-score   support\n",
      "\n",
      "           0       0.96      0.97      0.96    385518\n",
      "           1       0.97      0.95      0.96    330178\n",
      "           2       0.55      0.07      0.13        83\n",
      "           3       0.95      0.98      0.96     17911\n",
      "           4       0.00      0.00      0.00        15\n",
      "\n",
      "    accuracy                           0.96    733705\n",
      "   macro avg       0.68      0.59      0.60    733705\n",
      "weighted avg       0.96      0.96      0.96    733705\n",
      "\n"
     ]
    }
   ],
   "source": [
    "print(confusion_matrix(y_test['category'],predictions_mlp['category']))\n",
    "print(classification_report(y_test['category'],predictions_mlp['category']))"
   ]
  },
  {
   "cell_type": "code",
   "execution_count": 63,
   "metadata": {},
   "outputs": [
    {
     "name": "stdout",
     "output_type": "stream",
     "text": [
      "[[   289      0      0      0     96     78      0]\n",
      " [     0      0      1      0      3     11      0]\n",
      " [     1      0     11      1     54     15      1]\n",
      " [     2      0      1   1095   2168    172      1]\n",
      " [     5      0      0    291  13919    257      0]\n",
      " [     9      0      0     57    759 318523      2]\n",
      " [     0      0      0      0      1      3 395879]]\n",
      "              precision    recall  f1-score   support\n",
      "\n",
      "           1       0.94      0.62      0.75       463\n",
      "           2       0.00      0.00      0.00        15\n",
      "           3       0.85      0.13      0.23        83\n",
      "           4       0.76      0.32      0.45      3439\n",
      "           5       0.82      0.96      0.88     14472\n",
      "           6       1.00      1.00      1.00    319350\n",
      "           7       1.00      1.00      1.00    395883\n",
      "\n",
      "    accuracy                           0.99    733705\n",
      "   macro avg       0.77      0.58      0.62    733705\n",
      "weighted avg       0.99      0.99      0.99    733705\n",
      "\n"
     ]
    }
   ],
   "source": [
    "print(confusion_matrix(y_test['subcategory'],predictions_mlp['subcategory']))\n",
    "print(classification_report(y_test['subcategory'],predictions_mlp['subcategory']))"
   ]
  },
  {
   "cell_type": "code",
   "execution_count": 64,
   "metadata": {},
   "outputs": [
    {
     "data": {
      "text/plain": [
       "0.9999550227952652"
      ]
     },
     "execution_count": 64,
     "metadata": {},
     "output_type": "execute_result"
    }
   ],
   "source": [
    "mlp.mlp_attack.score(X_test,y_test['attack'])"
   ]
  },
  {
   "cell_type": "code",
   "execution_count": 65,
   "metadata": {},
   "outputs": [
    {
     "data": {
      "text/plain": [
       "0.9599607471667768"
      ]
     },
     "execution_count": 65,
     "metadata": {},
     "output_type": "execute_result"
    }
   ],
   "source": [
    "mlp.mlp_category.score(np.concatenate((X_test,np.array(predictions_mlp['attack']).reshape(-1,1)),axis=1),y_test['category'])"
   ]
  },
  {
   "cell_type": "code",
   "execution_count": 66,
   "metadata": {},
   "outputs": [
    {
     "data": {
      "text/plain": [
       "0.9945632100094725"
      ]
     },
     "execution_count": 66,
     "metadata": {},
     "output_type": "execute_result"
    }
   ],
   "source": [
    "mlp.mlp_subcategory.score(np.concatenate((X_test,np.array(predictions_mlp['attack']).reshape(-1,1),\n",
    "                                        np.array(predictions_mlp['category']).reshape(-1,1)),axis=1),y_test['subcategory'])"
   ]
  },
  {
   "cell_type": "markdown",
   "metadata": {},
   "source": [
    "**Support Vector Machine**"
   ]
  },
  {
   "cell_type": "code",
   "execution_count": null,
   "metadata": {},
   "outputs": [],
   "source": []
  },
  {
   "cell_type": "code",
   "execution_count": 67,
   "metadata": {},
   "outputs": [],
   "source": [
    "svc =  SupportVectorMachine()\n",
    "svc.fit(X_train,y_train)\n",
    "\n",
    "predictions_svc = svc.predict(X_test)"
   ]
  },
  {
   "cell_type": "code",
   "execution_count": 68,
   "metadata": {},
   "outputs": [
    {
     "name": "stdout",
     "output_type": "stream",
     "text": [
      "[[     1     82]\n",
      " [     0 733622]]\n",
      "              precision    recall  f1-score   support\n",
      "\n",
      "           0       1.00      0.01      0.02        83\n",
      "           1       1.00      1.00      1.00    733622\n",
      "\n",
      "    accuracy                           1.00    733705\n",
      "   macro avg       1.00      0.51      0.51    733705\n",
      "weighted avg       1.00      1.00      1.00    733705\n",
      "\n"
     ]
    }
   ],
   "source": [
    "print(confusion_matrix(y_test['attack'],predictions_svc['attack']))\n",
    "print(classification_report(y_test['attack'],predictions_svc['attack']))"
   ]
  },
  {
   "cell_type": "code",
   "execution_count": 69,
   "metadata": {},
   "outputs": [
    {
     "name": "stdout",
     "output_type": "stream",
     "text": [
      "[[335227  50048      0    243      0]\n",
      " [ 58307 271790      0     81      0]\n",
      " [     1     81      1      0      0]\n",
      " [ 10012   2264      1   5634      0]\n",
      " [     0     13      0      2      0]]\n",
      "              precision    recall  f1-score   support\n",
      "\n",
      "           0       0.83      0.87      0.85    385518\n",
      "           1       0.84      0.82      0.83    330178\n",
      "           2       0.50      0.01      0.02        83\n",
      "           3       0.95      0.31      0.47     17911\n",
      "           4       0.00      0.00      0.00        15\n",
      "\n",
      "    accuracy                           0.84    733705\n",
      "   macro avg       0.62      0.40      0.44    733705\n",
      "weighted avg       0.84      0.84      0.83    733705\n",
      "\n"
     ]
    }
   ],
   "source": [
    "print(confusion_matrix(y_test['category'],predictions_svc['category']))\n",
    "print(classification_report(y_test['category'],predictions_svc['category']))"
   ]
  },
  {
   "cell_type": "code",
   "execution_count": 70,
   "metadata": {},
   "outputs": [
    {
     "name": "stdout",
     "output_type": "stream",
     "text": [
      "[[     0      0      0      0     51    412      0]\n",
      " [     0      0      0      0      2     12      1]\n",
      " [     0      0      3      1      0     75      4]\n",
      " [     1      0      0     18    305   3028     87]\n",
      " [     0      0      4     10   5280   7391   1787]\n",
      " [     0      0      4      0    273 315700   3373]\n",
      " [     0      0      0      0      0   8928 386955]]\n",
      "              precision    recall  f1-score   support\n",
      "\n",
      "           1       0.00      0.00      0.00       463\n",
      "           2       0.00      0.00      0.00        15\n",
      "           3       0.27      0.04      0.06        83\n",
      "           4       0.62      0.01      0.01      3439\n",
      "           5       0.89      0.36      0.52     14472\n",
      "           6       0.94      0.99      0.96    319350\n",
      "           7       0.99      0.98      0.98    395883\n",
      "\n",
      "    accuracy                           0.96    733705\n",
      "   macro avg       0.53      0.34      0.36    733705\n",
      "weighted avg       0.96      0.96      0.96    733705\n",
      "\n"
     ]
    }
   ],
   "source": [
    "print(confusion_matrix(y_test['subcategory'],predictions_svc['subcategory']))\n",
    "print(classification_report(y_test['subcategory'],predictions_svc['subcategory']))"
   ]
  },
  {
   "cell_type": "code",
   "execution_count": 71,
   "metadata": {},
   "outputs": [
    {
     "data": {
      "text/plain": [
       "0.9998882384609619"
      ]
     },
     "execution_count": 71,
     "metadata": {},
     "output_type": "execute_result"
    }
   ],
   "source": [
    "svc.svc_attack.score(X_test,y_test['attack'])"
   ]
  },
  {
   "cell_type": "code",
   "execution_count": 72,
   "metadata": {},
   "outputs": [
    {
     "data": {
      "text/plain": [
       "0.8350113465221036"
      ]
     },
     "execution_count": 72,
     "metadata": {},
     "output_type": "execute_result"
    }
   ],
   "source": [
    "svc.svc_category.score(np.concatenate((X_test,np.array(predictions_svc['attack']).reshape(-1,1)),axis=1),y_test['category'])"
   ]
  },
  {
   "cell_type": "code",
   "execution_count": 73,
   "metadata": {},
   "outputs": [
    {
     "data": {
      "text/plain": [
       "0.9649055137964169"
      ]
     },
     "execution_count": 73,
     "metadata": {},
     "output_type": "execute_result"
    }
   ],
   "source": [
    "svc.svc_subcategory.score(np.concatenate((X_test,np.array(predictions_svc['attack']).reshape(-1,1),\n",
    "                                        np.array(predictions_svc['category']).reshape(-1,1)),axis=1),y_test['subcategory'])"
   ]
  },
  {
   "cell_type": "markdown",
   "metadata": {},
   "source": [
    "**Logistic Regression**"
   ]
  },
  {
   "cell_type": "code",
   "execution_count": 74,
   "metadata": {},
   "outputs": [],
   "source": [
    "lr =  Logistic_Regression()\n",
    "lr.fit(X_train,y_train)\n",
    "\n",
    "predictions_lr = lr.predict(X_test)"
   ]
  },
  {
   "cell_type": "code",
   "execution_count": 75,
   "metadata": {},
   "outputs": [
    {
     "name": "stdout",
     "output_type": "stream",
     "text": [
      "[[     1     82]\n",
      " [     7 733615]]\n",
      "              precision    recall  f1-score   support\n",
      "\n",
      "           0       0.12      0.01      0.02        83\n",
      "           1       1.00      1.00      1.00    733622\n",
      "\n",
      "    accuracy                           1.00    733705\n",
      "   macro avg       0.56      0.51      0.51    733705\n",
      "weighted avg       1.00      1.00      1.00    733705\n",
      "\n"
     ]
    }
   ],
   "source": [
    "print(confusion_matrix(y_test['attack'],predictions_lr['attack']))\n",
    "print(classification_report(y_test['attack'],predictions_lr['attack']))\n",
    "\n"
   ]
  },
  {
   "cell_type": "code",
   "execution_count": 76,
   "metadata": {},
   "outputs": [
    {
     "name": "stdout",
     "output_type": "stream",
     "text": [
      "[[340660  43373      1   1484      0]\n",
      " [ 50468 274826      0   4884      0]\n",
      " [     0     32      4     47      0]\n",
      " [  4931   2088      9  10883      0]\n",
      " [     0     11      0      4      0]]\n",
      "              precision    recall  f1-score   support\n",
      "\n",
      "           0       0.86      0.88      0.87    385518\n",
      "           1       0.86      0.83      0.84    330178\n",
      "           2       0.29      0.05      0.08        83\n",
      "           3       0.63      0.61      0.62     17911\n",
      "           4       0.00      0.00      0.00        15\n",
      "\n",
      "    accuracy                           0.85    733705\n",
      "   macro avg       0.53      0.47      0.48    733705\n",
      "weighted avg       0.85      0.85      0.85    733705\n",
      "\n"
     ]
    }
   ],
   "source": [
    "print(confusion_matrix(y_test['category'],predictions_lr['category']))\n",
    "print(classification_report(y_test['category'],predictions_lr['category']))\n",
    "\n"
   ]
  },
  {
   "cell_type": "code",
   "execution_count": 77,
   "metadata": {},
   "outputs": [
    {
     "name": "stdout",
     "output_type": "stream",
     "text": [
      "[[    20      0      0      0    195    248      0]\n",
      " [     0      0      0      0      4     10      1]\n",
      " [     0      0      1      0     50     31      1]\n",
      " [     0      0      3      3   1790   1588     55]\n",
      " [     0      0     11      5   9087   3586   1783]\n",
      " [     2      0      1      0   6172 311037   2138]\n",
      " [     0      0      0      0      1    901 394981]]\n",
      "              precision    recall  f1-score   support\n",
      "\n",
      "           1       0.91      0.04      0.08       463\n",
      "           2       0.00      0.00      0.00        15\n",
      "           3       0.06      0.01      0.02        83\n",
      "           4       0.38      0.00      0.00      3439\n",
      "           5       0.53      0.63      0.57     14472\n",
      "           6       0.98      0.97      0.98    319350\n",
      "           7       0.99      1.00      0.99    395883\n",
      "\n",
      "    accuracy                           0.97    733705\n",
      "   macro avg       0.55      0.38      0.38    733705\n",
      "weighted avg       0.97      0.97      0.97    733705\n",
      "\n"
     ]
    }
   ],
   "source": [
    "print(confusion_matrix(y_test['subcategory'],predictions_lr['subcategory']))\n",
    "print(classification_report(y_test['subcategory'],predictions_lr['subcategory']))\n",
    "\n"
   ]
  },
  {
   "cell_type": "code",
   "execution_count": 78,
   "metadata": {},
   "outputs": [
    {
     "data": {
      "text/plain": [
       "0.9998786978417756"
      ]
     },
     "execution_count": 78,
     "metadata": {},
     "output_type": "execute_result"
    }
   ],
   "source": [
    "lr.lr_attack.score(X_test,y_test['attack'])\n",
    "\n"
   ]
  },
  {
   "cell_type": "code",
   "execution_count": 79,
   "metadata": {},
   "outputs": [
    {
     "data": {
      "text/plain": [
       "0.8537123230726246"
      ]
     },
     "execution_count": 79,
     "metadata": {},
     "output_type": "execute_result"
    }
   ],
   "source": [
    "lr.lr_category.score(np.concatenate((X_test,np.array(predictions_lr['attack']).reshape(-1,1)),axis=1),y_test['category'])\n"
   ]
  },
  {
   "cell_type": "code",
   "execution_count": 80,
   "metadata": {},
   "outputs": [
    {
     "data": {
      "text/plain": [
       "0.9746819225710606"
      ]
     },
     "execution_count": 80,
     "metadata": {},
     "output_type": "execute_result"
    }
   ],
   "source": [
    "\n",
    "lr.lr_subcategory.score(np.concatenate((X_test,np.array(predictions_lr['attack']).reshape(-1,1),\n",
    "                                        np.array(predictions_lr['category']).reshape(-1,1)),axis=1),y_test['subcategory'])"
   ]
  },
  {
   "cell_type": "markdown",
   "metadata": {},
   "source": [
    "### Test Data"
   ]
  },
  {
   "cell_type": "code",
   "execution_count": 81,
   "metadata": {},
   "outputs": [
    {
     "data": {
      "text/html": [
       "<div>\n",
       "<style scoped>\n",
       "    .dataframe tbody tr th:only-of-type {\n",
       "        vertical-align: middle;\n",
       "    }\n",
       "\n",
       "    .dataframe tbody tr th {\n",
       "        vertical-align: top;\n",
       "    }\n",
       "\n",
       "    .dataframe thead th {\n",
       "        text-align: right;\n",
       "    }\n",
       "</style>\n",
       "<table border=\"1\" class=\"dataframe\">\n",
       "  <thead>\n",
       "    <tr style=\"text-align: right;\">\n",
       "      <th></th>\n",
       "      <th>pkSeqID</th>\n",
       "      <th>proto</th>\n",
       "      <th>saddr</th>\n",
       "      <th>sport</th>\n",
       "      <th>daddr</th>\n",
       "      <th>dport</th>\n",
       "      <th>seq</th>\n",
       "      <th>stddev</th>\n",
       "      <th>N_IN_Conn_P_SrcIP</th>\n",
       "      <th>min</th>\n",
       "      <th>state_number</th>\n",
       "      <th>mean</th>\n",
       "      <th>N_IN_Conn_P_DstIP</th>\n",
       "      <th>drate</th>\n",
       "      <th>srate</th>\n",
       "      <th>max</th>\n",
       "      <th>attack</th>\n",
       "      <th>category</th>\n",
       "      <th>subcategory</th>\n",
       "    </tr>\n",
       "  </thead>\n",
       "  <tbody>\n",
       "    <tr>\n",
       "      <th>0</th>\n",
       "      <td>792371</td>\n",
       "      <td>udp</td>\n",
       "      <td>192.168.100.150</td>\n",
       "      <td>48516</td>\n",
       "      <td>192.168.100.3</td>\n",
       "      <td>80</td>\n",
       "      <td>175094</td>\n",
       "      <td>0.226784</td>\n",
       "      <td>100</td>\n",
       "      <td>4.100436</td>\n",
       "      <td>4</td>\n",
       "      <td>4.457383</td>\n",
       "      <td>100</td>\n",
       "      <td>0.000000</td>\n",
       "      <td>0.404711</td>\n",
       "      <td>4.719438</td>\n",
       "      <td>1</td>\n",
       "      <td>DoS</td>\n",
       "      <td>UDP</td>\n",
       "    </tr>\n",
       "    <tr>\n",
       "      <th>1</th>\n",
       "      <td>2056418</td>\n",
       "      <td>tcp</td>\n",
       "      <td>192.168.100.148</td>\n",
       "      <td>22267</td>\n",
       "      <td>192.168.100.3</td>\n",
       "      <td>80</td>\n",
       "      <td>143024</td>\n",
       "      <td>0.451998</td>\n",
       "      <td>100</td>\n",
       "      <td>3.439257</td>\n",
       "      <td>1</td>\n",
       "      <td>3.806172</td>\n",
       "      <td>100</td>\n",
       "      <td>0.225077</td>\n",
       "      <td>0.401397</td>\n",
       "      <td>4.442930</td>\n",
       "      <td>1</td>\n",
       "      <td>DDoS</td>\n",
       "      <td>TCP</td>\n",
       "    </tr>\n",
       "    <tr>\n",
       "      <th>2</th>\n",
       "      <td>2795650</td>\n",
       "      <td>udp</td>\n",
       "      <td>192.168.100.149</td>\n",
       "      <td>28629</td>\n",
       "      <td>192.168.100.3</td>\n",
       "      <td>80</td>\n",
       "      <td>167033</td>\n",
       "      <td>1.931553</td>\n",
       "      <td>73</td>\n",
       "      <td>0.000000</td>\n",
       "      <td>4</td>\n",
       "      <td>2.731204</td>\n",
       "      <td>100</td>\n",
       "      <td>0.000000</td>\n",
       "      <td>0.407287</td>\n",
       "      <td>4.138455</td>\n",
       "      <td>1</td>\n",
       "      <td>DDoS</td>\n",
       "      <td>UDP</td>\n",
       "    </tr>\n",
       "    <tr>\n",
       "      <th>3</th>\n",
       "      <td>2118009</td>\n",
       "      <td>tcp</td>\n",
       "      <td>192.168.100.148</td>\n",
       "      <td>42142</td>\n",
       "      <td>192.168.100.3</td>\n",
       "      <td>80</td>\n",
       "      <td>204615</td>\n",
       "      <td>0.428798</td>\n",
       "      <td>56</td>\n",
       "      <td>3.271411</td>\n",
       "      <td>1</td>\n",
       "      <td>3.626428</td>\n",
       "      <td>100</td>\n",
       "      <td>0.000000</td>\n",
       "      <td>0.343654</td>\n",
       "      <td>4.229700</td>\n",
       "      <td>1</td>\n",
       "      <td>DDoS</td>\n",
       "      <td>TCP</td>\n",
       "    </tr>\n",
       "    <tr>\n",
       "      <th>4</th>\n",
       "      <td>303688</td>\n",
       "      <td>tcp</td>\n",
       "      <td>192.168.100.149</td>\n",
       "      <td>1645</td>\n",
       "      <td>192.168.100.5</td>\n",
       "      <td>80</td>\n",
       "      <td>40058</td>\n",
       "      <td>2.058381</td>\n",
       "      <td>100</td>\n",
       "      <td>0.000000</td>\n",
       "      <td>3</td>\n",
       "      <td>1.188407</td>\n",
       "      <td>100</td>\n",
       "      <td>0.000000</td>\n",
       "      <td>0.135842</td>\n",
       "      <td>4.753628</td>\n",
       "      <td>1</td>\n",
       "      <td>DoS</td>\n",
       "      <td>TCP</td>\n",
       "    </tr>\n",
       "  </tbody>\n",
       "</table>\n",
       "</div>"
      ],
      "text/plain": [
       "   pkSeqID proto            saddr  sport          daddr dport     seq  \\\n",
       "0   792371   udp  192.168.100.150  48516  192.168.100.3    80  175094   \n",
       "1  2056418   tcp  192.168.100.148  22267  192.168.100.3    80  143024   \n",
       "2  2795650   udp  192.168.100.149  28629  192.168.100.3    80  167033   \n",
       "3  2118009   tcp  192.168.100.148  42142  192.168.100.3    80  204615   \n",
       "4   303688   tcp  192.168.100.149   1645  192.168.100.5    80   40058   \n",
       "\n",
       "     stddev  N_IN_Conn_P_SrcIP       min  state_number      mean  \\\n",
       "0  0.226784                100  4.100436             4  4.457383   \n",
       "1  0.451998                100  3.439257             1  3.806172   \n",
       "2  1.931553                 73  0.000000             4  2.731204   \n",
       "3  0.428798                 56  3.271411             1  3.626428   \n",
       "4  2.058381                100  0.000000             3  1.188407   \n",
       "\n",
       "   N_IN_Conn_P_DstIP     drate     srate       max  attack category  \\\n",
       "0                100  0.000000  0.404711  4.719438       1      DoS   \n",
       "1                100  0.225077  0.401397  4.442930       1     DDoS   \n",
       "2                100  0.000000  0.407287  4.138455       1     DDoS   \n",
       "3                100  0.000000  0.343654  4.229700       1     DDoS   \n",
       "4                100  0.000000  0.135842  4.753628       1      DoS   \n",
       "\n",
       "  subcategory  \n",
       "0         UDP  \n",
       "1         TCP  \n",
       "2         UDP  \n",
       "3         TCP  \n",
       "4         TCP  "
      ]
     },
     "execution_count": 81,
     "metadata": {},
     "output_type": "execute_result"
    }
   ],
   "source": [
    "test_data = pd.read_csv(\"UNSW_2018_IoT_Botnet_Final_10_best_Testing.csv\")\n",
    "test_data.head()"
   ]
  },
  {
   "cell_type": "code",
   "execution_count": 82,
   "metadata": {},
   "outputs": [
    {
     "data": {
      "text/html": [
       "<div>\n",
       "<style scoped>\n",
       "    .dataframe tbody tr th:only-of-type {\n",
       "        vertical-align: middle;\n",
       "    }\n",
       "\n",
       "    .dataframe tbody tr th {\n",
       "        vertical-align: top;\n",
       "    }\n",
       "\n",
       "    .dataframe thead th {\n",
       "        text-align: right;\n",
       "    }\n",
       "</style>\n",
       "<table border=\"1\" class=\"dataframe\">\n",
       "  <thead>\n",
       "    <tr style=\"text-align: right;\">\n",
       "      <th></th>\n",
       "      <th>seq</th>\n",
       "      <th>stddev</th>\n",
       "      <th>N_IN_Conn_P_SrcIP</th>\n",
       "      <th>min</th>\n",
       "      <th>state_number</th>\n",
       "      <th>mean</th>\n",
       "      <th>N_IN_Conn_P_DstIP</th>\n",
       "      <th>drate</th>\n",
       "      <th>srate</th>\n",
       "      <th>max</th>\n",
       "    </tr>\n",
       "  </thead>\n",
       "  <tbody>\n",
       "    <tr>\n",
       "      <th>0</th>\n",
       "      <td>175094</td>\n",
       "      <td>0.226784</td>\n",
       "      <td>100</td>\n",
       "      <td>4.100436</td>\n",
       "      <td>4</td>\n",
       "      <td>4.457383</td>\n",
       "      <td>100</td>\n",
       "      <td>0.000000</td>\n",
       "      <td>0.404711</td>\n",
       "      <td>4.719438</td>\n",
       "    </tr>\n",
       "    <tr>\n",
       "      <th>1</th>\n",
       "      <td>143024</td>\n",
       "      <td>0.451998</td>\n",
       "      <td>100</td>\n",
       "      <td>3.439257</td>\n",
       "      <td>1</td>\n",
       "      <td>3.806172</td>\n",
       "      <td>100</td>\n",
       "      <td>0.225077</td>\n",
       "      <td>0.401397</td>\n",
       "      <td>4.442930</td>\n",
       "    </tr>\n",
       "    <tr>\n",
       "      <th>2</th>\n",
       "      <td>167033</td>\n",
       "      <td>1.931553</td>\n",
       "      <td>73</td>\n",
       "      <td>0.000000</td>\n",
       "      <td>4</td>\n",
       "      <td>2.731204</td>\n",
       "      <td>100</td>\n",
       "      <td>0.000000</td>\n",
       "      <td>0.407287</td>\n",
       "      <td>4.138455</td>\n",
       "    </tr>\n",
       "    <tr>\n",
       "      <th>3</th>\n",
       "      <td>204615</td>\n",
       "      <td>0.428798</td>\n",
       "      <td>56</td>\n",
       "      <td>3.271411</td>\n",
       "      <td>1</td>\n",
       "      <td>3.626428</td>\n",
       "      <td>100</td>\n",
       "      <td>0.000000</td>\n",
       "      <td>0.343654</td>\n",
       "      <td>4.229700</td>\n",
       "    </tr>\n",
       "    <tr>\n",
       "      <th>4</th>\n",
       "      <td>40058</td>\n",
       "      <td>2.058381</td>\n",
       "      <td>100</td>\n",
       "      <td>0.000000</td>\n",
       "      <td>3</td>\n",
       "      <td>1.188407</td>\n",
       "      <td>100</td>\n",
       "      <td>0.000000</td>\n",
       "      <td>0.135842</td>\n",
       "      <td>4.753628</td>\n",
       "    </tr>\n",
       "  </tbody>\n",
       "</table>\n",
       "</div>"
      ],
      "text/plain": [
       "      seq    stddev  N_IN_Conn_P_SrcIP       min  state_number      mean  \\\n",
       "0  175094  0.226784                100  4.100436             4  4.457383   \n",
       "1  143024  0.451998                100  3.439257             1  3.806172   \n",
       "2  167033  1.931553                 73  0.000000             4  2.731204   \n",
       "3  204615  0.428798                 56  3.271411             1  3.626428   \n",
       "4   40058  2.058381                100  0.000000             3  1.188407   \n",
       "\n",
       "   N_IN_Conn_P_DstIP     drate     srate       max  \n",
       "0                100  0.000000  0.404711  4.719438  \n",
       "1                100  0.225077  0.401397  4.442930  \n",
       "2                100  0.000000  0.407287  4.138455  \n",
       "3                100  0.000000  0.343654  4.229700  \n",
       "4                100  0.000000  0.135842  4.753628  "
      ]
     },
     "execution_count": 82,
     "metadata": {},
     "output_type": "execute_result"
    }
   ],
   "source": [
    "# Extracting the ten-best features from test set\n",
    "test_ten_best = test_data[ten_best_features.columns]\n",
    "test_labels = test_data[['attack','category','subcategory']]\n",
    "test_ten_best.head()"
   ]
  },
  {
   "cell_type": "markdown",
   "metadata": {},
   "source": [
    "**Using complete training data and test data**"
   ]
  },
  {
   "cell_type": "code",
   "execution_count": 83,
   "metadata": {},
   "outputs": [],
   "source": [
    "# Standard Scaling\n",
    "train_data = sc.fit_transform(ten_best_features)\n",
    "test = sc.transform(test_ten_best)"
   ]
  },
  {
   "cell_type": "code",
   "execution_count": 84,
   "metadata": {},
   "outputs": [],
   "source": [
    "ten_best_features = data[['seq','stddev','N_IN_Conn_P_SrcIP', 'min', 'state_number', 'mean', 'N_IN_Conn_P_DstIP',\n",
    "       'drate', 'srate', 'max']]\n",
    "target_features = data[['attack','category','subcategory']]"
   ]
  },
  {
   "cell_type": "code",
   "execution_count": 85,
   "metadata": {},
   "outputs": [],
   "source": [
    "# Label Encoding\n",
    "\n",
    "target_features['category'] = le.fit_transform(target_features['category'])\n",
    "test_labels['category'] = le.transform(test_labels['category'])\n",
    "\n",
    "target_features['subcategory'] = le.fit_transform(target_features['subcategory'])\n",
    "test_labels['subcategory'] = le.transform(test_labels['subcategory'])"
   ]
  },
  {
   "cell_type": "markdown",
   "metadata": {},
   "source": [
    "### Training ML Models on Complete Data and Testing on test set"
   ]
  },
  {
   "cell_type": "markdown",
   "metadata": {},
   "source": [
    "**Random Forest**"
   ]
  },
  {
   "cell_type": "code",
   "execution_count": 86,
   "metadata": {},
   "outputs": [],
   "source": [
    "rf_clf = RandomForest(max_depth=5)\n",
    "rf_clf.fit(train_data,target_features)\n",
    "predictions_rf = rf_clf.predict(test)"
   ]
  },
  {
   "cell_type": "code",
   "execution_count": 87,
   "metadata": {},
   "outputs": [
    {
     "name": "stdout",
     "output_type": "stream",
     "text": [
      "Random Forest: Attack\n",
      "\n",
      "[[    38     69]\n",
      " [     0 733598]] \n",
      "\n",
      "              precision    recall  f1-score   support\n",
      "\n",
      "           0       1.00      0.36      0.52       107\n",
      "           1       1.00      1.00      1.00    733598\n",
      "\n",
      "    accuracy                           1.00    733705\n",
      "   macro avg       1.00      0.68      0.76    733705\n",
      "weighted avg       1.00      1.00      1.00    733705\n",
      "\n"
     ]
    }
   ],
   "source": [
    "print(\"Random Forest: Attack\\n\")\n",
    "print(confusion_matrix(test_labels['attack'],predictions_rf['attack']),\"\\n\")\n",
    "print(classification_report(test_labels['attack'],predictions_rf['attack']))"
   ]
  },
  {
   "cell_type": "code",
   "execution_count": 88,
   "metadata": {},
   "outputs": [
    {
     "name": "stdout",
     "output_type": "stream",
     "text": [
      "Random Forest: Category\n",
      "\n",
      "[[374390  10917      0      2      0]\n",
      " [  7027 323084      0      1      0]\n",
      " [     0     23     28     56      0]\n",
      " [   496     31      0  17636      0]\n",
      " [     0      5      0      9      0]]\n",
      "              precision    recall  f1-score   support\n",
      "\n",
      "           0       0.98      0.97      0.98    385309\n",
      "           1       0.97      0.98      0.97    330112\n",
      "           2       1.00      0.26      0.41       107\n",
      "           3       1.00      0.97      0.98     18163\n",
      "           4       0.00      0.00      0.00        14\n",
      "\n",
      "    accuracy                           0.97    733705\n",
      "   macro avg       0.79      0.64      0.67    733705\n",
      "weighted avg       0.97      0.97      0.97    733705\n",
      "\n"
     ]
    }
   ],
   "source": [
    "print(\"Random Forest: Category\\n\")\n",
    "print(confusion_matrix(test_labels['category'],predictions_rf['category']))\n",
    "print(classification_report(test_labels['category'],predictions_rf['category']))"
   ]
  },
  {
   "cell_type": "code",
   "execution_count": 89,
   "metadata": {},
   "outputs": [
    {
     "name": "stdout",
     "output_type": "stream",
     "text": [
      "Random Forest: Subcategory\n",
      "\n",
      "[[    78      0      0      0      2    424      0]\n",
      " [     0      0      0      0      9      4      1]\n",
      " [     1      0      5      0     79     20      2]\n",
      " [     0      0      0     38   3449    134      0]\n",
      " [     1      0      0      0  14149    392      0]\n",
      " [     0      0      0      0      1 318190    146]\n",
      " [     0      0      0      0      0     12 396568]]\n",
      "              precision    recall  f1-score   support\n",
      "\n",
      "           1       0.97      0.15      0.27       504\n",
      "           2       0.00      0.00      0.00        14\n",
      "           3       1.00      0.05      0.09       107\n",
      "           4       1.00      0.01      0.02      3621\n",
      "           5       0.80      0.97      0.88     14542\n",
      "           6       1.00      1.00      1.00    318337\n",
      "           7       1.00      1.00      1.00    396580\n",
      "\n",
      "    accuracy                           0.99    733705\n",
      "   macro avg       0.82      0.45      0.46    733705\n",
      "weighted avg       0.99      0.99      0.99    733705\n",
      "\n"
     ]
    }
   ],
   "source": [
    "print(\"Random Forest: Subcategory\\n\")\n",
    "print(confusion_matrix(test_labels['subcategory'],predictions_rf['subcategory']))\n",
    "print(classification_report(test_labels['subcategory'],predictions_rf['subcategory']))"
   ]
  },
  {
   "cell_type": "markdown",
   "metadata": {},
   "source": [
    "**Naive Bayes**"
   ]
  },
  {
   "cell_type": "code",
   "execution_count": 90,
   "metadata": {},
   "outputs": [],
   "source": [
    "nb_clf = NaiveBayes()\n",
    "nb_clf.fit(train_data,target_features)\n",
    "predictions_nb = nb_clf.predict(test)"
   ]
  },
  {
   "cell_type": "code",
   "execution_count": 91,
   "metadata": {},
   "outputs": [
    {
     "name": "stdout",
     "output_type": "stream",
     "text": [
      "Naive Bayes: Attack\n",
      "\n",
      "[[    96     11]\n",
      " [  2775 730823]]\n",
      "              precision    recall  f1-score   support\n",
      "\n",
      "           0       0.03      0.90      0.06       107\n",
      "           1       1.00      1.00      1.00    733598\n",
      "\n",
      "    accuracy                           1.00    733705\n",
      "   macro avg       0.52      0.95      0.53    733705\n",
      "weighted avg       1.00      1.00      1.00    733705\n",
      "\n"
     ]
    }
   ],
   "source": [
    "print(\"Naive Bayes: Attack\\n\")\n",
    "print(confusion_matrix(test_labels['attack'],predictions_nb['attack']))\n",
    "print(classification_report(test_labels['attack'],predictions_nb['attack']))"
   ]
  },
  {
   "cell_type": "code",
   "execution_count": 92,
   "metadata": {},
   "outputs": [
    {
     "name": "stdout",
     "output_type": "stream",
     "text": [
      "Naive Bayes: Category\n",
      "\n",
      "[[368894  16264     31    120      0]\n",
      " [182703 146381    699    329      0]\n",
      " [     0      9     96      2      0]\n",
      " [ 10751   1630   2040   3742      0]\n",
      " [     0      1      5      0      8]] \n",
      "\n",
      "              precision    recall  f1-score   support\n",
      "\n",
      "           0       0.66      0.96      0.78    385309\n",
      "           1       0.89      0.44      0.59    330112\n",
      "           2       0.03      0.90      0.06       107\n",
      "           3       0.89      0.21      0.33     18163\n",
      "           4       1.00      0.57      0.73        14\n",
      "\n",
      "    accuracy                           0.71    733705\n",
      "   macro avg       0.69      0.62      0.50    733705\n",
      "weighted avg       0.77      0.71      0.68    733705\n",
      "\n"
     ]
    }
   ],
   "source": [
    "print(\"Naive Bayes: Category\\n\")\n",
    "print(confusion_matrix(test_labels['category'],predictions_nb['category']),\"\\n\")\n",
    "print(classification_report(test_labels['category'],predictions_nb['category']))"
   ]
  },
  {
   "cell_type": "code",
   "execution_count": 93,
   "metadata": {},
   "outputs": [
    {
     "name": "stdout",
     "output_type": "stream",
     "text": [
      "Naive Bayes: Subcategory\n",
      "\n",
      "[[     0      0      0      0      0      0      0      0]\n",
      " [     0    337      0      7      0    146     14      0]\n",
      " [     1      0      7      5      0      0      1      0]\n",
      " [     0      0      0     96      1      1      9      0]\n",
      " [     0    199      0    128      0    151   3143      0]\n",
      " [     0    578      0   1912    612   2979   8461      0]\n",
      " [     0    815      0    715      5    296 316506      0]\n",
      " [     0      0      0      8      2      0     23 396547]]\n",
      "              precision    recall  f1-score   support\n",
      "\n",
      "           0       0.00      0.00      0.00         0\n",
      "           1       0.17      0.67      0.28       504\n",
      "           2       1.00      0.50      0.67        14\n",
      "           3       0.03      0.90      0.06       107\n",
      "           4       0.00      0.00      0.00      3621\n",
      "           5       0.83      0.20      0.33     14542\n",
      "           6       0.96      0.99      0.98    318337\n",
      "           7       1.00      1.00      1.00    396580\n",
      "\n",
      "    accuracy                           0.98    733705\n",
      "   macro avg       0.50      0.53      0.41    733705\n",
      "weighted avg       0.98      0.98      0.97    733705\n",
      "\n"
     ]
    }
   ],
   "source": [
    "print(\"Naive Bayes: Subcategory\\n\")\n",
    "print(confusion_matrix(test_labels['subcategory'],predictions_nb['subcategory']))\n",
    "print(classification_report(test_labels['subcategory'],predictions_nb['subcategory']))"
   ]
  },
  {
   "cell_type": "markdown",
   "metadata": {},
   "source": [
    "**Decision Tree (Information Gain)**"
   ]
  },
  {
   "cell_type": "code",
   "execution_count": 94,
   "metadata": {},
   "outputs": [],
   "source": [
    "dtree_ig_clf = DecisionTree('entropy')\n",
    "dtree_ig_clf.fit(train_data,target_features)\n",
    "predictions_ig = dtree_ig_clf.predict(test)"
   ]
  },
  {
   "cell_type": "code",
   "execution_count": 95,
   "metadata": {},
   "outputs": [
    {
     "name": "stdout",
     "output_type": "stream",
     "text": [
      "Decision Tree (Information Gain): Attack\n",
      "\n",
      "[[    40     67]\n",
      " [     2 733596]] \n",
      "\n",
      "              precision    recall  f1-score   support\n",
      "\n",
      "           0       0.95      0.37      0.54       107\n",
      "           1       1.00      1.00      1.00    733598\n",
      "\n",
      "    accuracy                           1.00    733705\n",
      "   macro avg       0.98      0.69      0.77    733705\n",
      "weighted avg       1.00      1.00      1.00    733705\n",
      "\n"
     ]
    }
   ],
   "source": [
    "print(\"Decision Tree (Information Gain): Attack\\n\")\n",
    "print(confusion_matrix(test_labels['attack'],predictions_ig['attack']),\"\\n\")\n",
    "print(classification_report(test_labels['attack'],predictions_ig['attack']))"
   ]
  },
  {
   "cell_type": "code",
   "execution_count": 96,
   "metadata": {},
   "outputs": [
    {
     "name": "stdout",
     "output_type": "stream",
     "text": [
      "Decision Tree (Information Gain): Category\n",
      "\n",
      "[[339497  45290      0    522      0]\n",
      " [ 11703 318367      0     42      0]\n",
      " [     9     15     33     50      0]\n",
      " [   351   7450      2  10360      0]\n",
      " [     0      0      0     14      0]]\n",
      "              precision    recall  f1-score   support\n",
      "\n",
      "           0       0.97      0.88      0.92    385309\n",
      "           1       0.86      0.96      0.91    330112\n",
      "           2       0.94      0.31      0.46       107\n",
      "           3       0.94      0.57      0.71     18163\n",
      "           4       0.00      0.00      0.00        14\n",
      "\n",
      "    accuracy                           0.91    733705\n",
      "   macro avg       0.74      0.54      0.60    733705\n",
      "weighted avg       0.92      0.91      0.91    733705\n",
      "\n"
     ]
    }
   ],
   "source": [
    "print(\"Decision Tree (Information Gain): Category\\n\")\n",
    "print(confusion_matrix(test_labels['category'],predictions_ig['category']))\n",
    "print(classification_report(test_labels['category'],predictions_ig['category']))"
   ]
  },
  {
   "cell_type": "code",
   "execution_count": 97,
   "metadata": {},
   "outputs": [
    {
     "name": "stdout",
     "output_type": "stream",
     "text": [
      "Decision Tree (Information Gain): Subcategory\n",
      "\n",
      "[[   384      0      0      0     87     33      0]\n",
      " [     0      5      0      0      9      0      0]\n",
      " [     0      0     36      4     44      9     14]\n",
      " [     0      0      2    942    574   2089     14]\n",
      " [    27      0      0    222   8623   5654     16]\n",
      " [    23      0      0      0    453 317861      0]\n",
      " [     0      0      0      0      0      8 396572]] \n",
      "\n",
      "              precision    recall  f1-score   support\n",
      "\n",
      "           1       0.88      0.76      0.82       504\n",
      "           2       1.00      0.36      0.53        14\n",
      "           3       0.95      0.34      0.50       107\n",
      "           4       0.81      0.26      0.39      3621\n",
      "           5       0.88      0.59      0.71     14542\n",
      "           6       0.98      1.00      0.99    318337\n",
      "           7       1.00      1.00      1.00    396580\n",
      "\n",
      "    accuracy                           0.99    733705\n",
      "   macro avg       0.93      0.62      0.70    733705\n",
      "weighted avg       0.99      0.99      0.99    733705\n",
      "\n"
     ]
    }
   ],
   "source": [
    "print(\"Decision Tree (Information Gain): Subcategory\\n\")\n",
    "print(confusion_matrix(test_labels['subcategory'],predictions_ig['subcategory']),\"\\n\")\n",
    "print(classification_report(test_labels['subcategory'],predictions_ig['subcategory']))"
   ]
  },
  {
   "cell_type": "markdown",
   "metadata": {},
   "source": [
    "**Decision Tree (Gini Index)**"
   ]
  },
  {
   "cell_type": "code",
   "execution_count": 98,
   "metadata": {},
   "outputs": [],
   "source": [
    "dtree_gi_clf = DecisionTree('gini')\n",
    "dtree_gi_clf.fit(train_data,target_features)\n",
    "predictions_gi = dtree_gi_clf.predict(test)"
   ]
  },
  {
   "cell_type": "code",
   "execution_count": 99,
   "metadata": {},
   "outputs": [
    {
     "name": "stdout",
     "output_type": "stream",
     "text": [
      "Decision Tree (Gini Index): Attack\n",
      "\n",
      "[[    39     68]\n",
      " [     3 733595]] \n",
      "\n",
      "              precision    recall  f1-score   support\n",
      "\n",
      "           0       0.93      0.36      0.52       107\n",
      "           1       1.00      1.00      1.00    733598\n",
      "\n",
      "    accuracy                           1.00    733705\n",
      "   macro avg       0.96      0.68      0.76    733705\n",
      "weighted avg       1.00      1.00      1.00    733705\n",
      "\n"
     ]
    }
   ],
   "source": [
    "print(\"Decision Tree (Gini Index): Attack\\n\")\n",
    "print(confusion_matrix(test_labels['attack'],predictions_gi['attack']),\"\\n\")\n",
    "print(classification_report(test_labels['attack'],predictions_gi['attack']))"
   ]
  },
  {
   "cell_type": "code",
   "execution_count": 100,
   "metadata": {},
   "outputs": [
    {
     "name": "stdout",
     "output_type": "stream",
     "text": [
      "Decision Tree (Gini Index): Category\n",
      "\n",
      "[[338396  46453      0    460      0]\n",
      " [  8631 321472      1      8      0]\n",
      " [     0     18     33     56      0]\n",
      " [    68   7383      2  10710      0]\n",
      " [     0      5      0      9      0]]\n",
      "              precision    recall  f1-score   support\n",
      "\n",
      "           0       0.97      0.88      0.92    385309\n",
      "           1       0.86      0.97      0.91    330112\n",
      "           2       0.92      0.31      0.46       107\n",
      "           3       0.95      0.59      0.73     18163\n",
      "           4       0.00      0.00      0.00        14\n",
      "\n",
      "    accuracy                           0.91    733705\n",
      "   macro avg       0.74      0.55      0.61    733705\n",
      "weighted avg       0.92      0.91      0.91    733705\n",
      "\n"
     ]
    }
   ],
   "source": [
    "print(\"Decision Tree (Gini Index): Category\\n\")\n",
    "print(confusion_matrix(test_labels['category'],predictions_gi['category']))\n",
    "print(classification_report(test_labels['category'],predictions_gi['category']))"
   ]
  },
  {
   "cell_type": "code",
   "execution_count": 101,
   "metadata": {},
   "outputs": [
    {
     "name": "stdout",
     "output_type": "stream",
     "text": [
      "Decision Tree (Gini Index): Subcategory\n",
      "\n",
      "[[   416      0      0      0     10     78      0]\n",
      " [     0      0      0      0      9      5      0]\n",
      " [    13      0      5      5     82      2      0]\n",
      " [    14      0      1    859    710   2037      0]\n",
      " [    11      2      0     71   9069   5388      1]\n",
      " [    63      0      0      0    459 317814      1]\n",
      " [     0      0      0      0      0      9 396571]] \n",
      "\n",
      "              precision    recall  f1-score   support\n",
      "\n",
      "           1       0.80      0.83      0.81       504\n",
      "           2       0.00      0.00      0.00        14\n",
      "           3       0.83      0.05      0.09       107\n",
      "           4       0.92      0.24      0.38      3621\n",
      "           5       0.88      0.62      0.73     14542\n",
      "           6       0.98      1.00      0.99    318337\n",
      "           7       1.00      1.00      1.00    396580\n",
      "\n",
      "    accuracy                           0.99    733705\n",
      "   macro avg       0.77      0.53      0.57    733705\n",
      "weighted avg       0.99      0.99      0.99    733705\n",
      "\n"
     ]
    }
   ],
   "source": [
    "print(\"Decision Tree (Gini Index): Subcategory\\n\")\n",
    "print(confusion_matrix(test_labels['subcategory'],predictions_gi['subcategory']),\"\\n\")\n",
    "print(classification_report(test_labels['subcategory'],predictions_gi['subcategory']))"
   ]
  },
  {
   "cell_type": "markdown",
   "metadata": {},
   "source": [
    "**Gradient Boost**"
   ]
  },
  {
   "cell_type": "code",
   "execution_count": 102,
   "metadata": {},
   "outputs": [],
   "source": [
    "xgb_clf = GradientBoost()\n",
    "xgb_clf.fit(train_data,target_features)\n",
    "predictions_gb = xgb_clf.predict(test)"
   ]
  },
  {
   "cell_type": "code",
   "execution_count": 103,
   "metadata": {},
   "outputs": [
    {
     "name": "stdout",
     "output_type": "stream",
     "text": [
      "Gradient Boost: Attack\n",
      "\n",
      "[[   100      7]\n",
      " [     1 733597]] \n",
      "\n",
      "              precision    recall  f1-score   support\n",
      "\n",
      "           0       0.99      0.93      0.96       107\n",
      "           1       1.00      1.00      1.00    733598\n",
      "\n",
      "    accuracy                           1.00    733705\n",
      "   macro avg       1.00      0.97      0.98    733705\n",
      "weighted avg       1.00      1.00      1.00    733705\n",
      "\n"
     ]
    }
   ],
   "source": [
    "print(\"Gradient Boost: Attack\\n\")\n",
    "print(confusion_matrix(test_labels['attack'],predictions_gb['attack']),\"\\n\")\n",
    "print(classification_report(test_labels['attack'],predictions_gb['attack']))"
   ]
  },
  {
   "cell_type": "code",
   "execution_count": 104,
   "metadata": {},
   "outputs": [
    {
     "name": "stdout",
     "output_type": "stream",
     "text": [
      "Gradient Boost: Category\n",
      "\n",
      "[[385296     12      0      1      0]\n",
      " [    17 330094      1      0      0]\n",
      " [     0      0    100      7      0]\n",
      " [     0      1      0  18162      0]\n",
      " [     0      0      0      0     14]] \n",
      "\n",
      "              precision    recall  f1-score   support\n",
      "\n",
      "           0       1.00      1.00      1.00    385309\n",
      "           1       1.00      1.00      1.00    330112\n",
      "           2       0.99      0.93      0.96       107\n",
      "           3       1.00      1.00      1.00     18163\n",
      "           4       1.00      1.00      1.00        14\n",
      "\n",
      "    accuracy                           1.00    733705\n",
      "   macro avg       1.00      0.99      0.99    733705\n",
      "weighted avg       1.00      1.00      1.00    733705\n",
      "\n"
     ]
    }
   ],
   "source": [
    "print(\"Gradient Boost: Category\\n\")\n",
    "print(confusion_matrix(test_labels['category'],predictions_gb['category']),\"\\n\")\n",
    "print(classification_report(test_labels['category'],predictions_gb['category']))"
   ]
  },
  {
   "cell_type": "code",
   "execution_count": 105,
   "metadata": {},
   "outputs": [
    {
     "name": "stdout",
     "output_type": "stream",
     "text": [
      "Gradient Boost: Subcategory\n",
      "\n",
      "[[   496      0      1      0      1      6      0]\n",
      " [     0     14      0      0      0      0      0]\n",
      " [     0      0    100      0      7      0      0]\n",
      " [     0      0      0   3350    271      0      0]\n",
      " [     1      0      0    227  14314      0      0]\n",
      " [     0      0      0      0      0 318337      0]\n",
      " [     1      0      0      0      0      5 396574]] \n",
      "\n",
      "              precision    recall  f1-score   support\n",
      "\n",
      "           1       1.00      0.98      0.99       504\n",
      "           2       1.00      1.00      1.00        14\n",
      "           3       0.99      0.93      0.96       107\n",
      "           4       0.94      0.93      0.93      3621\n",
      "           5       0.98      0.98      0.98     14542\n",
      "           6       1.00      1.00      1.00    318337\n",
      "           7       1.00      1.00      1.00    396580\n",
      "\n",
      "    accuracy                           1.00    733705\n",
      "   macro avg       0.99      0.98      0.98    733705\n",
      "weighted avg       1.00      1.00      1.00    733705\n",
      "\n"
     ]
    }
   ],
   "source": [
    "print(\"Gradient Boost: Subcategory\\n\")\n",
    "print(confusion_matrix(test_labels['subcategory'],predictions_gb['subcategory']),\"\\n\")\n",
    "print(classification_report(test_labels['subcategory'],predictions_gb['subcategory']))"
   ]
  },
  {
   "cell_type": "markdown",
   "metadata": {},
   "source": [
    "**Multi Layer Perceptron**"
   ]
  },
  {
   "cell_type": "code",
   "execution_count": 106,
   "metadata": {},
   "outputs": [],
   "source": [
    "mlp_clf = MLP(hidden_layer_sizes=(8,8,8), activation='relu', solver='adam', max_iter=500)\n",
    "mlp_clf.fit(train_data,target_features)\n",
    "predictions_mlp = mlp_clf.predict(test)"
   ]
  },
  {
   "cell_type": "code",
   "execution_count": 107,
   "metadata": {},
   "outputs": [
    {
     "name": "stdout",
     "output_type": "stream",
     "text": [
      "Multi Layer Perceptron: Attack\n",
      "\n",
      "[[   101      6]\n",
      " [    38 733560]] \n",
      "\n",
      "              precision    recall  f1-score   support\n",
      "\n",
      "           0       0.73      0.94      0.82       107\n",
      "           1       1.00      1.00      1.00    733598\n",
      "\n",
      "    accuracy                           1.00    733705\n",
      "   macro avg       0.86      0.97      0.91    733705\n",
      "weighted avg       1.00      1.00      1.00    733705\n",
      "\n"
     ]
    }
   ],
   "source": [
    "print(\"Multi Layer Perceptron: Attack\\n\")\n",
    "print(confusion_matrix(test_labels['attack'],predictions_mlp['attack']),\"\\n\")\n",
    "print(classification_report(test_labels['attack'],predictions_mlp['attack']))"
   ]
  },
  {
   "cell_type": "code",
   "execution_count": 108,
   "metadata": {},
   "outputs": [
    {
     "name": "stdout",
     "output_type": "stream",
     "text": [
      "Multi Layer Perceptron: Category\n",
      "\n",
      "[[373867  10724      0    718      0]\n",
      " [ 11168 318754      3    187      0]\n",
      " [     7      8     66     26      0]\n",
      " [   333    449     26  17355      0]\n",
      " [     0      0      0     13      1]] \n",
      "\n",
      "              precision    recall  f1-score   support\n",
      "\n",
      "           0       0.97      0.97      0.97    385309\n",
      "           1       0.97      0.97      0.97    330112\n",
      "           2       0.69      0.62      0.65       107\n",
      "           3       0.95      0.96      0.95     18163\n",
      "           4       1.00      0.07      0.13        14\n",
      "\n",
      "    accuracy                           0.97    733705\n",
      "   macro avg       0.92      0.72      0.73    733705\n",
      "weighted avg       0.97      0.97      0.97    733705\n",
      "\n"
     ]
    }
   ],
   "source": [
    "print(\"Multi Layer Perceptron: Category\\n\")\n",
    "print(confusion_matrix(test_labels['category'],predictions_mlp['category']),\"\\n\")\n",
    "print(classification_report(test_labels['category'],predictions_mlp['category']))"
   ]
  },
  {
   "cell_type": "code",
   "execution_count": 109,
   "metadata": {},
   "outputs": [
    {
     "name": "stdout",
     "output_type": "stream",
     "text": [
      "Multi Layer Perceptron: Subcategory\n",
      "\n",
      "[[   399      0     17      3     69     16      0]\n",
      " [     0      1      0      1     12      0      0]\n",
      " [     8      0     70     20      2      4      3]\n",
      " [    13      0     13   1103   2307    168     17]\n",
      " [    68      0     34    183  13743    502     12]\n",
      " [   265      0      0     35    776 317260      1]\n",
      " [     2      0      0      0      0      9 396569]] \n",
      "\n",
      "              precision    recall  f1-score   support\n",
      "\n",
      "           1       0.53      0.79      0.63       504\n",
      "           2       1.00      0.07      0.13        14\n",
      "           3       0.52      0.65      0.58       107\n",
      "           4       0.82      0.30      0.44      3621\n",
      "           5       0.81      0.95      0.87     14542\n",
      "           6       1.00      1.00      1.00    318337\n",
      "           7       1.00      1.00      1.00    396580\n",
      "\n",
      "    accuracy                           0.99    733705\n",
      "   macro avg       0.81      0.68      0.67    733705\n",
      "weighted avg       0.99      0.99      0.99    733705\n",
      "\n"
     ]
    }
   ],
   "source": [
    "print(\"Multi Layer Perceptron: Subcategory\\n\")\n",
    "print(confusion_matrix(test_labels['subcategory'],predictions_mlp['subcategory']),\"\\n\")\n",
    "print(classification_report(test_labels['subcategory'],predictions_mlp['subcategory']))"
   ]
  },
  {
   "cell_type": "markdown",
   "metadata": {},
   "source": [
    "**Support Vector Machine**"
   ]
  },
  {
   "cell_type": "code",
   "execution_count": 110,
   "metadata": {},
   "outputs": [
    {
     "name": "stdout",
     "output_type": "stream",
     "text": [
      "Support Vector Machine: Attack\n",
      "\n",
      "[[     8     99]\n",
      " [     0 733598]] \n",
      "\n",
      "              precision    recall  f1-score   support\n",
      "\n",
      "           0       1.00      0.07      0.14       107\n",
      "           1       1.00      1.00      1.00    733598\n",
      "\n",
      "    accuracy                           1.00    733705\n",
      "   macro avg       1.00      0.54      0.57    733705\n",
      "weighted avg       1.00      1.00      1.00    733705\n",
      "\n",
      "Support Vector Machine: Category\n",
      "\n",
      "[[335757  49379      0    173      0]\n",
      " [ 58446 271585      0     81      0]\n",
      " [     0     99      8      0      0]\n",
      " [ 10446   2310      0   5407      0]\n",
      " [     0     14      0      0      0]] \n",
      "\n",
      "              precision    recall  f1-score   support\n",
      "\n",
      "           0       0.83      0.87      0.85    385309\n",
      "           1       0.84      0.82      0.83    330112\n",
      "           2       1.00      0.07      0.14       107\n",
      "           3       0.96      0.30      0.45     18163\n",
      "           4       0.00      0.00      0.00        14\n",
      "\n",
      "    accuracy                           0.84    733705\n",
      "   macro avg       0.72      0.41      0.45    733705\n",
      "weighted avg       0.84      0.84      0.83    733705\n",
      "\n",
      "Support Vector Machine: Subcategory\n",
      "\n",
      "[[     0      0      0      0     61    443      0]\n",
      " [     0      0      0      0      0      9      5]\n",
      " [     0      0     12      1      0     87      7]\n",
      " [     0      0      0     16    286   3218    101]\n",
      " [     1      0     12     16   5071   7646   1796]\n",
      " [     0      0      3      0    193 314775   3366]\n",
      " [     0      0      0      0      0   8701 387879]] \n",
      "\n",
      "              precision    recall  f1-score   support\n",
      "\n",
      "           1       0.00      0.00      0.00       504\n",
      "           2       0.00      0.00      0.00        14\n",
      "           3       0.44      0.11      0.18       107\n",
      "           4       0.48      0.00      0.01      3621\n",
      "           5       0.90      0.35      0.50     14542\n",
      "           6       0.94      0.99      0.96    318337\n",
      "           7       0.99      0.98      0.98    396580\n",
      "\n",
      "    accuracy                           0.96    733705\n",
      "   macro avg       0.54      0.35      0.38    733705\n",
      "weighted avg       0.96      0.96      0.96    733705\n",
      "\n"
     ]
    }
   ],
   "source": [
    "svc_clf =  SupportVectorMachine()\n",
    "svc_clf.fit(train_data,target_features)\n",
    "predictions_svc = svc_clf.predict(test)\n",
    "\n",
    "print(\"Support Vector Machine: Attack\\n\")\n",
    "print(confusion_matrix(test_labels['attack'],predictions_svc['attack']),\"\\n\")\n",
    "print(classification_report(test_labels['attack'],predictions_svc['attack']))\n",
    "\n",
    "print(\"Support Vector Machine: Category\\n\")\n",
    "print(confusion_matrix(test_labels['category'],predictions_svc['category']),\"\\n\")\n",
    "print(classification_report(test_labels['category'],predictions_svc['category']))\n",
    "\n",
    "print(\"Support Vector Machine: Subcategory\\n\")\n",
    "print(confusion_matrix(test_labels['subcategory'],predictions_svc['subcategory']),\"\\n\")\n",
    "print(classification_report(test_labels['subcategory'],predictions_svc['subcategory']))"
   ]
  },
  {
   "cell_type": "markdown",
   "metadata": {},
   "source": [
    "**Logistic Regression**"
   ]
  },
  {
   "cell_type": "code",
   "execution_count": 111,
   "metadata": {},
   "outputs": [
    {
     "name": "stdout",
     "output_type": "stream",
     "text": [
      "Logistic Regression: Attack\n",
      "\n",
      "[[     9     98]\n",
      " [     9 733589]] \n",
      "\n",
      "              precision    recall  f1-score   support\n",
      "\n",
      "           0       0.50      0.08      0.14       107\n",
      "           1       1.00      1.00      1.00    733598\n",
      "\n",
      "    accuracy                           1.00    733705\n",
      "   macro avg       0.75      0.54      0.57    733705\n",
      "weighted avg       1.00      1.00      1.00    733705\n",
      "\n",
      "Logistic Regression: Category\n",
      "\n",
      "[[341989  41868      1   1451      0]\n",
      " [ 49092 276171      1   4848      0]\n",
      " [     0     50     11     46      0]\n",
      " [  4567   2011     19  11566      0]\n",
      " [     0     14      0      0      0]] \n",
      "\n",
      "              precision    recall  f1-score   support\n",
      "\n",
      "           0       0.86      0.89      0.88    385309\n",
      "           1       0.86      0.84      0.85    330112\n",
      "           2       0.34      0.10      0.16       107\n",
      "           3       0.65      0.64      0.64     18163\n",
      "           4       0.00      0.00      0.00        14\n",
      "\n",
      "    accuracy                           0.86    733705\n",
      "   macro avg       0.54      0.49      0.50    733705\n",
      "weighted avg       0.86      0.86      0.86    733705\n",
      "\n",
      "Logistic Regression: Subcategory\n",
      "\n",
      "[[    24      0      1      0    199    280      0]\n",
      " [     0      0      0      0      0      9      5]\n",
      " [     0      0      9      0     48     46      4]\n",
      " [     0      0      0      0   2193   1354     74]\n",
      " [     0      0      6      3   9379   3333   1821]\n",
      " [     0      0      1      0   6099 311508    729]\n",
      " [     0      0      1      0      0    700 395879]] \n",
      "\n",
      "              precision    recall  f1-score   support\n",
      "\n",
      "           1       1.00      0.05      0.09       504\n",
      "           2       0.00      0.00      0.00        14\n",
      "           3       0.50      0.08      0.14       107\n",
      "           4       0.00      0.00      0.00      3621\n",
      "           5       0.52      0.64      0.58     14542\n",
      "           6       0.98      0.98      0.98    318337\n",
      "           7       0.99      1.00      1.00    396580\n",
      "\n",
      "    accuracy                           0.98    733705\n",
      "   macro avg       0.57      0.39      0.40    733705\n",
      "weighted avg       0.97      0.98      0.98    733705\n",
      "\n"
     ]
    }
   ],
   "source": [
    "lr_clf =  Logistic_Regression()\n",
    "lr_clf.fit(train_data,target_features)\n",
    "predictions_lr = lr_clf.predict(test)\n",
    "\n",
    "print(\"Logistic Regression: Attack\\n\")\n",
    "print(confusion_matrix(test_labels['attack'],predictions_lr['attack']),\"\\n\")\n",
    "print(classification_report(test_labels['attack'],predictions_lr['attack']))\n",
    "\n",
    "print(\"Logistic Regression: Category\\n\")\n",
    "print(confusion_matrix(test_labels['category'],predictions_lr['category']),\"\\n\")\n",
    "print(classification_report(test_labels['category'],predictions_lr['category']))\n",
    "\n",
    "print(\"Logistic Regression: Subcategory\\n\")\n",
    "print(confusion_matrix(test_labels['subcategory'],predictions_lr['subcategory']),\"\\n\")\n",
    "print(classification_report(test_labels['subcategory'],predictions_lr['subcategory']))"
   ]
  },
  {
   "cell_type": "code",
   "execution_count": null,
   "metadata": {},
   "outputs": [],
   "source": []
  },
  {
   "cell_type": "markdown",
   "metadata": {},
   "source": [
    "# END OF NOTEBOOK"
   ]
  },
  {
   "cell_type": "markdown",
   "metadata": {},
   "source": []
  },
  {
   "cell_type": "code",
   "execution_count": null,
   "metadata": {},
   "outputs": [],
   "source": []
  },
  {
   "cell_type": "code",
   "execution_count": null,
   "metadata": {},
   "outputs": [],
   "source": []
  },
  {
   "cell_type": "code",
   "execution_count": null,
   "metadata": {},
   "outputs": [],
   "source": []
  },
  {
   "cell_type": "code",
   "execution_count": null,
   "metadata": {},
   "outputs": [],
   "source": []
  }
 ],
 "metadata": {
  "kernelspec": {
   "display_name": "Python 3 (ipykernel)",
   "language": "python",
   "name": "python3"
  },
  "language_info": {
   "codemirror_mode": {
    "name": "ipython",
    "version": 3
   },
   "file_extension": ".py",
   "mimetype": "text/x-python",
   "name": "python",
   "nbconvert_exporter": "python",
   "pygments_lexer": "ipython3",
   "version": "3.9.5"
  }
 },
 "nbformat": 4,
 "nbformat_minor": 4
}
